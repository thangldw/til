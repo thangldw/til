{
  "cells": [
    {
      "attachments": {},
      "cell_type": "markdown",
      "metadata": {
        "id": "Ar2VPyHWBRBG"
      },
      "source": [
        "# 第4章　scikit-learn を用いたトランスクリプトームデータの分類\n",
        "\n",
        "- 澤田 高志\n",
        "- 清水 秀幸"
      ]
    },
    {
      "cell_type": "markdown",
      "metadata": {
        "id": "d3dpnYEVjl2h"
      },
      "source": [
        "##### 入力4-1"
      ]
    },
    {
      "cell_type": "code",
      "execution_count": null,
      "metadata": {
        "id": "bh4RhAUXa97a"
      },
      "outputs": [],
      "source": [
        "!pip install optuna"
      ]
    },
    {
      "cell_type": "markdown",
      "metadata": {
        "id": "wKztzuimH6qE"
      },
      "source": [
        "##### 入力4-2"
      ]
    },
    {
      "cell_type": "code",
      "execution_count": null,
      "metadata": {
        "id": "vHj0R_tB47qK"
      },
      "outputs": [],
      "source": [
        "# パッケージのインポート\n",
        "%matplotlib inline\n",
        "import matplotlib\n",
        "import matplotlib.pyplot as plt\n",
        "import numpy as np\n",
        "import optuna\n",
        "import pandas as pd\n",
        "import seaborn as sns\n",
        "import sklearn"
      ]
    },
    {
      "cell_type": "markdown",
      "metadata": {
        "id": "48nJHXU_IAMc"
      },
      "source": [
        "##### 入力4-3"
      ]
    },
    {
      "cell_type": "code",
      "execution_count": null,
      "metadata": {
        "id": "Qndo1TDo47nM"
      },
      "outputs": [],
      "source": [
        "# バージョンの確認\n",
        "print('numpy: ', np.__version__)\n",
        "print('pandas: ', pd.__version__)\n",
        "print('matplotlib: ', matplotlib.__version__)\n",
        "print('sklearn: ', sklearn.__version__)\n",
        "print('seaborn: ', sns.__version__)\n",
        "print('optuna: ', optuna.__version__)"
      ]
    },
    {
      "cell_type": "markdown",
      "metadata": {
        "id": "i1abkC-tjl2i"
      },
      "source": [
        "##### 入力4-4"
      ]
    },
    {
      "cell_type": "code",
      "execution_count": null,
      "metadata": {
        "id": "Bv76aa_db4Vu"
      },
      "outputs": [],
      "source": [
        "# アップロードしたcsvファイルを読み込む\n",
        "gse_mRNA_exprs_normal_selected = pd.read_csv(\n",
        "    '/content/GSE36376_normal.csv', index_col=0\n",
        ")\n",
        "gse_mRNA_exprs_tumor_selected = pd.read_csv(\n",
        "    '/content/GSE36376_tumor.csv', index_col=0\n",
        ")"
      ]
    },
    {
      "cell_type": "markdown",
      "metadata": {
        "id": "ZxkUeJaBbjcS"
      },
      "source": [
        "##### 入力4-5"
      ]
    },
    {
      "cell_type": "code",
      "execution_count": null,
      "metadata": {
        "id": "R-ne4dAIjl2i"
      },
      "outputs": [],
      "source": [
        "# ようやく前処理が終わり，ここから肝臓がんと周辺正常組織の区別を行うための\n",
        "# 分類器を構築することにしよう\n",
        "\n",
        "# 新たにclass labelを作り，正常を0，がんを1とする\n",
        "gse_mRNA_exprs_normal_selected.loc['class'] = 0\n",
        "gse_mRNA_exprs_tumor_selected.loc['class'] = 1"
      ]
    },
    {
      "cell_type": "markdown",
      "metadata": {
        "id": "QEHn_6QVLUm6"
      },
      "source": [
        "##### 入力4-6"
      ]
    },
    {
      "cell_type": "code",
      "execution_count": null,
      "metadata": {
        "id": "1I7O8fuUjl2i"
      },
      "outputs": [],
      "source": [
        "# 簡単な分類器を作るために，データを訓練データとテストデータに分割する.\n",
        "# これは，scikit-learnのtrain_test_split関数を使うことで実現できる\n",
        "# デフォルトでは順番もシャッフルされている\n",
        "from sklearn.model_selection import train_test_split\n",
        "\n",
        "# 転置したものをtrain_test_splitで分ける.train_size=0.75で元のデータを75%と25%に分けられる\n",
        "gse_mRNA_exprs_normal_selected_train, gse_mRNA_exprs_normal_selected_test = train_test_split(\n",
        "    gse_mRNA_exprs_normal_selected.T, train_size=0.75, random_state=0)\n",
        "gse_mRNA_exprs_tumor_selected_train, gse_mRNA_exprs_tumor_selected_test = train_test_split(\n",
        "    gse_mRNA_exprs_tumor_selected.T, train_size=0.75, random_state=0)"
      ]
    },
    {
      "cell_type": "markdown",
      "metadata": {
        "id": "1rz4u4KfLfJ0"
      },
      "source": [
        "##### 入力4-7"
      ]
    },
    {
      "cell_type": "code",
      "execution_count": null,
      "metadata": {
        "id": "BJ-8KcQpjl2i"
      },
      "outputs": [],
      "source": [
        "# X_train, y_train, X_test, y_testデータを作り出す\n",
        "gse_mRNA_exprs_train = pd.concat(\n",
        "    [gse_mRNA_exprs_normal_selected_train, gse_mRNA_exprs_tumor_selected_train]\n",
        ")\n",
        "# X_trainは発現量のデータ\n",
        "X_train = gse_mRNA_exprs_train.iloc[:, 0:-1]\n",
        "# y_trainはそのサンプルが0(正常)か1(がん)かのデータ. -1で最後の列を指定できる.\n",
        "y_train = gse_mRNA_exprs_train.iloc[:, -1]\n",
        "gse_mRNA_exprs_test = pd.concat(\n",
        "    [gse_mRNA_exprs_normal_selected_test, gse_mRNA_exprs_tumor_selected_test]\n",
        ")\n",
        "X_test = gse_mRNA_exprs_test.iloc[:, 0:-1]\n",
        "y_test = gse_mRNA_exprs_test.iloc[:, -1]"
      ]
    },
    {
      "cell_type": "markdown",
      "metadata": {
        "id": "Tp_ZKl64LrW0"
      },
      "source": [
        "##### 入力4-8"
      ]
    },
    {
      "cell_type": "code",
      "execution_count": null,
      "metadata": {
        "id": "wcuDxiWyqQ9v"
      },
      "outputs": [],
      "source": [
        "# データの確認\n",
        "X_train.describe()"
      ]
    },
    {
      "cell_type": "markdown",
      "metadata": {
        "id": "RLKJ_pGhLVZ0"
      },
      "source": [
        "##### 入力4-9"
      ]
    },
    {
      "cell_type": "code",
      "execution_count": null,
      "metadata": {
        "id": "DcXJNcQmqQ9v"
      },
      "outputs": [],
      "source": [
        "# 元々quantile正規化を行っていたデータなので，平均も分散も似たような値でまとまっているのだが\n",
        "# 標準化するほうが一般的なので実行してみよう\n",
        "from sklearn.preprocessing import StandardScaler\n",
        "\n",
        "sc = StandardScaler()\n",
        "# StandardScalerのfitメソッドを取ってくる\n",
        "# 訓練データの平均値と標準偏差の情報がsc.に与えられる.\n",
        "sc.fit(X_train)\n",
        "\n",
        "# 訓練データの平均と標準偏差をもとに標準化\n",
        "X_train_std = sc.transform(X_train)\n",
        "X_test_std = sc.transform(X_test)\n",
        "\n",
        "# データフレーム型にして確認\n",
        "X_train_std_df = pd.DataFrame(X_train_std)\n",
        "X_train_std_df.columns = X_train.columns\n",
        "# 浮動小数点数の関係で平均は完全に0になるわけではない. 標準偏差も完全に1ではない\n",
        "X_train_std_df.describe()"
      ]
    },
    {
      "cell_type": "markdown",
      "metadata": {
        "id": "Z9I-sKgOMP5e"
      },
      "source": [
        "##### 入力4-10"
      ]
    },
    {
      "cell_type": "code",
      "execution_count": null,
      "metadata": {
        "id": "xPUR9mizjl2j"
      },
      "outputs": [],
      "source": [
        "# データフレーム型にして確認\n",
        "X_test_std_df = pd.DataFrame(X_test_std)\n",
        "X_test_std_df.columns = X_test.columns\n",
        "# テストデータセットは訓練データセットの平均で差し引かれ，訓練データセットの標準偏差で割られている\n",
        "# そのため，平均値は0に近い値，標準偏差は1に近い値になっている\n",
        "X_test_std_df.describe()"
      ]
    },
    {
      "cell_type": "markdown",
      "metadata": {
        "id": "lKZUJQ01jl2j"
      },
      "source": [
        "##### 入力4-11"
      ]
    },
    {
      "cell_type": "code",
      "execution_count": null,
      "metadata": {
        "id": "bSz9I-PCjl2j"
      },
      "outputs": [],
      "source": [
        "# さて，ようやく分類器を扱ってみる\n",
        "from sklearn.metrics import roc_auc_score\n",
        "from sklearn.model_selection import StratifiedKFold\n",
        "from sklearn.svm import SVC\n",
        "\n",
        "# 線形SVMのインスタンスを生成. ハイパーパラメータはとりあえずC=1, gamma=1\n",
        "clf = SVC(kernel='linear', C=1, gamma=1, random_state=0, probability=True)\n",
        "# 線形SVMのモデルにトレーニングデータを適合させる\n",
        "clf.fit(X_train_std, y_train)\n",
        "\n",
        "# まずは訓練データでの成果を確認する\n",
        "\n",
        "# clf.predict()ではラベルを返すが，clf.predict_proba()では確率を返す.\n",
        "# 例えば，clf.predict_proba(X_train_std)[:, 1]の結果，ラベル1である確率が0.05だったサンプルについて\n",
        "# clf.predict(X_train_std)の値は0になる\n",
        "y_train_pred = clf.predict_proba(X_train_std)[:, 1]\n",
        "roc_auc_score(y_train, y_train_pred)"
      ]
    },
    {
      "cell_type": "markdown",
      "metadata": {
        "id": "GB1tqNZ1j6k_"
      },
      "source": [
        "##### 入力4-12"
      ]
    },
    {
      "cell_type": "code",
      "execution_count": null,
      "metadata": {
        "id": "mN1-ncYijl2j"
      },
      "outputs": [],
      "source": [
        "# test scoreは？\n",
        "y_pred = clf.predict_proba(X_test_std)[:, 1]\n",
        "test_score = roc_auc_score(y_test, y_pred)\n",
        "print(test_score)"
      ]
    },
    {
      "cell_type": "markdown",
      "metadata": {
        "id": "dVW82eX5V1qA"
      },
      "source": [
        "##### 入力4-13"
      ]
    },
    {
      "cell_type": "code",
      "execution_count": null,
      "metadata": {
        "id": "mLS3sykj_BcB"
      },
      "outputs": [],
      "source": [
        "from sklearn.metrics import auc, roc_curve\n",
        "\n",
        "# ROC-AUC\n",
        "fpr_test, tpr_test, thresholds_test = roc_curve(y_test, y_pred)\n",
        "auc_test = auc(fpr_test, tpr_test)\n",
        "\n",
        "# ROC曲線を描く\n",
        "plt.plot([0, 1], [0, 1], color='black', linestyle='--')\n",
        "\n",
        "plt.plot(fpr_test, tpr_test, label='SVM (AUC = %.3f)' % auc_test)\n",
        "plt.fill_between(fpr_test, tpr_test, 0, alpha=0.1)\n",
        "\n",
        "plt.legend()\n",
        "plt.title('SVM')\n",
        "plt.xlabel('False_Positive_Rate')\n",
        "plt.ylabel('True_Positive_Rate')\n",
        "plt.grid(True)\n",
        "plt.show()"
      ]
    },
    {
      "cell_type": "markdown",
      "metadata": {
        "id": "WEd_bmSnnAFS"
      },
      "source": [
        "##### 入力4-14"
      ]
    },
    {
      "cell_type": "code",
      "execution_count": null,
      "metadata": {
        "id": "YWfiQIO2HV32"
      },
      "outputs": [],
      "source": [
        "# i番目のy_pred，つまりy_pred[i]が0.5より大きい場合1に，そうでない場合0に変換する.\n",
        "# リスト内包表記とよばれる記法で，普通のif文と比べ速度が上がる\n",
        "y_pred_label = [1 if y_pred[i] > 0.5 else 0 for i in range(len(y_pred))]\n",
        "\n",
        "from sklearn.metrics import classification_report, confusion_matrix\n",
        "\n",
        "confusion_matrix(y_test, y_pred_label)"
      ]
    },
    {
      "cell_type": "markdown",
      "metadata": {
        "id": "fgN7iqKQqpRB"
      },
      "source": [
        "##### 入力4-15"
      ]
    },
    {
      "cell_type": "code",
      "execution_count": null,
      "metadata": {
        "id": "W0GmWPkrqpRB"
      },
      "outputs": [],
      "source": [
        "from sklearn.metrics import classification_report\n",
        "\n",
        "print(classification_report(y_test, y_pred_label))"
      ]
    },
    {
      "cell_type": "markdown",
      "metadata": {
        "id": "MTrAQ4Y9qQ92"
      },
      "source": [
        "##### 入力4-16"
      ]
    },
    {
      "cell_type": "code",
      "execution_count": null,
      "metadata": {
        "id": "OGnCaHImqQ92"
      },
      "outputs": [],
      "source": [
        "from sklearn.model_selection import train_test_split\n",
        "\n",
        "# 転置したものをtrain_test_splitで分ける\n",
        "# まずはtrainvalデータセットとtestデータに分ける.\n",
        "# testは全体の25%，trainvalが75%\n",
        "gse_mRNA_exprs_normal_selected_trainval, gse_mRNA_exprs_normal_selected_test = train_test_split(\n",
        "    gse_mRNA_exprs_normal_selected.T, train_size=0.75, random_state=0)\n",
        "gse_mRNA_exprs_tumor_selected_trainval, gse_mRNA_exprs_tumor_selected_test = train_test_split(\n",
        "    gse_mRNA_exprs_tumor_selected.T, train_size=0.75, random_state=0)\n",
        "\n",
        "# 次にtrainvalデータセットをtrainとvalに分ける.\n",
        "# trainが全体の50%，valが全体の25%\n",
        "gse_mRNA_exprs_normal_selected_train, gse_mRNA_exprs_normal_selected_val = train_test_split(\n",
        "    gse_mRNA_exprs_normal_selected_trainval, train_size=0.667, random_state=0)\n",
        "gse_mRNA_exprs_tumor_selected_train, gse_mRNA_exprs_tumor_selected_val = train_test_split(\n",
        "    gse_mRNA_exprs_tumor_selected_trainval, train_size=0.667, random_state=0)"
      ]
    },
    {
      "cell_type": "markdown",
      "metadata": {
        "id": "jBUa6JEVPi4T"
      },
      "source": [
        "##### 入力4-17"
      ]
    },
    {
      "cell_type": "code",
      "execution_count": null,
      "metadata": {
        "id": "dFU-ZaFdqQ92"
      },
      "outputs": [],
      "source": [
        "# trainデータ，validationデータ，testデータを作り出す\n",
        "gse_mRNA_exprs_train = pd.concat(\n",
        "    [gse_mRNA_exprs_normal_selected_train, gse_mRNA_exprs_tumor_selected_train]\n",
        ")\n",
        "X_train = gse_mRNA_exprs_train.iloc[:, 0:-1]\n",
        "y_train = gse_mRNA_exprs_train.iloc[:, -1]\n",
        "\n",
        "gse_mRNA_exprs_val = pd.concat(\n",
        "    [gse_mRNA_exprs_normal_selected_val, gse_mRNA_exprs_tumor_selected_val]\n",
        ")\n",
        "X_val = gse_mRNA_exprs_val.iloc[:, 0:-1]\n",
        "y_val = gse_mRNA_exprs_val.iloc[:, -1]\n",
        "\n",
        "gse_mRNA_exprs_test = pd.concat(\n",
        "    [gse_mRNA_exprs_normal_selected_test, gse_mRNA_exprs_tumor_selected_test]\n",
        ")\n",
        "X_test = gse_mRNA_exprs_test.iloc[:, 0:-1]\n",
        "y_test = gse_mRNA_exprs_test.iloc[:, -1]"
      ]
    },
    {
      "cell_type": "markdown",
      "metadata": {
        "id": "99ElN7iISLSi"
      },
      "source": [
        "##### 入力4-18"
      ]
    },
    {
      "cell_type": "code",
      "execution_count": null,
      "metadata": {
        "id": "uOy0OtM4qQ92"
      },
      "outputs": [],
      "source": [
        "# 標準化を行う\n",
        "from sklearn.preprocessing import StandardScaler\n",
        "\n",
        "sc = StandardScaler()\n",
        "sc.fit(X_train)\n",
        "\n",
        "X_train_std = sc.transform(X_train)\n",
        "X_val_std = sc.transform(X_val)\n",
        "X_test_std = sc.transform(X_test)"
      ]
    },
    {
      "cell_type": "markdown",
      "metadata": {
        "id": "8Pux9XyxSLSj"
      },
      "source": [
        "##### 入力4-19"
      ]
    },
    {
      "cell_type": "code",
      "execution_count": null,
      "metadata": {
        "id": "ygYanUvVqQ92"
      },
      "outputs": [],
      "source": [
        "kernel = ['linear', 'rbf']\n",
        "C = [0.001, 0.01, 0.1, 1, 10, 100, 1000]\n",
        "gamma = [0.001, 0.01, 0.1, 1, 10, 100, 1000]\n",
        "\n",
        "# 当面の最高スコアを0としておいて後で更新していく\n",
        "best_score = 0\n",
        "\n",
        "# グリッドサーチの実装のためにfor文を積み重ねる\n",
        "for i in kernel:\n",
        "    for j in C:\n",
        "        for k in gamma:\n",
        "            clf = SVC(kernel=i, C=j, gamma=k, random_state=0, probability=True)\n",
        "            clf.fit(X_train_std, y_train)\n",
        "            y_val_pred = clf.predict_proba(X_val_std)[:, 1]\n",
        "            gs_score = roc_auc_score(y_val, y_val_pred)\n",
        "\n",
        "            # ハイパーパラメータやスコアの中身を詳しく見たい場合，以下コードの#を外す\n",
        "            # print('kernel: {}'.format(i), 'C: {}'.format(j), 'gamma: {}'.format(k))\n",
        "            # print('score: {}'.format(gs_score))\n",
        "\n",
        "            # gs_scoreが現在のbest_scoreを超えた場合，best_scoreとbest_paramsを更新する\n",
        "            if gs_score > best_score:\n",
        "                best_score = gs_score\n",
        "                best_params = {'kernel': i, 'C': j, 'gamma': k}"
      ]
    },
    {
      "cell_type": "markdown",
      "metadata": {
        "id": "SPyzDEafQgg9"
      },
      "source": [
        "##### 入力4-20"
      ]
    },
    {
      "cell_type": "code",
      "execution_count": null,
      "metadata": {
        "id": "ZFtK3-NPqQ93"
      },
      "outputs": [],
      "source": [
        "print(best_score)\n",
        "print(best_params)"
      ]
    },
    {
      "cell_type": "markdown",
      "metadata": {
        "id": "mOPhnA7tSLSj"
      },
      "source": [
        "##### 入力4-21"
      ]
    },
    {
      "cell_type": "code",
      "execution_count": null,
      "metadata": {
        "id": "02WYLY9xSLSj"
      },
      "outputs": [],
      "source": [
        "# これをテストデータセットに適用する.\n",
        "from sklearn.metrics import roc_auc_score\n",
        "\n",
        "clf = SVC(**best_params, random_state=0, probability=True)\n",
        "clf.fit(X_train_std, y_train)\n",
        "y_pred = clf.predict_proba(X_test_std)[:, 1]\n",
        "test_score = roc_auc_score(y_test, y_pred)\n",
        "print(test_score)"
      ]
    },
    {
      "cell_type": "markdown",
      "metadata": {
        "id": "jDupbFT7URzm"
      },
      "source": [
        "##### 入力4-22"
      ]
    },
    {
      "cell_type": "code",
      "execution_count": null,
      "metadata": {
        "id": "WcbrzDcy_Bca"
      },
      "outputs": [],
      "source": [
        "from sklearn.metrics import auc, roc_curve\n",
        "\n",
        "# ROC-AUC\n",
        "fpr_test, tpr_test, thresholds_test = roc_curve(y_test, y_pred)\n",
        "auc_test = auc(fpr_test, tpr_test)\n",
        "\n",
        "# ROC曲線を描く\n",
        "plt.plot([0, 1], [0, 1], color='black', linestyle='--')\n",
        "\n",
        "plt.plot(fpr_test, tpr_test, label='GridSearch+SVM (AUC = %.3f)' % auc_test)\n",
        "plt.fill_between(fpr_test, tpr_test, 0, alpha=0.1)\n",
        "\n",
        "plt.legend()\n",
        "plt.title('GridSearch+SVM')\n",
        "plt.xlabel('False_Positive_Rate')\n",
        "plt.ylabel('True_Positive_Rate')\n",
        "plt.grid(True)\n",
        "plt.show()"
      ]
    },
    {
      "cell_type": "markdown",
      "metadata": {
        "id": "I4aNl_pyUcH1"
      },
      "source": [
        "##### 入力4-23"
      ]
    },
    {
      "cell_type": "code",
      "execution_count": null,
      "metadata": {
        "id": "Yjjr72EiGe4b"
      },
      "outputs": [],
      "source": [
        "# y_predが0.5より大きい場合1に，そうでない場合0にする.\n",
        "y_pred_label = [1 if y_pred[i] > 0.5 else 0 for i in range(len(y_pred))]\n",
        "\n",
        "from sklearn.metrics import classification_report, confusion_matrix\n",
        "\n",
        "print(confusion_matrix(y_test, y_pred_label))\n",
        "print(classification_report(y_test, y_pred_label))"
      ]
    },
    {
      "cell_type": "markdown",
      "metadata": {
        "id": "6BLMG-RgqQ95"
      },
      "source": [
        "##### 入力4-24"
      ]
    },
    {
      "cell_type": "code",
      "execution_count": null,
      "metadata": {
        "id": "S8m5zXWYjl2j"
      },
      "outputs": [],
      "source": [
        "# GridSearchCVでより簡単に検証ができる\n",
        "from sklearn.model_selection import GridSearchCV\n",
        "hyperparameters_gs = {\n",
        "    'kernel': ['linear', 'rbf'],\n",
        "    'C': [0.001, 0.01, 0.1, 1, 10, 100, 1000],\n",
        "    'gamma': [0.001, 0.01, 0.1, 1, 10, 100, 1000],\n",
        "    'random_state': [0],\n",
        "    'probability': [True],\n",
        "}\n",
        "\n",
        "# K分割交差検証の，「分割」の部分. KFold()ではなく，StratifiedKFold()を使うことで\n",
        "# NormalとTumorの比率を揃えたまま分割できる\n",
        "skf = StratifiedKFold(n_splits=3, shuffle=True, random_state=0)\n",
        "\n",
        "grid_search = GridSearchCV(\n",
        "      # 'roc_auc'も選択できるが，ここではF1スコアを最大とするハイパーパラメータを探す\n",
        "      SVC(), param_grid=hyperparameters_gs, cv=skf, scoring='f1'\n",
        ")\n",
        "grid_search.fit(X_train_std, y_train)"
      ]
    },
    {
      "cell_type": "markdown",
      "metadata": {
        "id": "ZUeNPDpxUvKU"
      },
      "source": [
        "##### 入力4-25"
      ]
    },
    {
      "cell_type": "code",
      "execution_count": null,
      "metadata": {
        "id": "ZkLEL2Hgjl2k"
      },
      "outputs": [],
      "source": [
        "grid_search.best_score_"
      ]
    },
    {
      "cell_type": "markdown",
      "metadata": {
        "id": "tddeJcd5U08A"
      },
      "source": [
        "##### 入力4-26"
      ]
    },
    {
      "cell_type": "code",
      "execution_count": null,
      "metadata": {
        "id": "Y7KKZtUdjl2k"
      },
      "outputs": [],
      "source": [
        "grid_search.best_estimator_"
      ]
    },
    {
      "cell_type": "markdown",
      "metadata": {
        "id": "5axzRTIgSLSn"
      },
      "source": [
        "##### 入力4-27"
      ]
    },
    {
      "cell_type": "code",
      "execution_count": null,
      "metadata": {
        "id": "6An6_j87SLSn"
      },
      "outputs": [],
      "source": [
        "model = grid_search.best_estimator_\n",
        "y_pred = model.predict_proba(X_test_std)[:, 1]\n",
        "score = roc_auc_score(y_test, y_pred)\n",
        "score"
      ]
    },
    {
      "cell_type": "markdown",
      "metadata": {
        "id": "Te2B0jIIVDv_"
      },
      "source": [
        "##### 入力4-28"
      ]
    },
    {
      "cell_type": "code",
      "execution_count": null,
      "metadata": {
        "id": "6c-wvw06_Bch"
      },
      "outputs": [],
      "source": [
        "from sklearn.metrics import auc, roc_curve\n",
        "\n",
        "# ROC-AUC\n",
        "fpr_test, tpr_test, thresholds_test = roc_curve(y_test, y_pred)\n",
        "auc_test = auc(fpr_test, tpr_test)\n",
        "\n",
        "# ROC曲線を描く\n",
        "plt.plot([0, 1], [0, 1], color='black', linestyle='--')\n",
        "\n",
        "plt.plot(fpr_test, tpr_test, label='GridSearchCV+SVM (AUC = %.3f)' % auc_test)\n",
        "plt.fill_between(fpr_test, tpr_test, 0, alpha=0.1)\n",
        "\n",
        "plt.legend()\n",
        "plt.title('GridSearchCV+SVM')\n",
        "plt.xlabel('False_Positive_Rate')\n",
        "plt.ylabel('True_Positive_Rate')\n",
        "plt.grid(True)\n",
        "plt.show()"
      ]
    },
    {
      "cell_type": "markdown",
      "metadata": {
        "id": "yZDlcWjbVJYP"
      },
      "source": [
        "##### 入力4-29"
      ]
    },
    {
      "cell_type": "code",
      "execution_count": null,
      "metadata": {
        "id": "0Ga3pWOdHBIb"
      },
      "outputs": [],
      "source": [
        "# y_predが0.5より大きい場合1に，そうでない場合0にする.\n",
        "y_pred_label = [1 if y_pred[i] > 0.5 else 0 for i in range(len(y_pred))]\n",
        "\n",
        "from sklearn.metrics import classification_report, confusion_matrix\n",
        "# 混同行列とclassification_reportを表示する.\n",
        "print(confusion_matrix(y_test, y_pred_label))\n",
        "print(classification_report(y_test, y_pred_label))"
      ]
    },
    {
      "cell_type": "markdown",
      "metadata": {
        "id": "zRDt8xLWVTSZ"
      },
      "source": [
        "##### 入力4-30"
      ]
    },
    {
      "cell_type": "code",
      "execution_count": null,
      "metadata": {
        "id": "7Sani_xtjl2k"
      },
      "outputs": [],
      "source": [
        "from functools import partial\n",
        "import optuna\n",
        "\n",
        "from sklearn.model_selection import cross_val_score\n",
        "\n",
        "def objective_svc(trial):\n",
        "    '''最適化すべき目的関数'''\n",
        "    params_svc = {\n",
        "    # trialはハイパーパラメータの範囲を指定する\n",
        "    # 'kernel'はカテゴリカル変数: 'linear'か'rbf'かをoptunaに選ばせる\n",
        "    'kernel': trial.suggest_categorical('kernel', ['linear', 'rbf']),\n",
        "    # 'C'は連続値だが，対数的な取り方を行う. 0.001から1000までの値をOptunaに選ばせる\n",
        "    'C': trial.suggest_float('C', 1e-3, 1e3, log=True),\n",
        "    # 'gamma'も連続値だが，対数的な取り方を行う. 0.001から1000までの値をOptunaに選ばせる\n",
        "    'gamma': trial.suggest_float('gamma', 1e-3, 1e3, log=True),\n",
        "    'random_state': 0,\n",
        "    }\n",
        "    clf = SVC(**params_svc)\n",
        "\n",
        "    skf = StratifiedKFold(n_splits=3, shuffle=True, random_state=0)\n",
        "    # グリッドサーチとは別の最適化手法を用いるため，GridSearchCVは使わない.\n",
        "    # 代わりにcross_val_score()で交差検証を行う\n",
        "    # cross_val_score()の性能指標について，'roc_auc'も選択できるが，ここではF1スコアを用いた\n",
        "    # return metricで最適化すべき目的関数をmetricに指定する.\n",
        "    train_scores = cross_val_score(clf, X_train_std, y_train, cv=skf, scoring='f1')\n",
        "    metric = train_scores.mean()\n",
        "    return metric"
      ]
    },
    {
      "cell_type": "markdown",
      "metadata": {
        "id": "eRNszkpEVhsD"
      },
      "source": [
        "##### 入力4-31"
      ]
    },
    {
      "cell_type": "code",
      "execution_count": null,
      "metadata": {
        "id": "6y8-Qw0ySLSp"
      },
      "outputs": [],
      "source": [
        "obj_svc = partial(objective_svc)\n",
        "# セッションの作成\n",
        "sampler = optuna.samplers.TPESampler(seed=0)\n",
        "# F1スコアを最大化するためにdirection='maximize'にする\n",
        "study_svc = optuna.create_study(sampler=sampler, direction='maximize')\n",
        "# 回数を指定する.\n",
        "study_svc.optimize(obj_svc, n_trials=100)"
      ]
    },
    {
      "cell_type": "markdown",
      "metadata": {
        "id": "uQ7BaqqiqQ96"
      },
      "source": [
        "##### 入力4-32"
      ]
    },
    {
      "cell_type": "code",
      "execution_count": null,
      "metadata": {
        "id": "xsgkq8YDqQ96"
      },
      "outputs": [],
      "source": [
        "print(study_svc.best_params)\n",
        "print(study_svc.best_value)"
      ]
    },
    {
      "cell_type": "markdown",
      "metadata": {
        "id": "NWQUE7hfqQ96"
      },
      "source": [
        "##### 入力4-33"
      ]
    },
    {
      "cell_type": "code",
      "execution_count": null,
      "metadata": {
        "id": "FSbiw1yEqQ96"
      },
      "outputs": [],
      "source": [
        "study_svc.trials_dataframe()"
      ]
    },
    {
      "cell_type": "markdown",
      "metadata": {
        "id": "WBolfQ8_qQ97"
      },
      "source": [
        "##### 入力4-34"
      ]
    },
    {
      "cell_type": "code",
      "execution_count": null,
      "metadata": {
        "id": "AY0ylZB8jl2k"
      },
      "outputs": [],
      "source": [
        "# 訓練データのスコア\n",
        "optuna_params = study_svc.best_params\n",
        "clf = SVC(**optuna_params, probability=True)\n",
        "# 線形SVMのモデルにトレーニングデータを適合させる\n",
        "skf = StratifiedKFold(n_splits=3, shuffle=True, random_state=0)\n",
        "# cross_val_score()の性能指標について、'roc_auc'も選択できるが、ここではF値を用いた\n",
        "train_scores = cross_val_score(clf, X_train_std, y_train, cv=skf, scoring='f1')\n",
        "metric = train_scores.mean()\n",
        "print(metric)"
      ]
    },
    {
      "cell_type": "markdown",
      "metadata": {
        "id": "l5Dy-8NR4oWx"
      },
      "source": [
        "##### 入力4-35"
      ]
    },
    {
      "cell_type": "code",
      "execution_count": null,
      "metadata": {
        "id": "VSc1uYnwjl2l"
      },
      "outputs": [],
      "source": [
        "# test scoreは？\n",
        "from sklearn import metrics\n",
        "\n",
        "clf.fit(X_train_std, y_train)\n",
        "y_pred = clf.predict_proba(X_test_std)[:, 1]\n",
        "roc_auc_score(y_test, y_pred)"
      ]
    },
    {
      "cell_type": "markdown",
      "metadata": {
        "id": "7rt_HSGP4wxL"
      },
      "source": [
        "##### 入力4-36"
      ]
    },
    {
      "cell_type": "code",
      "execution_count": null,
      "metadata": {
        "id": "ZCBoO2BP_Bcs"
      },
      "outputs": [],
      "source": [
        "from sklearn.metrics import auc, roc_curve\n",
        "\n",
        "# ROC-AUC\n",
        "fpr_test, tpr_test, thresholds_test = roc_curve(y_test, y_pred)\n",
        "auc_test = auc(fpr_test, tpr_test)\n",
        "\n",
        "# ROC曲線を描く\n",
        "plt.plot([0, 1], [0, 1], color='black', linestyle='--')\n",
        "plt.plot(fpr_test, tpr_test, label='Optuna+SVM (AUC = %.3f)' % auc_test)\n",
        "\n",
        "plt.fill_between(fpr_test, tpr_test, 0, alpha=0.1)\n",
        "plt.legend()\n",
        "\n",
        "plt.title('Optuna+SVM')\n",
        "plt.xlabel('False_Positive_Rate')\n",
        "plt.ylabel('True_Positive_Rate')\n",
        "plt.grid(True)\n",
        "plt.show()"
      ]
    },
    {
      "cell_type": "markdown",
      "metadata": {
        "id": "comTN5fd5DYR"
      },
      "source": [
        "##### 入力4-37"
      ]
    },
    {
      "cell_type": "code",
      "execution_count": null,
      "metadata": {
        "id": "3ul8n2L6qQ97"
      },
      "outputs": [],
      "source": [
        "# y_predが0.5より大きい場合1に，そうでない場合0にする.\n",
        "y_pred_label = [1 if y_pred[i] > 0.5 else 0 for i in range(len(y_pred))]\n",
        "\n",
        "from sklearn.metrics import classification_report, confusion_matrix\n",
        "\n",
        "print(confusion_matrix(y_test, y_pred_label))\n",
        "print(classification_report(y_test, y_pred_label))"
      ]
    }
  ],
  "metadata": {
    "colab": {
      "collapsed_sections": [
        "oUeSmN2sqpRV"
      ],
      "provenance": []
    },
    "gpuClass": "standard",
    "kernelspec": {
      "display_name": "Python 3",
      "language": "python",
      "name": "python3"
    },
    "language_info": {
      "codemirror_mode": {
        "name": "ipython",
        "version": 3
      },
      "file_extension": ".py",
      "mimetype": "text/x-python",
      "name": "python",
      "nbconvert_exporter": "python",
      "pygments_lexer": "ipython3",
      "version": "3.11.1"
    },
    "vscode": {
      "interpreter": {
        "hash": "1a1af0ee75eeea9e2e1ee996c87e7a2b11a0bebd85af04bb136d915cefc0abce"
      }
    }
  },
  "nbformat": 4,
  "nbformat_minor": 0
}
