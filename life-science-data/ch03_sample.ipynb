{
  "cells": [
    {
      "attachments": {},
      "cell_type": "markdown",
      "metadata": {
        "id": "Ar2VPyHWBRBG"
      },
      "source": [
        "# 第3章　教師あり学習のためのデータ前処理\n",
        "\n",
        "- 澤田 高志\n",
        "- 清水 秀幸"
      ]
    },
    {
      "cell_type": "markdown",
      "metadata": {
        "id": "foWz4UhkqQ9K"
      },
      "source": [
        "##### 入力3-1"
      ]
    },
    {
      "cell_type": "code",
      "execution_count": null,
      "metadata": {
        "id": "Eq1KN5zFjl2G"
      },
      "outputs": [],
      "source": [
        "!pip install GEOparse"
      ]
    },
    {
      "cell_type": "markdown",
      "metadata": {
        "id": "dDK_D2sori0J"
      },
      "source": [
        "##### 入力3-2"
      ]
    },
    {
      "cell_type": "code",
      "execution_count": null,
      "metadata": {
        "id": "nKYqbmt5jl2I"
      },
      "outputs": [],
      "source": [
        "# パッケージのインポート\n",
        "%matplotlib inline\n",
        "import GEOparse\n",
        "import matplotlib\n",
        "import matplotlib.pyplot as plt\n",
        "import numpy as np\n",
        "import pandas as pd\n",
        "import seaborn as sns"
      ]
    },
    {
      "cell_type": "markdown",
      "metadata": {
        "id": "nCczPCf3rm5j"
      },
      "source": [
        "##### 入力3-3"
      ]
    },
    {
      "cell_type": "code",
      "execution_count": null,
      "metadata": {
        "id": "zKQgALgfqQ9N"
      },
      "outputs": [],
      "source": [
        "# バージョンの確認\n",
        "print('numpy: ', np.__version__)\n",
        "print('pandas: ', pd.__version__)\n",
        "print('matplotlib: ', matplotlib.__version__)\n",
        "print('seaborn: ', sns.__version__)\n",
        "print('GEOparse: ', GEOparse.__version__)"
      ]
    },
    {
      "cell_type": "markdown",
      "metadata": {
        "id": "Wh6GxNrBjl2K"
      },
      "source": [
        "##### 入力3-4"
      ]
    },
    {
      "cell_type": "code",
      "execution_count": null,
      "metadata": {
        "id": "zb9M4-P0jl2L"
      },
      "outputs": [],
      "source": [
        "gse = GEOparse.get_GEO(geo='GSE36376')"
      ]
    },
    {
      "cell_type": "markdown",
      "metadata": {
        "id": "KYd83nKNjl2L"
      },
      "source": [
        "##### 入力3-5"
      ]
    },
    {
      "cell_type": "code",
      "execution_count": null,
      "metadata": {
        "id": "b52jE7KEjl2L"
      },
      "outputs": [],
      "source": [
        "pd.set_option('display.max_columns', 50)  # 30列全てを見えるようにする\n",
        "gse_table = gse.gpls['GPL10558'].table\n",
        "gse_table"
      ]
    },
    {
      "cell_type": "markdown",
      "metadata": {
        "id": "KV8C056TqQ9P"
      },
      "source": [
        "##### 入力3-6"
      ]
    },
    {
      "cell_type": "code",
      "execution_count": null,
      "metadata": {
        "id": "G8FHevuLjl2M"
      },
      "outputs": [],
      "source": [
        "# 欠損値ではないデータの数\n",
        "gse_table.info()"
      ]
    },
    {
      "cell_type": "markdown",
      "metadata": {
        "id": "a7Kn6ySvsC47"
      },
      "source": [
        "##### 入力3-7"
      ]
    },
    {
      "cell_type": "code",
      "execution_count": null,
      "metadata": {
        "id": "q_EB-cFljl2M"
      },
      "outputs": [],
      "source": [
        "# gse_table.isnull()では，欠損値はTrueになる\n",
        "# そこにsum()を加えて，各列ごとの欠損値をカウントする\n",
        "print(gse_table.isnull().sum())"
      ]
    },
    {
      "cell_type": "markdown",
      "metadata": {
        "id": "QYtansaRjl2N"
      },
      "source": [
        "##### 入力3-8"
      ]
    },
    {
      "cell_type": "code",
      "execution_count": null,
      "metadata": {
        "id": "n-QEcB5ojl2N"
      },
      "outputs": [],
      "source": [
        "# gse_table['Species']が'Homo sapiens'に一致するもののみ抽出\n",
        "# 'Homo sapiens'ということで'_hs'を末尾に付ける\n",
        "gse_table_hs = gse_table[gse_table['Species'] == 'Homo sapiens']\n",
        "gse_table_hs"
      ]
    },
    {
      "cell_type": "markdown",
      "metadata": {
        "id": "iBMPeVutjl2O"
      },
      "source": [
        "##### 入力3-9"
      ]
    },
    {
      "cell_type": "code",
      "execution_count": null,
      "metadata": {
        "id": "bWpPW57-jl2P"
      },
      "outputs": [],
      "source": [
        "# 各列ごとの欠損値をカウントする\n",
        "print(gse_table_hs.isnull().sum())"
      ]
    },
    {
      "cell_type": "markdown",
      "metadata": {
        "id": "2aMa-Zp2jl2P"
      },
      "source": [
        "##### 入力3-10"
      ]
    },
    {
      "cell_type": "code",
      "execution_count": null,
      "metadata": {
        "id": "_qSphscHjl2Q"
      },
      "outputs": [],
      "source": [
        "# ['Symbol']列の欠損値をdropnaで除去\n",
        "# 'Symbol'ということで'_sym'を末尾に付ける\n",
        "gse_table_hs_sym = gse_table_hs.dropna(subset=['Symbol'])\n",
        "gse_table_hs_sym"
      ]
    },
    {
      "cell_type": "markdown",
      "metadata": {
        "id": "BqccKG-Csj-x"
      },
      "source": [
        "##### 入力3-11"
      ]
    },
    {
      "cell_type": "code",
      "execution_count": null,
      "metadata": {
        "id": "ecwo07iTjl2R"
      },
      "outputs": [],
      "source": [
        "# 各列ごとの欠損値をカウントする\n",
        "print(gse_table_hs_sym.isnull().sum())"
      ]
    },
    {
      "cell_type": "markdown",
      "metadata": {
        "id": "kV0t9aYEjl2R"
      },
      "source": [
        "##### 入力3-12"
      ]
    },
    {
      "cell_type": "code",
      "execution_count": null,
      "metadata": {
        "id": "wRNZ3e4mjl2R"
      },
      "outputs": [],
      "source": [
        "# RefSeq_IDの頭文字3文字の内訳をカウント\n",
        "print(gse_table_hs_sym['RefSeq_ID'].str[:3].value_counts())"
      ]
    },
    {
      "cell_type": "markdown",
      "metadata": {
        "id": "jgYQXaXvs7IE"
      },
      "source": [
        "##### 入力3-13"
      ]
    },
    {
      "cell_type": "code",
      "execution_count": null,
      "metadata": {
        "id": "ZUsLSY23jl2S"
      },
      "outputs": [],
      "source": [
        "# mRNAのみということで'_NM'を末尾に付ける\n",
        "gse_table_hs_sym_NM = gse_table_hs_sym[gse_table_hs_sym['RefSeq_ID'].str[:3] == 'NM_']\n",
        "gse_table_hs_sym_NM"
      ]
    },
    {
      "cell_type": "markdown",
      "metadata": {
        "id": "QZ8SDsqvtA5v"
      },
      "source": [
        "##### 入力3-14"
      ]
    },
    {
      "cell_type": "code",
      "execution_count": null,
      "metadata": {
        "id": "2RXFRyE5jl2S"
      },
      "outputs": [],
      "source": [
        "print(gse_table_hs_sym_NM.isnull().sum())"
      ]
    },
    {
      "cell_type": "markdown",
      "metadata": {
        "id": "_uIXvs8ijl2S"
      },
      "source": [
        "##### 入力3-15"
      ]
    },
    {
      "cell_type": "code",
      "execution_count": null,
      "metadata": {
        "id": "QGstx82Vjl2S"
      },
      "outputs": [],
      "source": [
        "symbol_count = gse_table_hs_sym_NM['Symbol'].value_counts()\n",
        "symbol_dup = symbol_count[symbol_count > 1]\n",
        "print(symbol_dup)"
      ]
    },
    {
      "cell_type": "markdown",
      "metadata": {
        "id": "12sueQmxjl2S"
      },
      "source": [
        "##### 入力3-16"
      ]
    },
    {
      "cell_type": "code",
      "execution_count": null,
      "metadata": {
        "id": "e4YVGzusjl2T"
      },
      "outputs": [],
      "source": [
        "gse_phenotype = gse.phenotype_data\n",
        "gse_phenotype"
      ]
    },
    {
      "cell_type": "markdown",
      "metadata": {
        "id": "eHFn4RpzqQ9U"
      },
      "source": [
        "##### 入力3-17"
      ]
    },
    {
      "cell_type": "code",
      "execution_count": null,
      "metadata": {
        "id": "o2-UkqFcjl2T"
      },
      "outputs": [],
      "source": [
        "# 欠損値は存在しない\n",
        "print(gse_phenotype.isnull().sum())"
      ]
    },
    {
      "cell_type": "markdown",
      "metadata": {
        "id": "rdCaWhPkjl2T"
      },
      "source": [
        "##### 入力3-18"
      ]
    },
    {
      "cell_type": "code",
      "execution_count": null,
      "metadata": {
        "id": "aLrjUETVjl2T"
      },
      "outputs": [],
      "source": [
        "# サンプルIDとそのサンプルが正常か腫瘍かについて\n",
        "gse_phenotype['characteristics_ch1.0.tissue']"
      ]
    },
    {
      "cell_type": "markdown",
      "metadata": {
        "id": "Sewjsqrytcy0"
      },
      "source": [
        "##### 入力3-19"
      ]
    },
    {
      "cell_type": "code",
      "execution_count": null,
      "metadata": {
        "id": "LZ7gCyGnjl2U"
      },
      "outputs": [],
      "source": [
        "# 正常サンプルと腫瘍サンプルの数\n",
        "gse_phenotype['characteristics_ch1.0.tissue'].value_counts()"
      ]
    },
    {
      "cell_type": "markdown",
      "metadata": {
        "id": "v7Xn11VmthVp"
      },
      "source": [
        "##### 入力3-20"
      ]
    },
    {
      "cell_type": "code",
      "execution_count": null,
      "metadata": {
        "id": "pPMe5CIvjl2U"
      },
      "outputs": [],
      "source": [
        "# 正常サンプルと腫瘍サンプルのIDのみを抜き出す\n",
        "normal_ID = gse_phenotype[\n",
        "    gse_phenotype['characteristics_ch1.0.tissue'] == 'adjacent non-tumor liver'\n",
        "].index\n",
        "tumor_ID = gse_phenotype[\n",
        "    gse_phenotype['characteristics_ch1.0.tissue'] == 'liver tumor'\n",
        "].index"
      ]
    },
    {
      "cell_type": "markdown",
      "metadata": {
        "id": "mdupS_lWjl2U"
      },
      "source": [
        "##### 入力3-21"
      ]
    },
    {
      "cell_type": "code",
      "execution_count": null,
      "metadata": {
        "id": "kq33jgRdjl2U"
      },
      "outputs": [],
      "source": [
        "# pivot_samplesで発現量をまとめる\n",
        "pivoted_samples = gse.pivot_samples('VALUE')\n",
        "pivoted_samples"
      ]
    },
    {
      "cell_type": "markdown",
      "metadata": {
        "id": "9NI0zhMVjl2U"
      },
      "source": [
        "##### 入力3-22"
      ]
    },
    {
      "cell_type": "code",
      "execution_count": null,
      "metadata": {
        "id": "m1DI6xmeqQ9W"
      },
      "outputs": [],
      "source": [
        "# 433列の欠損値の数をカウントする\n",
        "print(pivoted_samples.isnull().sum())"
      ]
    },
    {
      "cell_type": "markdown",
      "metadata": {
        "id": "8__hK1FQt1Pq"
      },
      "source": [
        "##### 入力3-23"
      ]
    },
    {
      "cell_type": "code",
      "execution_count": null,
      "metadata": {
        "id": "CEgrALspqQ9X"
      },
      "outputs": [],
      "source": [
        "# value_countsでpivoted_samples.isnull().sum()にどのような値があったか確認する\n",
        "print(pivoted_samples.isnull().sum().value_counts())"
      ]
    },
    {
      "cell_type": "markdown",
      "metadata": {
        "id": "5wpE--wdqQ9X"
      },
      "source": [
        "##### 入力3-24"
      ]
    },
    {
      "cell_type": "code",
      "execution_count": null,
      "metadata": {
        "id": "MMKlQlHvqQ9X"
      },
      "outputs": [],
      "source": [
        "# 47323行の欠損値の数をカウントする\n",
        "pivoted_samples.isnull().sum(axis=1).value_counts()"
      ]
    },
    {
      "cell_type": "markdown",
      "metadata": {
        "id": "sMrgxOBRuAvs"
      },
      "source": [
        "##### 入力3-25"
      ]
    },
    {
      "cell_type": "code",
      "execution_count": null,
      "metadata": {
        "id": "2TglfSNMqQ9X"
      },
      "outputs": [],
      "source": [
        "# 欠損値を含む行だけ抽出する\n",
        "pivoted_samples[pivoted_samples.isnull().any(axis=1)]"
      ]
    },
    {
      "cell_type": "markdown",
      "metadata": {
        "id": "IGNNtq_DqQ9X"
      },
      "source": [
        "##### 入力3-26"
      ]
    },
    {
      "cell_type": "code",
      "execution_count": null,
      "metadata": {
        "id": "WVzxCaFRjl2U"
      },
      "outputs": [],
      "source": [
        "# 要約統計量を確認する\n",
        "pivoted_samples.describe()"
      ]
    },
    {
      "cell_type": "markdown",
      "metadata": {
        "id": "z2IM8Njajl2V"
      },
      "source": [
        "##### 入力3-27"
      ]
    },
    {
      "cell_type": "code",
      "execution_count": null,
      "metadata": {
        "id": "sl9M39Sbjl2V"
      },
      "outputs": [],
      "source": [
        "# 全サンプルを図示すると見にくいため，5サンプルのみ\n",
        "pivoted_samples.iloc[:, 0:5].boxplot()"
      ]
    },
    {
      "cell_type": "markdown",
      "metadata": {
        "id": "6Uk8d1UYjl2V"
      },
      "source": [
        "##### 入力3-28"
      ]
    },
    {
      "cell_type": "code",
      "execution_count": null,
      "metadata": {
        "id": "gEToflWIjl2V"
      },
      "outputs": [],
      "source": [
        "# Seabornで描いた箱ひげ図\n",
        "# Seabornはsnsという形でインポートすることが多い (import seaborn as sns)\n",
        "sns.boxplot(data=pivoted_samples.iloc[:, 0:5])"
      ]
    },
    {
      "cell_type": "markdown",
      "metadata": {
        "id": "LhMITLYpjl2V"
      },
      "source": [
        "##### 入力3-29"
      ]
    },
    {
      "cell_type": "code",
      "execution_count": null,
      "metadata": {
        "id": "xJeRUGWXjl2W"
      },
      "outputs": [],
      "source": [
        "# violinplotは箱ひげ図よりもデータの全体傾向を把握しやすいというメリットがある.\n",
        "# 「ヴァイオリン」の縁の部分はカーネル密度推定で描かれている\n",
        "sns.violinplot(data=pivoted_samples.iloc[:, 0:5])"
      ]
    },
    {
      "cell_type": "markdown",
      "metadata": {
        "id": "h_paR4aZukgF"
      },
      "source": [
        "##### 入力3-30"
      ]
    },
    {
      "cell_type": "code",
      "execution_count": null,
      "metadata": {
        "id": "k56ntmTHjl2W"
      },
      "outputs": [],
      "source": [
        "# boxenplotは大規模なデータセット用の箱ひげ図と言える.\n",
        "# 四分位しかわからない箱ひげ図と比べ，細かい分位をも理解できる\n",
        "sns.boxenplot(data=pivoted_samples.iloc[:, 0:5])"
      ]
    },
    {
      "cell_type": "markdown",
      "metadata": {
        "id": "-y2n6Xmqjl2X"
      },
      "source": [
        "##### 入力3-31"
      ]
    },
    {
      "cell_type": "code",
      "execution_count": null,
      "metadata": {
        "id": "C6R3hqzEjl2X"
      },
      "outputs": [],
      "source": [
        "# displotでヒストグラムとカーネル密度推定を同時に見ることができる\n",
        "# pivoted_samples.iloc[:, 0]は少し見にくいのでpivoted_samples.iloc[:, 1]を見る\n",
        "\n",
        "current_palette = sns.color_palette(n_colors=24) # seabornでの色の指定を行うため\n",
        "sns.displot(\n",
        "    pivoted_samples.iloc[:, 1],\n",
        "    kde=True,\n",
        "    facecolor=current_palette[0], # 青色がヒストグラム\n",
        "    color=current_palette[1],\n",
        ") # オレンジの線がカーネル密度推定: ヴァイオリンプロットと同じもの"
      ]
    },
    {
      "cell_type": "markdown",
      "metadata": {
        "id": "sJRDOy-Tjl2X"
      },
      "source": [
        "##### 入力3-32"
      ]
    },
    {
      "cell_type": "code",
      "execution_count": null,
      "metadata": {
        "id": "Op9o9e3Hjl2X"
      },
      "outputs": [],
      "source": [
        "sns.pairplot(pivoted_samples.iloc[:, 0:5], height=2.5)"
      ]
    },
    {
      "cell_type": "markdown",
      "metadata": {
        "id": "pLlDRxGgjl2Y"
      },
      "source": [
        "##### 入力3-33"
      ]
    },
    {
      "cell_type": "code",
      "execution_count": null,
      "metadata": {
        "id": "WRAmQt-ajl2Y"
      },
      "outputs": [],
      "source": [
        "sns.heatmap(pivoted_samples.iloc[:, 0:5].corr(), square=True, annot=True)"
      ]
    },
    {
      "cell_type": "markdown",
      "metadata": {
        "id": "IYLZjqtfjl2Y"
      },
      "source": [
        "##### 入力3-34"
      ]
    },
    {
      "cell_type": "code",
      "execution_count": null,
      "metadata": {
        "id": "nKgGtFE2jl2Y"
      },
      "outputs": [],
      "source": [
        "# gse_table_hs_sym_NMから重要な列として\n",
        "# mRNAのプローブ情報列である'ID'と，重複の除去の必要があるmRNA遺伝子名の列である'Symbol'を抽出する.\n",
        "col = ['ID', 'Symbol']\n",
        "gse_selected = gse_table_hs_sym_NM[col]\n",
        "# 'ID'列はインデックスにしてしまう\n",
        "gse_selected.index = gse_selected['ID']\n",
        "gse_selected = pd.DataFrame(gse_selected['Symbol'])\n",
        "gse_selected"
      ]
    },
    {
      "cell_type": "markdown",
      "metadata": {
        "id": "JWZkZyyCqQ9f"
      },
      "source": [
        "##### 入力3-35"
      ]
    },
    {
      "cell_type": "code",
      "execution_count": null,
      "metadata": {
        "id": "euVa0BjBjl2Y"
      },
      "outputs": [],
      "source": [
        "# gse_selectedのindexに含まれるIDのプローブについて，\n",
        "# 発現量をまとめる\n",
        "pivoted_samples_mRNA = pivoted_samples.loc[\n",
        "    gse_selected.index,\n",
        "]\n",
        "pivoted_samples_mRNA"
      ]
    },
    {
      "cell_type": "markdown",
      "metadata": {
        "id": "1oBM9Rd0jl2Y"
      },
      "source": [
        "##### 入力3-36"
      ]
    },
    {
      "cell_type": "code",
      "execution_count": null,
      "metadata": {
        "id": "GGYQ3s7Xjl2Z"
      },
      "outputs": [],
      "source": [
        "gse_selected[gse_selected['Symbol'] == 'GAPDH']"
      ]
    },
    {
      "cell_type": "markdown",
      "metadata": {
        "id": "XJELpDA5jl2Z"
      },
      "source": [
        "##### 入力3-37"
      ]
    },
    {
      "cell_type": "code",
      "execution_count": null,
      "metadata": {
        "id": "gs5sbdsjjl2Z"
      },
      "outputs": [],
      "source": [
        "GAPDH_ID = ['ILMN_1343295', 'ILMN_1802252', 'ILMN_2038778']\n",
        "# mean(axis=1)により，行方向の平均値が求められる.\n",
        "pivoted_samples_mRNA.loc[\n",
        "GAPDH_ID,\n",
        "].mean(axis=1)"
      ]
    },
    {
      "cell_type": "markdown",
      "metadata": {
        "id": "AXjDJ6_Ivjep"
      },
      "source": [
        "##### 入力3-38"
      ]
    },
    {
      "cell_type": "code",
      "execution_count": null,
      "metadata": {
        "id": "CaJKrch7jl2Z"
      },
      "outputs": [],
      "source": [
        "# np.argmaxで，数値が最大となるものの番号(この場合，2)を抜き出す\n",
        "GAPDH_max_num = np.argmax(\n",
        "    pivoted_samples_mRNA.loc[\n",
        "    GAPDH_ID,\n",
        "    ].mean(axis=1)\n",
        ")\n",
        "# 数値が最大となるIDは，0番目の'ILMN_1343295'でも，1番目の'ILMN_1802252'でもなく\n",
        "# 2番目の'ILMN_2038778'である\n",
        "GAPDH_ID[GAPDH_max_num]"
      ]
    },
    {
      "cell_type": "markdown",
      "metadata": {
        "id": "Wt9Vi9uJjl2Z"
      },
      "source": [
        "##### 入力3-39"
      ]
    },
    {
      "cell_type": "code",
      "execution_count": null,
      "metadata": {
        "id": "NSJmD_y1jl2a"
      },
      "outputs": [],
      "source": [
        "# 'Amean'は各行の平均値である。\n",
        "pivoted_samples_mRNA['Amean'] = pivoted_samples_mRNA.mean(axis=1)"
      ]
    },
    {
      "cell_type": "markdown",
      "metadata": {
        "id": "5zg7Rm9ujl2a"
      },
      "source": [
        "##### 入力3-40"
      ]
    },
    {
      "cell_type": "code",
      "execution_count": null,
      "metadata": {
        "id": "4wYkRltNjl2a"
      },
      "outputs": [],
      "source": [
        "# pd.merge関数で，Pandasのデータフレームを結合させる.\n",
        "# left_indexもright_indexもTrueとすることで，互いのインデックスを参照して結合させる.\n",
        "gse_pivoted_merge = pd.merge(\n",
        "    gse_selected, pivoted_samples_mRNA, left_index=True, right_index=True\n",
        ")\n",
        "# sort_valuesでソートする.ascending = Falseで降順になる.\n",
        "gse_pivoted_merge_sorted = gse_pivoted_merge.sort_values(['Amean'], ascending=False)\n",
        "gse_pivoted_merge_sorted"
      ]
    },
    {
      "attachments": {},
      "cell_type": "markdown",
      "metadata": {
        "id": "464xFtSIjl2a"
      },
      "source": [
        "##### 入力3-41"
      ]
    },
    {
      "cell_type": "code",
      "execution_count": null,
      "metadata": {
        "id": "3gUkJBgfjl2a"
      },
      "outputs": [],
      "source": [
        "# 重複している遺伝子については'Amean'が大きいものを選択する.\n",
        "# 降順にデータが並んでいるところに，drop_duplicates()を，keep = 'first'で使うことで\n",
        "# 最初に出てきた遺伝子を選択し，以降の重複を除去する.\n",
        "gse_pivoted_merge_sorted_unique = gse_pivoted_merge_sorted.drop_duplicates(\n",
        "      ['Symbol'], keep='first'\n",
        ")\n",
        "\n",
        "# もはやindexはプローブ(ILMN_)である必要はない.indexを'Symbol'に変更する\n",
        "gse_pivoted_merge_sorted_unique.index = gse_pivoted_merge_sorted_unique['Symbol']\n",
        "\n",
        "# 'Symbol'列も'Amean'列ももはや必要ないので除外する.\n",
        "gse_mRNA_exprs = gse_pivoted_merge_sorted_unique.drop(['Symbol', 'Amean'], axis=1)\n",
        "gse_mRNA_exprs"
      ]
    },
    {
      "cell_type": "markdown",
      "metadata": {
        "id": "ZKgpWf_Ejl2b"
      },
      "source": [
        "##### 入力3-42"
      ]
    },
    {
      "cell_type": "code",
      "execution_count": null,
      "metadata": {
        "id": "r9SJkS2cjl2b"
      },
      "outputs": [],
      "source": [
        "# 欠損値の数は433→155個に\n",
        "gse_mRNA_exprs.isnull().sum().sum()"
      ]
    },
    {
      "cell_type": "markdown",
      "metadata": {
        "id": "LFrHGIcPwIg0"
      },
      "source": [
        "##### 入力3-43"
      ]
    },
    {
      "cell_type": "code",
      "execution_count": null,
      "metadata": {
        "id": "sJ6pddJvjl2c"
      },
      "outputs": [],
      "source": [
        "# 欠損値の割合はわずかである\n",
        "ratio = gse_mRNA_exprs.isnull().sum().sum() / gse_mRNA_exprs.size\n",
        "print('欠損割合 %f %%' % (ratio * 100))"
      ]
    },
    {
      "cell_type": "markdown",
      "metadata": {
        "id": "wH8j7BNTwRc0"
      },
      "source": [
        "##### 入力3-44"
      ]
    },
    {
      "cell_type": "code",
      "execution_count": null,
      "metadata": {
        "id": "J483QQM-jl2d"
      },
      "outputs": [],
      "source": [
        "# normal_ID, tumor_IDはすでに抽出している\n",
        "gse_mRNA_exprs_normal = gse_mRNA_exprs[normal_ID]\n",
        "gse_mRNA_exprs_tumor = gse_mRNA_exprs[tumor_ID]"
      ]
    },
    {
      "cell_type": "markdown",
      "metadata": {
        "id": "UoTlWRkojl2d"
      },
      "source": [
        "##### 入力3-45"
      ]
    },
    {
      "cell_type": "code",
      "execution_count": null,
      "metadata": {
        "id": "fHssJzM0jl2d"
      },
      "outputs": [],
      "source": [
        "# データフレームの平均値を求める.\n",
        "# axis=1により行方向の平均値を求められる\n",
        "FC = gse_mRNA_exprs_tumor.mean(axis=1) / gse_mRNA_exprs_normal.mean(axis=1)\n",
        "# 最小値と最大値を見てみよう\n",
        "FC.sort_values()"
      ]
    },
    {
      "cell_type": "code",
      "execution_count": null,
      "metadata": {
        "id": "u1QXDiLNwaWD"
      },
      "outputs": [],
      "source": [
        "##### 入力3-46"
      ]
    },
    {
      "cell_type": "code",
      "execution_count": null,
      "metadata": {
        "id": "TVbBNcbYjl2d"
      },
      "outputs": [],
      "source": [
        "# log2FCに変換\n",
        "log2FC = np.log2(FC)"
      ]
    },
    {
      "cell_type": "markdown",
      "metadata": {
        "id": "XR9bpUUkjl2d"
      },
      "source": [
        "##### 入力3-47"
      ]
    },
    {
      "cell_type": "code",
      "execution_count": null,
      "metadata": {
        "id": "IneQkEeRjl2d"
      },
      "outputs": [],
      "source": [
        "# log2FCの絶対値が，0.5を超える，mRNAを抽出する\n",
        "threshold = 0.5\n",
        "log2FC[log2FC.abs() > threshold]"
      ]
    },
    {
      "cell_type": "markdown",
      "metadata": {
        "id": "I9ZyIas3qQ9j"
      },
      "source": [
        "##### 入力3-48"
      ]
    },
    {
      "cell_type": "code",
      "execution_count": null,
      "metadata": {
        "id": "VnwaVQRDjl2d"
      },
      "outputs": [],
      "source": [
        "# 浮かび上がってきたmRNAの名前を抽出する\n",
        "FC_selected_mRNA = list(log2FC[log2FC.abs() > threshold].index)\n",
        "len(FC_selected_mRNA)"
      ]
    },
    {
      "cell_type": "markdown",
      "metadata": {
        "id": "XTpeeuOzjl2e"
      },
      "source": [
        "##### 入力3-49"
      ]
    },
    {
      "cell_type": "code",
      "execution_count": null,
      "metadata": {
        "id": "q0XfwSGHjl2e"
      },
      "outputs": [],
      "source": [
        "# 本来，欠損値の処理は非常にデリケートな問題で，欠損値を平均値などで，あるいはテクニカルにベイズなどで\n",
        "# 補完するか，いっそのこと除去するかは悩ましい問題である.\n",
        "# 今回は着目している遺伝子に欠損値が含まれていないことを利用し，この問題を回避することができた.\n",
        "gse_mRNA_exprs_normal_selected = gse_mRNA_exprs_normal.loc[FC_selected_mRNA, :]\n",
        "gse_mRNA_exprs_normal_selected.isnull().sum().sum()"
      ]
    },
    {
      "cell_type": "markdown",
      "metadata": {
        "id": "hpbmm6TWwr7t"
      },
      "source": [
        "##### 入力3-50"
      ]
    },
    {
      "cell_type": "code",
      "execution_count": null,
      "metadata": {
        "id": "wLbUKIzFjl2e"
      },
      "outputs": [],
      "source": [
        "gse_mRNA_exprs_tumor_selected = gse_mRNA_exprs_tumor.loc[FC_selected_mRNA, :]\n",
        "gse_mRNA_exprs_tumor_selected.isnull().sum().sum()"
      ]
    },
    {
      "cell_type": "markdown",
      "metadata": {
        "id": "H7i_1JLQqQ9m"
      },
      "source": [
        "##### 入力3-51"
      ]
    },
    {
      "cell_type": "code",
      "execution_count": null,
      "metadata": {
        "id": "-m4IMr4TLzp8"
      },
      "outputs": [],
      "source": [
        "# submitはラベルと予測結果をまとめたpd.DataFrame\n",
        "gse_mRNA_exprs_normal_selected.to_csv('GSE36376_normal.csv')\n",
        "gse_mRNA_exprs_tumor_selected.to_csv('GSE36376_tumor.csv')\n",
        "\n",
        "# ローカルファイルにダウンロード\n",
        "from google.colab import files\n",
        "files.download('GSE36376_normal.csv')\n",
        "# 2つ目のファイルのダウンロードでは左上にポップアップが出てくる.「許可」を押してほしい.\n",
        "files.download('GSE36376_tumor.csv')"
      ]
    },
    {
      "cell_type": "markdown",
      "metadata": {
        "id": "bP9nCJOngc0N"
      },
      "source": [
        "##### 入力3-52"
      ]
    },
    {
      "cell_type": "code",
      "execution_count": null,
      "metadata": {
        "id": "_ZV2cb4pjl2f"
      },
      "outputs": [],
      "source": [
        "# 0行目から1行目までの2行分を抽出して，整然でないデータを見てみる\n",
        "messy_example = pd.DataFrame(gse_mRNA_exprs_normal_selected.T.iloc[0:2])\n",
        "# 説明がしやすいため，インデックス情報をいったんデータフレームに入れる\n",
        "messy_example['Sample_ID'] = messy_example.index\n",
        "messy_example"
      ]
    },
    {
      "cell_type": "markdown",
      "metadata": {
        "id": "u2ptgz5SqQ9n"
      },
      "source": [
        "##### 入力3-53"
      ]
    },
    {
      "cell_type": "code",
      "execution_count": null,
      "metadata": {
        "id": "Glqv6v-Ijl2f"
      },
      "outputs": [],
      "source": [
        "# pd.melt()で整然データに変換\n",
        "tidy_example = pd.melt(messy_example, id_vars=messy_example.columns[-1])\n",
        "tidy_example"
      ]
    },
    {
      "cell_type": "markdown",
      "metadata": {
        "id": "iFoDnoa2jl2f"
      },
      "source": [
        "##### 入力3-54"
      ]
    },
    {
      "cell_type": "code",
      "execution_count": null,
      "metadata": {
        "id": "9P5df77rjl2f"
      },
      "outputs": [],
      "source": [
        "# データ全体で整然データを作ってみる\n",
        "gse_mRNA_exprs_normal_selected_tidy = pd.melt(gse_mRNA_exprs_normal_selected.T)\n",
        "# 後で図示する際に使うので，'class'列という形で正常サンプルであることを示しておく\n",
        "# Sample_ID情報は今回はいらない\n",
        "gse_mRNA_exprs_normal_selected_tidy['class'] = 'Normal sample'\n",
        "gse_mRNA_exprs_normal_selected_tidy"
      ]
    },
    {
      "cell_type": "markdown",
      "metadata": {
        "id": "NLa3A3S7xTpw"
      },
      "source": [
        "##### 入力3-55"
      ]
    },
    {
      "cell_type": "code",
      "execution_count": null,
      "metadata": {
        "id": "91wuyc7ljl2f"
      },
      "outputs": [],
      "source": [
        "gse_mRNA_exprs_tumor_selected_tidy = pd.melt(gse_mRNA_exprs_tumor_selected.T)\n",
        "# 後で図示する際に使うので，'class'列という形でがんサンプルであることを示しておく\n",
        "gse_mRNA_exprs_tumor_selected_tidy['class'] = 'Tumor sample'\n",
        "gse_mRNA_exprs_tumor_selected_tidy"
      ]
    },
    {
      "cell_type": "markdown",
      "metadata": {
        "id": "s5ZDjFfExQON"
      },
      "source": [
        "##### 入力3-56"
      ]
    },
    {
      "cell_type": "code",
      "execution_count": null,
      "metadata": {
        "id": "yuFBOmOxjl2g"
      },
      "outputs": [],
      "source": [
        "# pd.concat(axis=0)で正常の整然データとがんの整然データを縦に結合させる\n",
        "gse_mRNA_exprs_selected_tidy = pd.concat(\n",
        "    [gse_mRNA_exprs_normal_selected_tidy, gse_mRNA_exprs_tumor_selected_tidy], axis=0\n",
        ")\n",
        "gse_mRNA_exprs_selected_tidy"
      ]
    },
    {
      "cell_type": "markdown",
      "metadata": {
        "id": "RvQo1jGwjl2g"
      },
      "source": [
        "##### 入力3-57"
      ]
    },
    {
      "cell_type": "code",
      "execution_count": null,
      "metadata": {
        "id": "4Z0afvLfjl2g"
      },
      "outputs": [],
      "source": [
        "# figsize=(15, 8)で文字が潰れないようにグラフ全体のサイズの変更をしている\n",
        "# 各自のパソコンに合わせて値を変更させてほしい\n",
        "plt.figure(figsize=(15, 8))\n",
        "# 左右に直接Normal sampleとTumor sampleを並べるviolin plot\n",
        "# quartileで中央値と四分位数のところに線を引いている\n",
        "sns.violinplot(\n",
        "      data=gse_mRNA_exprs_selected_tidy,\n",
        "      x='Symbol',\n",
        "      y='value',\n",
        "      hue='class',\n",
        "      split=True,\n",
        "      inner='quartile',\n",
        ")"
      ]
    }
  ],
  "metadata": {
    "colab": {
      "collapsed_sections": [
        "5yzMA2j7qQ9u"
      ],
      "provenance": [],
      "toc_visible": true
    },
    "gpuClass": "standard",
    "kernelspec": {
      "display_name": "Python 3",
      "language": "python",
      "name": "python3"
    },
    "language_info": {
      "codemirror_mode": {
        "name": "ipython",
        "version": 3
      },
      "file_extension": ".py",
      "mimetype": "text/x-python",
      "name": "python",
      "nbconvert_exporter": "python",
      "pygments_lexer": "ipython3",
      "version": "3.11.1"
    },
    "vscode": {
      "interpreter": {
        "hash": "1a1af0ee75eeea9e2e1ee996c87e7a2b11a0bebd85af04bb136d915cefc0abce"
      }
    }
  },
  "nbformat": 4,
  "nbformat_minor": 0
}
