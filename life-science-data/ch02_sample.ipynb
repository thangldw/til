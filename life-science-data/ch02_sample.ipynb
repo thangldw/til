{
  "cells": [
    {
      "attachments": {},
      "cell_type": "markdown",
      "id": "vDtoXLL5bfj4",
      "metadata": {
        "id": "vDtoXLL5bfj4",
        "tags": []
      },
      "source": [
        "# 第2章　Google Colab, Pandas, Matplotlib, Numpyの基礎\n",
        "\n",
        "- 保住英希\n",
        "- 清水秀幸"
      ]
    },
    {
      "cell_type": "markdown",
      "id": "P1nfaNt7bfj6",
      "metadata": {
        "id": "P1nfaNt7bfj6"
      },
      "source": [
        "##### 入力2-1"
      ]
    },
    {
      "cell_type": "code",
      "execution_count": null,
      "id": "eHE9Yzupbfj6",
      "metadata": {
        "id": "eHE9Yzupbfj6"
      },
      "outputs": [],
      "source": [
        "# これ以降で使うライブラリの準備\n",
        "import numpy as np\n",
        "import pandas as pd\n",
        "import matplotlib\n",
        "import matplotlib.pyplot as plt"
      ]
    },
    {
      "cell_type": "markdown",
      "id": "S21PGhYDbfj7",
      "metadata": {
        "id": "S21PGhYDbfj7",
        "tags": []
      },
      "source": [
        "##### 入力2-2"
      ]
    },
    {
      "cell_type": "code",
      "execution_count": null,
      "id": "hTWsJrDsbfj8",
      "metadata": {
        "colab": {
          "base_uri": "https://localhost:8080/"
        },
        "id": "hTWsJrDsbfj8",
        "outputId": "486c8f1c-907a-46db-905d-86d99e5a8feb"
      },
      "outputs": [],
      "source": [
        "# 下記コードを実行すると，ファイル一覧が取得できる.\n",
        "# アップロードしたものの他に，デフォルトで入っている\n",
        "# sample_dataフォルダも表示される.\n",
        "!ls"
      ]
    },
    {
      "cell_type": "markdown",
      "id": "85xAPoVXbfj8",
      "metadata": {
        "id": "85xAPoVXbfj8"
      },
      "source": [
        "##### 入力2-3"
      ]
    },
    {
      "cell_type": "code",
      "execution_count": null,
      "id": "Z-lzxkWabfj9",
      "metadata": {
        "colab": {
          "base_uri": "https://localhost:8080/"
        },
        "id": "Z-lzxkWabfj9",
        "outputId": "d2a1db84-3be3-490c-fc9c-c6874d55e067"
      },
      "outputs": [],
      "source": [
        "from google.colab import drive\n",
        "drive.mount('/content/drive')"
      ]
    },
    {
      "cell_type": "markdown",
      "id": "hpaUGuRrbfj9",
      "metadata": {
        "id": "hpaUGuRrbfj9"
      },
      "source": [
        "##### 入力2-4"
      ]
    },
    {
      "cell_type": "code",
      "execution_count": null,
      "id": "t_N-nOr_bfj9",
      "metadata": {
        "colab": {
          "base_uri": "https://localhost:8080/"
        },
        "id": "t_N-nOr_bfj9",
        "outputId": "be11b17f-4c5c-40c0-f550-ee9c9396d7f4"
      },
      "outputs": [],
      "source": [
        "complete = pd.read_csv('/content/drive/MyDrive/METABRIC_RNA_Mutation.csv')"
      ]
    },
    {
      "cell_type": "markdown",
      "id": "K2F0J2orbfj9",
      "metadata": {
        "id": "K2F0J2orbfj9"
      },
      "source": [
        "##### 入力2-5"
      ]
    },
    {
      "cell_type": "code",
      "execution_count": null,
      "id": "UcSK4JbEbfj9",
      "metadata": {
        "colab": {
          "base_uri": "https://localhost:8080/"
        },
        "id": "UcSK4JbEbfj9",
        "outputId": "fc12a2b7-f216-4e9e-ce12-538923e75ea3"
      },
      "outputs": [],
      "source": [
        "!nvidia-smi"
      ]
    },
    {
      "cell_type": "markdown",
      "id": "aMqBdKASbfj-",
      "metadata": {
        "id": "aMqBdKASbfj-",
        "tags": []
      },
      "source": [
        "##### 入力2-6"
      ]
    },
    {
      "cell_type": "code",
      "execution_count": null,
      "id": "U2Q-1Okmbfj_",
      "metadata": {
        "id": "U2Q-1Okmbfj_"
      },
      "outputs": [],
      "source": [
        "# データの読み込み\n",
        "# 全部のデータを読み込む(時間がかかることが多い)\n",
        "# completeとかselectedは好きな単語でよい.df(DataFrameの略)が使われることも多いが，dfでなくてもまったく問題ない\n",
        "complete = pd.read_csv('METABRIC_RNA_Mutation.csv', low_memory=False)\n",
        "# 一部のデータのみを抽出する\n",
        "selected = pd.read_csv('METABRIC_RNA_Mutation.csv',\n",
        "                       usecols=['age_at_diagnosis', 'cancer_type_detailed', 'cellularity', \n",
        "                                      'er_status', 'her2_status', 'mutation_count', 'tumor_stage',\n",
        "                                      'overall_survival', 'brca1', 'brca2'])"
      ]
    },
    {
      "cell_type": "markdown",
      "id": "vkht9TMjbfj_",
      "metadata": {
        "id": "vkht9TMjbfj_"
      },
      "source": [
        "##### 入力2-7"
      ]
    },
    {
      "cell_type": "code",
      "execution_count": null,
      "id": "NYpqQQw_bfj_",
      "metadata": {
        "colab": {
          "base_uri": "https://localhost:8080/",
          "height": 206
        },
        "id": "NYpqQQw_bfj_",
        "outputId": "b96c47a7-fdb1-45a5-ca77-1497f5a56f13"
      },
      "outputs": [],
      "source": [
        "#データの最初の5行を表示する\n",
        "selected.head()"
      ]
    },
    {
      "cell_type": "markdown",
      "id": "2UK5G44XdgFw",
      "metadata": {
        "id": "2UK5G44XdgFw"
      },
      "source": [
        "##### 入力2-8"
      ]
    },
    {
      "cell_type": "code",
      "execution_count": null,
      "id": "GaKrIyChbfkA",
      "metadata": {
        "colab": {
          "base_uri": "https://localhost:8080/"
        },
        "id": "GaKrIyChbfkA",
        "outputId": "c6429f6a-1dc0-489b-f8c0-5531ffdb37d4"
      },
      "outputs": [],
      "source": [
        "#データの行数、列数を確認する\n",
        "selected.shape\n",
        "#データ型を確認する．\n",
        "selected.dtypes\n",
        "#カラム名を取得する\n",
        "selected.columns\n",
        "#(リストで取得したい場合にはselected.columns.valuesとする)\n",
        "\n",
        "#以上の3つのコードで得られる内容をまとめて取得する\n",
        "selected.info()"
      ]
    },
    {
      "cell_type": "markdown",
      "id": "mZYX84HEbfkA",
      "metadata": {
        "id": "mZYX84HEbfkA"
      },
      "source": [
        "##### 入力2-9"
      ]
    },
    {
      "cell_type": "code",
      "execution_count": null,
      "id": "c_s0AsKUbfkA",
      "metadata": {
        "colab": {
          "base_uri": "https://localhost:8080/"
        },
        "id": "c_s0AsKUbfkA",
        "outputId": "ad30e384-b968-480e-b2d7-097a4e0596ae"
      },
      "outputs": [],
      "source": [
        "# ユニークな値を把握する\n",
        "factor=selected['cellularity'].unique()\n",
        "print(factor)\n",
        "print(selected['cellularity'].value_counts())"
      ]
    },
    {
      "cell_type": "markdown",
      "id": "HFCawXALd0SA",
      "metadata": {
        "id": "HFCawXALd0SA"
      },
      "source": [
        "##### 入力2-10"
      ]
    },
    {
      "cell_type": "code",
      "execution_count": null,
      "id": "8qY1nmRKbfkB",
      "metadata": {
        "colab": {
          "base_uri": "https://localhost:8080/",
          "height": 300
        },
        "id": "8qY1nmRKbfkB",
        "outputId": "b8d13b08-78f4-482a-b707-1e317be5ae66"
      },
      "outputs": [],
      "source": [
        "selected.describe()"
      ]
    },
    {
      "cell_type": "markdown",
      "id": "SHSp0MO6bfkB",
      "metadata": {
        "id": "SHSp0MO6bfkB",
        "tags": []
      },
      "source": [
        "##### 入力2-11"
      ]
    },
    {
      "cell_type": "code",
      "execution_count": null,
      "id": "LtSFSEeabfkB",
      "metadata": {
        "colab": {
          "base_uri": "https://localhost:8080/",
          "height": 302
        },
        "id": "LtSFSEeabfkB",
        "outputId": "cc87523b-6fc6-49b2-e784-c558950ef093"
      },
      "outputs": [],
      "source": [
        "plt.rcParams[\"font.size\"] = 12 # フォントサイズを一括して設定する\n",
        "fig = plt.figure(figsize=(8, 4)) # 8×4サイズの白紙を作る\n",
        "ax1 = fig.add_subplot(1,2,1) # 白紙であるfigureを1×2に分割し，2つの領域のうち左をax1とする\n",
        "ax1.set_title(label='Tumor Stage', style = 'italic', weight='bold') # ax1のタイトルのフォント，太さを指定している\n",
        "ax1.hist(selected['tumor_stage'], bins=5, color='b') # histとはヒストグラムのこと\n",
        "ax2 = fig.add_subplot(1,2,2,title='Correlation of BRCA1/2') # 1×2の2つの領域のうち右をax2とする\n",
        "ax2.scatter(selected['brca1'], selected['brca2'], s=2) # scatterとは散布図のこと．s=は散布図の点の大きさ"
      ]
    },
    {
      "cell_type": "markdown",
      "id": "sNp5UViPbfkC",
      "metadata": {
        "id": "sNp5UViPbfkC"
      },
      "source": [
        "##### 入力2-12"
      ]
    },
    {
      "cell_type": "code",
      "execution_count": null,
      "id": "yrfOFKZYbfkC",
      "metadata": {
        "colab": {
          "base_uri": "https://localhost:8080/"
        },
        "id": "yrfOFKZYbfkC",
        "outputId": "967bcd19-09db-4783-c06c-9f57427281cc"
      },
      "outputs": [],
      "source": [
        "# Kaplan Meier曲線を描くためのlifelinesパッケージをインストールする.\n",
        "!pip install lifelines"
      ]
    },
    {
      "cell_type": "markdown",
      "id": "hzyegNIDeab0",
      "metadata": {
        "id": "hzyegNIDeab0"
      },
      "source": [
        "##### 入力2-13"
      ]
    },
    {
      "cell_type": "code",
      "execution_count": null,
      "id": "mr28zunXbfkC",
      "metadata": {
        "colab": {
          "base_uri": "https://localhost:8080/"
        },
        "id": "mr28zunXbfkC",
        "outputId": "2ce7da95-b234-438c-bb0d-0dfc4fa749ac"
      },
      "outputs": [],
      "source": [
        "# まず，必要なデータのみを手に入れる．今回は'overall_survial_months', 'her2_status', 'overall_survival'を使う．usecolsは復習\n",
        "from lifelines import KaplanMeierFitter\n",
        "breast = pd.read_csv('METABRIC_RNA_Mutation.csv', encoding='cp932', \n",
        "                                  usecols=['overall_survival_months', 'her2_status', 'overall_survival'])\n",
        "breast.info()"
      ]
    },
    {
      "cell_type": "markdown",
      "id": "28dy3TAVbfkC",
      "metadata": {
        "id": "28dy3TAVbfkC"
      },
      "source": [
        "##### 入力2-14"
      ]
    },
    {
      "cell_type": "code",
      "execution_count": null,
      "id": "84j-CUZDbfkC",
      "metadata": {
        "colab": {
          "base_uri": "https://localhost:8080/"
        },
        "id": "84j-CUZDbfkC",
        "outputId": "f69772ec-5338-494d-bb63-f57a859e3ac5"
      },
      "outputs": [],
      "source": [
        "# her2_statusがobjectなので1/0に変更する\n",
        "# 明示的にどのカテゴリに数値を割り当てるかを辞書形式で指定し，mapメソッドで実行する．2.4節で紹介する\n",
        "class_her2 = {'Positive':1, 'Negative':0}\n",
        "breast['her2_status'] = breast['her2_status'].map(class_her2)\n",
        "# HER2陽性と陰性でデータを分割する\n",
        "positive = breast.loc[breast['her2_status']==1]\n",
        "negative = breast.loc[breast['her2_status']==0]\n",
        "# log-rank検定を行う．lifelinesパッケージの統計手法が入っているフォルダ(.statistics)から log-rankを取り出していると読もう\n",
        "from lifelines.statistics import logrank_test\n",
        "logrank = logrank_test(positive['overall_survival_months'], negative['overall_survival_months'], positive['overall_survival'], negative['overall_survival'])\n",
        "print(logrank)"
      ]
    },
    {
      "cell_type": "markdown",
      "id": "EjeVuk6XbfkD",
      "metadata": {
        "id": "EjeVuk6XbfkD"
      },
      "source": [
        "##### 入力2-15"
      ]
    },
    {
      "cell_type": "code",
      "execution_count": null,
      "id": "e2AScYaqbfkD",
      "metadata": {
        "colab": {
          "base_uri": "https://localhost:8080/",
          "height": 282
        },
        "id": "e2AScYaqbfkD",
        "outputId": "c0fcae12-58a2-4c48-fba8-244cc3a61420"
      },
      "outputs": [],
      "source": [
        "from lifelines import KaplanMeierFitter\n",
        "ax = plt.subplot(111)\n",
        "# KaplanMeierFitter()をkmp(Kaplan Meier with her2 positiveから適当に名付けた)に割り当てる\n",
        "kmp = KaplanMeierFitter()\n",
        "kmp.fit(durations=positive['overall_survival_months'], event_observed=positive['overall_survival'], label='HER2(+)')\n",
        "# この時点でkmpにはKaplan-Meier統計量の情報が保持されている.ci_showとは信頼区間，show_censors とは打ち切りを表示するか否かという引数である.\n",
        "ax = kmp.plot(ci_show=True, show_censors=False, ax=ax)\n",
        "# 今度はHER2 negativeのKaplan-Meier曲線を作る\n",
        "kmn = KaplanMeierFitter()\n",
        "kmn.fit(durations=negative['overall_survival_months'], event_observed=negative['overall_survival'], label='HER2(-)')\n",
        "ax = kmn.plot(ci_show=True, show_censors=False, ax=ax)\n",
        "ax.set_xlabel('Time(months)', size=10, color='black', style='italic')\n",
        "ax.set_ylabel('Overall survival', rotation=90, color='blue', fontname='DejaVu Serif')\n",
        "# p値を図内に表示する.axにannotaionとして加えている.xyには図内の座標を指定する.\n",
        "ax.annotate('p=0.01', xy=(310, 0.8), xycoords='data', fontsize=10, weight='bold')\n",
        "plt.show()"
      ]
    },
    {
      "cell_type": "markdown",
      "id": "maZroNYIbfkD",
      "metadata": {
        "id": "maZroNYIbfkD"
      },
      "source": [
        "##### 入力2-16"
      ]
    },
    {
      "cell_type": "code",
      "execution_count": null,
      "id": "Y4Z_qo0_bfkD",
      "metadata": {
        "colab": {
          "base_uri": "https://localhost:8080/",
          "height": 439
        },
        "id": "Y4Z_qo0_bfkD",
        "outputId": "68d645ab-2c28-4c15-e962-48963209845c"
      },
      "outputs": [],
      "source": [
        "# Seabornをインポートする\n",
        "import seaborn as sns\n",
        "# style=に指定する値は図のグリッド(縦横の線)の有無と白黒の色で分類される\n",
        "sns.set_theme(style='whitegrid')\n",
        "f, ax = plt.subplots(figsize=(6.5, 6.5))\n",
        "# despineは不要な軸を除去する\n",
        "sns.despine(f, left=True, bottom=True)\n",
        "sns.scatterplot(x='brca1', y='brca2',data=complete)"
      ]
    },
    {
      "cell_type": "markdown",
      "id": "C0WmnPsfbfkD",
      "metadata": {
        "id": "C0WmnPsfbfkD"
      },
      "source": [
        "##### 入力2-17"
      ]
    },
    {
      "cell_type": "code",
      "execution_count": null,
      "id": "MzwZLE0rbfkE",
      "metadata": {
        "colab": {
          "base_uri": "https://localhost:8080/",
          "height": 561
        },
        "id": "MzwZLE0rbfkE",
        "outputId": "429e5c7b-b611-422a-86be-431cc267ed37"
      },
      "outputs": [],
      "source": [
        "# 相関係数を計算したい列(連続変量)を指定する\n",
        "heatmap = complete[['brca1', 'brca2', 'tp53', 'pten']]\n",
        "# 相関係数(correlation)を計算する\n",
        "corr=heatmap.corr()\n",
        "f, ax = plt.subplots(figsize=(11, 9))\n",
        "# ヒートマップを描画する\n",
        "sns.heatmap(corr)"
      ]
    },
    {
      "cell_type": "markdown",
      "id": "CRe3mNAJfRog",
      "metadata": {
        "id": "CRe3mNAJfRog"
      },
      "source": [
        "##### 入力2-18"
      ]
    },
    {
      "cell_type": "code",
      "execution_count": null,
      "id": "Dtojv3J8bfkE",
      "metadata": {
        "colab": {
          "base_uri": "https://localhost:8080/",
          "height": 741
        },
        "id": "Dtojv3J8bfkE",
        "outputId": "429efb92-e5d8-4829-d6e4-388f9ad425c7"
      },
      "outputs": [],
      "source": [
        "sns.set_theme(style='ticks')\n",
        "scatterplot=complete[['cancer_type_detailed', 'brca1', 'fgfr1', 'tp53', 'pten']]\n",
        "# hue=とすることで，癌の組織型によって色を層別化している\n",
        "sns.pairplot(scatterplot, hue='cancer_type_detailed')"
      ]
    },
    {
      "cell_type": "markdown",
      "id": "L65sLFU4bfkE",
      "metadata": {
        "id": "L65sLFU4bfkE"
      },
      "source": [
        "##### 入力2-19"
      ]
    },
    {
      "cell_type": "code",
      "execution_count": null,
      "id": "1l4HFerWbfkE",
      "metadata": {
        "colab": {
          "base_uri": "https://localhost:8080/",
          "height": 574
        },
        "id": "1l4HFerWbfkE",
        "outputId": "e81046b0-9117-49eb-e2f8-9f7fbee6955d"
      },
      "outputs": [],
      "source": [
        "from sklearn.decomposition import PCA # scikit-learnは機械学習ライブラリであるが，詳細は後に扱うので本章では割愛する．初めての人はなんとなくでよい．\n",
        "pca = PCA(n_components=2) # 2次元に圧縮する(n_components=2),PCA(Primary component analysis)インスタンスを作成\n",
        "X = pca.fit_transform(complete.iloc[:,31:41].values) # brca1~nf1の発現情報をilocで抜き出し，PCAで次元圧縮\n",
        "embed = pd.DataFrame(X) # 可視化のために結果をデータフレームに変換\n",
        "embed['label']=complete['overall_survival'] # 可視化用のデータフレームにoverall survivalを加える\n",
        "import seaborn as sns\n",
        "sns.set(style='darkgrid')\n",
        "plt.figure(figsize=(16, 9))\n",
        "ax = sns.scatterplot(x=embed[0], y=embed[1], hue=embed['label'], data=embed)\n",
        "ax.set_xlabel('PC1')\n",
        "ax.set_ylabel('PC2')"
      ]
    },
    {
      "cell_type": "markdown",
      "id": "hzIk_plUbfkE",
      "metadata": {
        "id": "hzIk_plUbfkE"
      },
      "source": [
        "\n",
        "##### 入力2-20\n"
      ]
    },
    {
      "cell_type": "code",
      "execution_count": null,
      "id": "UVuzw6XJbfkF",
      "metadata": {
        "colab": {
          "base_uri": "https://localhost:8080/",
          "height": 951,
          "referenced_widgets": [
            "e50b6af04d9447db9a54de0904a478f6",
            "cde31bf620784cff80908e3a87340863",
            "65ee2b4b165d4a3bbd7d25707ec64002",
            "3d9c2272ff604759bdbe70210ed68d8f",
            "7a71df704ca24df6917701afb33e1325",
            "c8fdf460f1804b2a90b9dd57e7fd06c1",
            "345b67d6f79d476999735c350042ba12",
            "7077cba8a1e349d5982809f91672b74f",
            "8e5ab34066904aee8fa415a67b97b1fb",
            "3cc2b4a5af1647fc9b32dc1e4d16b959",
            "b1b02e4fcf3f42b990ec27a4051542a2",
            "93148d6ae6094e06885eb393ebc66b64",
            "7d59cc3971e64ab7a3adc49dbb0f0bf2",
            "f5d5b4e47aa6494fafd1d3d27bc22e29",
            "64cb08493e604a5a9704ad8a9929dab6",
            "8b3c7a9f44e04bfa83bbb6e1f2f91df4",
            "0abe0f5992c0466894b6a4ef327d5ab8",
            "4ea666fb9ae3413ba480d651d1867ecc",
            "6c84c79d5e894878b501be10464e9107",
            "9a7d4259a74e427ebee4e320fad0e4c8",
            "f6d11d71be4a420ab5b5df312ffd2303",
            "efbded2733c640dabd5b0b2de449dde4",
            "4365871d90794210bb363c54c82720ba",
            "c0513c8a8d9644c1bae049e27a87f873",
            "a747f0be26434a0da13ff3f73e64d703",
            "d4b41e41a92540b7b6ebc10032190723",
            "1db93ad0f4fb454d9e2cf21c5ecc924d",
            "c1ec0b1aab3c41e88386bbae953be87c",
            "ba4b29738ffc4433975187b417d5466a",
            "cf1f453d68734a91a66b8ac79b643f1f",
            "c675a00a062f43fa96e69dc836d9603c",
            "3427f1ef46ca430cbad450bf2fa53a36",
            "80456e5d94a345e19581e758822f6301"
          ]
        },
        "id": "UVuzw6XJbfkF",
        "outputId": "0d537478-5ef2-4adc-c6d4-0add4b43abb0"
      },
      "outputs": [],
      "source": [
        "import pandas_profiling as pdp\n",
        "\n",
        "pdp.ProfileReport(selected)"
      ]
    },
    {
      "cell_type": "markdown",
      "id": "OMmNQscCbfkF",
      "metadata": {
        "id": "OMmNQscCbfkF"
      },
      "source": [
        "##### 入力2-21"
      ]
    },
    {
      "cell_type": "code",
      "execution_count": null,
      "id": "4j2767eabfkF",
      "metadata": {
        "colab": {
          "base_uri": "https://localhost:8080/"
        },
        "id": "4j2767eabfkF",
        "outputId": "aec124b3-aebd-4e6b-af7c-16eafb5512c3"
      },
      "outputs": [],
      "source": [
        "!pip install pandas-profiling\n",
        "!pip install --upgrade pandas_profiling\n",
        "# 下記については，筆者の場合は必要であったが，大方の場合は不要なはずなので，まずはこれはなしで 次に行ってほしい.\n",
        "!pip install markupsafe==2.1.1"
      ]
    },
    {
      "cell_type": "markdown",
      "id": "wmBqLv9MbfkF",
      "metadata": {
        "id": "wmBqLv9MbfkF"
      },
      "source": [
        "##### 入力2-22"
      ]
    },
    {
      "cell_type": "code",
      "execution_count": null,
      "id": "EYcwE2pLbfkF",
      "metadata": {
        "colab": {
          "base_uri": "https://localhost:8080/"
        },
        "id": "EYcwE2pLbfkF",
        "outputId": "0b492d39-eb3e-46cf-dcf6-e806a77fdd38"
      },
      "outputs": [],
      "source": [
        "selected.isnull().sum()"
      ]
    },
    {
      "cell_type": "markdown",
      "id": "LnVik6hvbfkG",
      "metadata": {
        "id": "LnVik6hvbfkG"
      },
      "source": [
        "##### 入力2-23"
      ]
    },
    {
      "cell_type": "code",
      "execution_count": null,
      "id": "8DMR9RRYbfkG",
      "metadata": {
        "id": "8DMR9RRYbfkG"
      },
      "outputs": [],
      "source": [
        "deleted=selected.copy()\n",
        "deleted.dropna(inplace=True)"
      ]
    },
    {
      "cell_type": "markdown",
      "id": "8uZNfsFlbfkG",
      "metadata": {
        "id": "8uZNfsFlbfkG"
      },
      "source": [
        "##### 入力2-24"
      ]
    },
    {
      "cell_type": "code",
      "execution_count": null,
      "id": "fxkLQK2jbfkG",
      "metadata": {
        "colab": {
          "base_uri": "https://localhost:8080/"
        },
        "id": "fxkLQK2jbfkG",
        "outputId": "5015cf92-58e6-4ae2-9034-f0e4c857844f"
      },
      "outputs": [],
      "source": [
        "# 表に変更を加えるので，遺伝子発現データのみを取得(31列目以降を指定)\n",
        "genes=complete.iloc[:,31:]\n",
        "genes.loc[complete['brca1']>0, 'brca1_status']='High_expression'\n",
        "genes['brca1_status'].value_counts()"
      ]
    },
    {
      "cell_type": "markdown",
      "id": "RLWhBafabfkG",
      "metadata": {
        "id": "RLWhBafabfkG"
      },
      "source": [
        "##### 入力2-25"
      ]
    },
    {
      "cell_type": "code",
      "execution_count": null,
      "id": "jx5PblNfbfkH",
      "metadata": {
        "colab": {
          "base_uri": "https://localhost:8080/"
        },
        "id": "jx5PblNfbfkH",
        "outputId": "6d158858-17aa-4484-f4b8-6c7b35eb235f"
      },
      "outputs": [],
      "source": [
        "# 表の結合(例)\n",
        "df1=complete[['patient_id', 'cellularity']]\n",
        "df2=complete[['patient_id', 'age_at_diagnosis']]\n",
        "merge=pd.merge(df1, df2, on='patient_id')\n",
        "comparison=complete[['patient_id', 'cellularity', 'age_at_diagnosis']]\n",
        "print(merge.equals(comparison))"
      ]
    },
    {
      "cell_type": "markdown",
      "id": "RCUuDXDzbfkH",
      "metadata": {
        "id": "RCUuDXDzbfkH",
        "tags": []
      },
      "source": [
        "##### 入力2-26"
      ]
    },
    {
      "cell_type": "code",
      "execution_count": null,
      "id": "4FVqVUnpbfkH",
      "metadata": {
        "id": "4FVqVUnpbfkH"
      },
      "outputs": [],
      "source": [
        "# 2.6節の解析ではoverall survivalの説明変数としてcellularity，ERとHER2の発現，BRCA1/2の RNA-seqデータのみ使用するのでそれをdataに格納し，欠損値を削除する\n",
        "data = pd.read_csv('METABRIC_RNA_Mutation.csv', encoding='cp932',\n",
        "                              usecols = ['cellularity','er_status', 'her2_status', 'overall_survival', 'brca1', 'brca2'])\n",
        "data.dropna(inplace=True)"
      ]
    },
    {
      "cell_type": "markdown",
      "id": "Ei3hgdfJg2tJ",
      "metadata": {
        "id": "Ei3hgdfJg2tJ"
      },
      "source": [
        "##### 入力2-27"
      ]
    },
    {
      "cell_type": "code",
      "execution_count": null,
      "id": "kg5sPz5DbfkH",
      "metadata": {
        "colab": {
          "base_uri": "https://localhost:8080/"
        },
        "id": "kg5sPz5DbfkH",
        "outputId": "1e4070b4-44eb-4d81-faf5-0b8d3171a492"
      },
      "outputs": [],
      "source": [
        "# カテゴリカル変数に数値を与える. ここではcellularityに1/0の2値を与えた.\n",
        "data['cellularity'] = data['cellularity'].map({'High': 1, 'Moderate': 1, 'Low': 0})\n",
        "data['cellularity'].unique()"
      ]
    },
    {
      "cell_type": "markdown",
      "id": "YwL_aN35bfkH",
      "metadata": {
        "id": "YwL_aN35bfkH"
      },
      "source": [
        "##### 入力2-28"
      ]
    },
    {
      "cell_type": "code",
      "execution_count": null,
      "id": "guMFHKIBbfkH",
      "metadata": {
        "colab": {
          "base_uri": "https://localhost:8080/",
          "height": 206
        },
        "id": "guMFHKIBbfkH",
        "outputId": "23ba6857-b619-42f7-a0ba-2b1a5bbc8e29"
      },
      "outputs": [],
      "source": [
        "# 残ったer_statusなどの項目は2水準しかないのでget_dummiesを使ってみる\n",
        "data = pd.get_dummies(data, drop_first=True)\n",
        "data.head()"
      ]
    },
    {
      "cell_type": "markdown",
      "id": "n9ZwWAxMbfkH",
      "metadata": {
        "id": "n9ZwWAxMbfkH",
        "tags": []
      },
      "source": [
        "##### 入力2-29"
      ]
    },
    {
      "cell_type": "code",
      "execution_count": null,
      "id": "sKN040mEbfkI",
      "metadata": {
        "id": "sKN040mEbfkI"
      },
      "outputs": [],
      "source": [
        "# 解析の準備をする.NumPy配列にするために.valuesとしている\n",
        "# Xに対してはoverall_survival以外を指定してNumPyの配列に変換している\n",
        "X = data.iloc[:,data.columns!=\"overall_survival\"].values\n",
        "# Yに対しては直接指定している\n",
        "Y = data.iloc[:, 1].values"
      ]
    },
    {
      "cell_type": "markdown",
      "id": "DcEQTGdIbfkI",
      "metadata": {
        "id": "DcEQTGdIbfkI"
      },
      "source": [
        "##### 入力2-30"
      ]
    },
    {
      "cell_type": "code",
      "execution_count": null,
      "id": "zHSqsgaAbfkI",
      "metadata": {
        "colab": {
          "base_uri": "https://localhost:8080/"
        },
        "id": "zHSqsgaAbfkI",
        "outputId": "eb4c176e-e80a-428c-ada9-5587fee8a61b"
      },
      "outputs": [],
      "source": [
        "# 1行目のデータを取得\n",
        "X[0]"
      ]
    },
    {
      "cell_type": "markdown",
      "id": "1h4a64UBbfkI",
      "metadata": {
        "id": "1h4a64UBbfkI"
      },
      "source": [
        "##### 入力2-31"
      ]
    },
    {
      "cell_type": "code",
      "execution_count": null,
      "id": "lIz1dYP2bfkI",
      "metadata": {
        "colab": {
          "base_uri": "https://localhost:8080/"
        },
        "id": "lIz1dYP2bfkI",
        "outputId": "91ee19ef-e4fd-4fc3-bacc-89da8e4c284d"
      },
      "outputs": [],
      "source": [
        "Y[0]"
      ]
    },
    {
      "cell_type": "markdown",
      "id": "7wdH30Z5bfkI",
      "metadata": {
        "id": "7wdH30Z5bfkI"
      },
      "source": [
        "##### 入力2-32"
      ]
    },
    {
      "cell_type": "code",
      "execution_count": null,
      "id": "75NHINYCbfkI",
      "metadata": {
        "colab": {
          "base_uri": "https://localhost:8080/"
        },
        "id": "75NHINYCbfkI",
        "outputId": "554c41a9-ece2-473b-85aa-2d1e805bd1c6"
      },
      "outputs": [],
      "source": [
        "from sklearn.model_selection import train_test_split\n",
        "from sklearn.linear_model import LogisticRegression\n",
        "\n",
        "# 訓練データとテストデータに分割\n",
        "X_train, X_test, Y_train, Y_test = train_test_split(X, Y, test_size = 0.4, random_state = 0) # 60%のデータを学習データに，40%を検証データにする\n",
        "\n",
        "lr = LogisticRegression(max_iter=200) # ロジスティック回帰モデルのインスタンスを作成\n",
        "lr.fit(X_train, Y_train) # ロジスティック回帰モデルの重みを学習\n",
        "\n",
        "print(\"coefficient = \", lr.coef_)\n",
        "print(\"intercept = \", lr.intercept_)"
      ]
    },
    {
      "cell_type": "markdown",
      "id": "FXvDQmNLbfkJ",
      "metadata": {
        "id": "FXvDQmNLbfkJ"
      },
      "source": [
        "##### 入力2-33"
      ]
    },
    {
      "cell_type": "code",
      "execution_count": null,
      "id": "VxK6Kwu_bfkJ",
      "metadata": {
        "colab": {
          "base_uri": "https://localhost:8080/"
        },
        "id": "VxK6Kwu_bfkJ",
        "outputId": "f6d7bb02-17d4-4e32-f22b-0101a95df48d"
      },
      "outputs": [],
      "source": [
        "X_test[0]"
      ]
    },
    {
      "cell_type": "markdown",
      "id": "odk5Y2Qtix3O",
      "metadata": {
        "id": "odk5Y2Qtix3O"
      },
      "source": [
        "##### 入力2-34"
      ]
    },
    {
      "cell_type": "code",
      "execution_count": null,
      "id": "IF-6Vc6PbfkJ",
      "metadata": {
        "colab": {
          "base_uri": "https://localhost:8080/"
        },
        "id": "IF-6Vc6PbfkJ",
        "outputId": "98544ca0-222c-40a4-893e-1059bd695cec"
      },
      "outputs": [],
      "source": [
        "# X_test[0]の配列を自分で作るなら下記のようにやる\n",
        "x=np.array([1, -0.408, 1.2402, 0, 0])\n",
        "# 行列演算をする前には，配列の形状を確認しておく\n",
        "print(x.shape)\n",
        "print(lr.coef_.shape)"
      ]
    },
    {
      "cell_type": "markdown",
      "id": "JkHtDqkwi2sP",
      "metadata": {
        "id": "JkHtDqkwi2sP"
      },
      "source": [
        "##### 入力2-35"
      ]
    },
    {
      "cell_type": "code",
      "execution_count": null,
      "id": "Q5ZZqT5nbfkJ",
      "metadata": {
        "colab": {
          "base_uri": "https://localhost:8080/"
        },
        "id": "Q5ZZqT5nbfkJ",
        "outputId": "7eab370c-1f9c-4cae-fc10-83dfc241a574"
      },
      "outputs": [],
      "source": [
        "# 実際に係数と入力値を求めてロジスティック関数に代入する.\n",
        "# ロジスティック関数でネイピア数の肩に乗る値を計算するには係数×入力値+切片の値が必要\n",
        "# dotとは行列積を計算するもの\n",
        "val=np.dot(lr.coef_, x)\n",
        "# ロジスティック関数の返り値を計算\n",
        "probability=1/(1+np.exp(-val-lr.intercept_))\n",
        "probability"
      ]
    },
    {
      "cell_type": "markdown",
      "id": "SNPuekKpi-Jg",
      "metadata": {
        "id": "SNPuekKpi-Jg"
      },
      "source": [
        "##### 入力2-36"
      ]
    },
    {
      "cell_type": "code",
      "execution_count": null,
      "id": "r_B2osAhbfkJ",
      "metadata": {
        "colab": {
          "base_uri": "https://localhost:8080/"
        },
        "id": "r_B2osAhbfkJ",
        "outputId": "ed468713-da29-4e59-ee00-c7a3deaab768"
      },
      "outputs": [],
      "source": [
        "# テストデータに対する確率を計算\n",
        "answer=lr.predict_proba(X_test)\n",
        "# X[0]に該当するデータに対して確率を計算したのでanswer[0]を見る\n",
        "answer[0]"
      ]
    }
  ],
  "metadata": {
    "colab": {
      "provenance": []
    },
    "kernelspec": {
      "display_name": "Python 3",
      "language": "python",
      "name": "python3"
    },
    "language_info": {
      "codemirror_mode": {
        "name": "ipython",
        "version": 3
      },
      "file_extension": ".py",
      "mimetype": "text/x-python",
      "name": "python",
      "nbconvert_exporter": "python",
      "pygments_lexer": "ipython3",
      "version": "3.11.1"
    },
    "vscode": {
      "interpreter": {
        "hash": "1a1af0ee75eeea9e2e1ee996c87e7a2b11a0bebd85af04bb136d915cefc0abce"
      }
    },
    "widgets": {
      "application/vnd.jupyter.widget-state+json": {
        "0abe0f5992c0466894b6a4ef327d5ab8": {
          "model_module": "@jupyter-widgets/base",
          "model_module_version": "1.2.0",
          "model_name": "LayoutModel",
          "state": {
            "_model_module": "@jupyter-widgets/base",
            "_model_module_version": "1.2.0",
            "_model_name": "LayoutModel",
            "_view_count": null,
            "_view_module": "@jupyter-widgets/base",
            "_view_module_version": "1.2.0",
            "_view_name": "LayoutView",
            "align_content": null,
            "align_items": null,
            "align_self": null,
            "border": null,
            "bottom": null,
            "display": null,
            "flex": null,
            "flex_flow": null,
            "grid_area": null,
            "grid_auto_columns": null,
            "grid_auto_flow": null,
            "grid_auto_rows": null,
            "grid_column": null,
            "grid_gap": null,
            "grid_row": null,
            "grid_template_areas": null,
            "grid_template_columns": null,
            "grid_template_rows": null,
            "height": null,
            "justify_content": null,
            "justify_items": null,
            "left": null,
            "margin": null,
            "max_height": null,
            "max_width": null,
            "min_height": null,
            "min_width": null,
            "object_fit": null,
            "object_position": null,
            "order": null,
            "overflow": null,
            "overflow_x": null,
            "overflow_y": null,
            "padding": null,
            "right": null,
            "top": null,
            "visibility": null,
            "width": null
          }
        },
        "1db93ad0f4fb454d9e2cf21c5ecc924d": {
          "model_module": "@jupyter-widgets/base",
          "model_module_version": "1.2.0",
          "model_name": "LayoutModel",
          "state": {
            "_model_module": "@jupyter-widgets/base",
            "_model_module_version": "1.2.0",
            "_model_name": "LayoutModel",
            "_view_count": null,
            "_view_module": "@jupyter-widgets/base",
            "_view_module_version": "1.2.0",
            "_view_name": "LayoutView",
            "align_content": null,
            "align_items": null,
            "align_self": null,
            "border": null,
            "bottom": null,
            "display": null,
            "flex": null,
            "flex_flow": null,
            "grid_area": null,
            "grid_auto_columns": null,
            "grid_auto_flow": null,
            "grid_auto_rows": null,
            "grid_column": null,
            "grid_gap": null,
            "grid_row": null,
            "grid_template_areas": null,
            "grid_template_columns": null,
            "grid_template_rows": null,
            "height": null,
            "justify_content": null,
            "justify_items": null,
            "left": null,
            "margin": null,
            "max_height": null,
            "max_width": null,
            "min_height": null,
            "min_width": null,
            "object_fit": null,
            "object_position": null,
            "order": null,
            "overflow": null,
            "overflow_x": null,
            "overflow_y": null,
            "padding": null,
            "right": null,
            "top": null,
            "visibility": null,
            "width": null
          }
        },
        "3427f1ef46ca430cbad450bf2fa53a36": {
          "model_module": "@jupyter-widgets/base",
          "model_module_version": "1.2.0",
          "model_name": "LayoutModel",
          "state": {
            "_model_module": "@jupyter-widgets/base",
            "_model_module_version": "1.2.0",
            "_model_name": "LayoutModel",
            "_view_count": null,
            "_view_module": "@jupyter-widgets/base",
            "_view_module_version": "1.2.0",
            "_view_name": "LayoutView",
            "align_content": null,
            "align_items": null,
            "align_self": null,
            "border": null,
            "bottom": null,
            "display": null,
            "flex": null,
            "flex_flow": null,
            "grid_area": null,
            "grid_auto_columns": null,
            "grid_auto_flow": null,
            "grid_auto_rows": null,
            "grid_column": null,
            "grid_gap": null,
            "grid_row": null,
            "grid_template_areas": null,
            "grid_template_columns": null,
            "grid_template_rows": null,
            "height": null,
            "justify_content": null,
            "justify_items": null,
            "left": null,
            "margin": null,
            "max_height": null,
            "max_width": null,
            "min_height": null,
            "min_width": null,
            "object_fit": null,
            "object_position": null,
            "order": null,
            "overflow": null,
            "overflow_x": null,
            "overflow_y": null,
            "padding": null,
            "right": null,
            "top": null,
            "visibility": null,
            "width": null
          }
        },
        "345b67d6f79d476999735c350042ba12": {
          "model_module": "@jupyter-widgets/controls",
          "model_module_version": "1.5.0",
          "model_name": "DescriptionStyleModel",
          "state": {
            "_model_module": "@jupyter-widgets/controls",
            "_model_module_version": "1.5.0",
            "_model_name": "DescriptionStyleModel",
            "_view_count": null,
            "_view_module": "@jupyter-widgets/base",
            "_view_module_version": "1.2.0",
            "_view_name": "StyleView",
            "description_width": ""
          }
        },
        "3cc2b4a5af1647fc9b32dc1e4d16b959": {
          "model_module": "@jupyter-widgets/base",
          "model_module_version": "1.2.0",
          "model_name": "LayoutModel",
          "state": {
            "_model_module": "@jupyter-widgets/base",
            "_model_module_version": "1.2.0",
            "_model_name": "LayoutModel",
            "_view_count": null,
            "_view_module": "@jupyter-widgets/base",
            "_view_module_version": "1.2.0",
            "_view_name": "LayoutView",
            "align_content": null,
            "align_items": null,
            "align_self": null,
            "border": null,
            "bottom": null,
            "display": null,
            "flex": null,
            "flex_flow": null,
            "grid_area": null,
            "grid_auto_columns": null,
            "grid_auto_flow": null,
            "grid_auto_rows": null,
            "grid_column": null,
            "grid_gap": null,
            "grid_row": null,
            "grid_template_areas": null,
            "grid_template_columns": null,
            "grid_template_rows": null,
            "height": null,
            "justify_content": null,
            "justify_items": null,
            "left": null,
            "margin": null,
            "max_height": null,
            "max_width": null,
            "min_height": null,
            "min_width": null,
            "object_fit": null,
            "object_position": null,
            "order": null,
            "overflow": null,
            "overflow_x": null,
            "overflow_y": null,
            "padding": null,
            "right": null,
            "top": null,
            "visibility": null,
            "width": null
          }
        },
        "3d9c2272ff604759bdbe70210ed68d8f": {
          "model_module": "@jupyter-widgets/controls",
          "model_module_version": "1.5.0",
          "model_name": "HTMLModel",
          "state": {
            "_dom_classes": [],
            "_model_module": "@jupyter-widgets/controls",
            "_model_module_version": "1.5.0",
            "_model_name": "HTMLModel",
            "_view_count": null,
            "_view_module": "@jupyter-widgets/controls",
            "_view_module_version": "1.5.0",
            "_view_name": "HTMLView",
            "description": "",
            "description_tooltip": null,
            "layout": "IPY_MODEL_3cc2b4a5af1647fc9b32dc1e4d16b959",
            "placeholder": "​",
            "style": "IPY_MODEL_b1b02e4fcf3f42b990ec27a4051542a2",
            "value": " 36/36 [00:07&lt;00:00,  4.23it/s, Completed]"
          }
        },
        "4365871d90794210bb363c54c82720ba": {
          "model_module": "@jupyter-widgets/controls",
          "model_module_version": "1.5.0",
          "model_name": "HBoxModel",
          "state": {
            "_dom_classes": [],
            "_model_module": "@jupyter-widgets/controls",
            "_model_module_version": "1.5.0",
            "_model_name": "HBoxModel",
            "_view_count": null,
            "_view_module": "@jupyter-widgets/controls",
            "_view_module_version": "1.5.0",
            "_view_name": "HBoxView",
            "box_style": "",
            "children": [
              "IPY_MODEL_c0513c8a8d9644c1bae049e27a87f873",
              "IPY_MODEL_a747f0be26434a0da13ff3f73e64d703",
              "IPY_MODEL_d4b41e41a92540b7b6ebc10032190723"
            ],
            "layout": "IPY_MODEL_1db93ad0f4fb454d9e2cf21c5ecc924d"
          }
        },
        "4ea666fb9ae3413ba480d651d1867ecc": {
          "model_module": "@jupyter-widgets/controls",
          "model_module_version": "1.5.0",
          "model_name": "DescriptionStyleModel",
          "state": {
            "_model_module": "@jupyter-widgets/controls",
            "_model_module_version": "1.5.0",
            "_model_name": "DescriptionStyleModel",
            "_view_count": null,
            "_view_module": "@jupyter-widgets/base",
            "_view_module_version": "1.2.0",
            "_view_name": "StyleView",
            "description_width": ""
          }
        },
        "64cb08493e604a5a9704ad8a9929dab6": {
          "model_module": "@jupyter-widgets/controls",
          "model_module_version": "1.5.0",
          "model_name": "HTMLModel",
          "state": {
            "_dom_classes": [],
            "_model_module": "@jupyter-widgets/controls",
            "_model_module_version": "1.5.0",
            "_model_name": "HTMLModel",
            "_view_count": null,
            "_view_module": "@jupyter-widgets/controls",
            "_view_module_version": "1.5.0",
            "_view_name": "HTMLView",
            "description": "",
            "description_tooltip": null,
            "layout": "IPY_MODEL_f6d11d71be4a420ab5b5df312ffd2303",
            "placeholder": "​",
            "style": "IPY_MODEL_efbded2733c640dabd5b0b2de449dde4",
            "value": " 1/1 [00:07&lt;00:00,  7.65s/it]"
          }
        },
        "65ee2b4b165d4a3bbd7d25707ec64002": {
          "model_module": "@jupyter-widgets/controls",
          "model_module_version": "1.5.0",
          "model_name": "FloatProgressModel",
          "state": {
            "_dom_classes": [],
            "_model_module": "@jupyter-widgets/controls",
            "_model_module_version": "1.5.0",
            "_model_name": "FloatProgressModel",
            "_view_count": null,
            "_view_module": "@jupyter-widgets/controls",
            "_view_module_version": "1.5.0",
            "_view_name": "ProgressView",
            "bar_style": "success",
            "description": "",
            "description_tooltip": null,
            "layout": "IPY_MODEL_7077cba8a1e349d5982809f91672b74f",
            "max": 5,
            "min": 0,
            "orientation": "horizontal",
            "style": "IPY_MODEL_8e5ab34066904aee8fa415a67b97b1fb",
            "value": 5
          }
        },
        "6c84c79d5e894878b501be10464e9107": {
          "model_module": "@jupyter-widgets/base",
          "model_module_version": "1.2.0",
          "model_name": "LayoutModel",
          "state": {
            "_model_module": "@jupyter-widgets/base",
            "_model_module_version": "1.2.0",
            "_model_name": "LayoutModel",
            "_view_count": null,
            "_view_module": "@jupyter-widgets/base",
            "_view_module_version": "1.2.0",
            "_view_name": "LayoutView",
            "align_content": null,
            "align_items": null,
            "align_self": null,
            "border": null,
            "bottom": null,
            "display": null,
            "flex": null,
            "flex_flow": null,
            "grid_area": null,
            "grid_auto_columns": null,
            "grid_auto_flow": null,
            "grid_auto_rows": null,
            "grid_column": null,
            "grid_gap": null,
            "grid_row": null,
            "grid_template_areas": null,
            "grid_template_columns": null,
            "grid_template_rows": null,
            "height": null,
            "justify_content": null,
            "justify_items": null,
            "left": null,
            "margin": null,
            "max_height": null,
            "max_width": null,
            "min_height": null,
            "min_width": null,
            "object_fit": null,
            "object_position": null,
            "order": null,
            "overflow": null,
            "overflow_x": null,
            "overflow_y": null,
            "padding": null,
            "right": null,
            "top": null,
            "visibility": null,
            "width": null
          }
        },
        "7077cba8a1e349d5982809f91672b74f": {
          "model_module": "@jupyter-widgets/base",
          "model_module_version": "1.2.0",
          "model_name": "LayoutModel",
          "state": {
            "_model_module": "@jupyter-widgets/base",
            "_model_module_version": "1.2.0",
            "_model_name": "LayoutModel",
            "_view_count": null,
            "_view_module": "@jupyter-widgets/base",
            "_view_module_version": "1.2.0",
            "_view_name": "LayoutView",
            "align_content": null,
            "align_items": null,
            "align_self": null,
            "border": null,
            "bottom": null,
            "display": null,
            "flex": null,
            "flex_flow": null,
            "grid_area": null,
            "grid_auto_columns": null,
            "grid_auto_flow": null,
            "grid_auto_rows": null,
            "grid_column": null,
            "grid_gap": null,
            "grid_row": null,
            "grid_template_areas": null,
            "grid_template_columns": null,
            "grid_template_rows": null,
            "height": null,
            "justify_content": null,
            "justify_items": null,
            "left": null,
            "margin": null,
            "max_height": null,
            "max_width": null,
            "min_height": null,
            "min_width": null,
            "object_fit": null,
            "object_position": null,
            "order": null,
            "overflow": null,
            "overflow_x": null,
            "overflow_y": null,
            "padding": null,
            "right": null,
            "top": null,
            "visibility": null,
            "width": null
          }
        },
        "7a71df704ca24df6917701afb33e1325": {
          "model_module": "@jupyter-widgets/base",
          "model_module_version": "1.2.0",
          "model_name": "LayoutModel",
          "state": {
            "_model_module": "@jupyter-widgets/base",
            "_model_module_version": "1.2.0",
            "_model_name": "LayoutModel",
            "_view_count": null,
            "_view_module": "@jupyter-widgets/base",
            "_view_module_version": "1.2.0",
            "_view_name": "LayoutView",
            "align_content": null,
            "align_items": null,
            "align_self": null,
            "border": null,
            "bottom": null,
            "display": null,
            "flex": null,
            "flex_flow": null,
            "grid_area": null,
            "grid_auto_columns": null,
            "grid_auto_flow": null,
            "grid_auto_rows": null,
            "grid_column": null,
            "grid_gap": null,
            "grid_row": null,
            "grid_template_areas": null,
            "grid_template_columns": null,
            "grid_template_rows": null,
            "height": null,
            "justify_content": null,
            "justify_items": null,
            "left": null,
            "margin": null,
            "max_height": null,
            "max_width": null,
            "min_height": null,
            "min_width": null,
            "object_fit": null,
            "object_position": null,
            "order": null,
            "overflow": null,
            "overflow_x": null,
            "overflow_y": null,
            "padding": null,
            "right": null,
            "top": null,
            "visibility": null,
            "width": null
          }
        },
        "7d59cc3971e64ab7a3adc49dbb0f0bf2": {
          "model_module": "@jupyter-widgets/controls",
          "model_module_version": "1.5.0",
          "model_name": "HTMLModel",
          "state": {
            "_dom_classes": [],
            "_model_module": "@jupyter-widgets/controls",
            "_model_module_version": "1.5.0",
            "_model_name": "HTMLModel",
            "_view_count": null,
            "_view_module": "@jupyter-widgets/controls",
            "_view_module_version": "1.5.0",
            "_view_name": "HTMLView",
            "description": "",
            "description_tooltip": null,
            "layout": "IPY_MODEL_0abe0f5992c0466894b6a4ef327d5ab8",
            "placeholder": "​",
            "style": "IPY_MODEL_4ea666fb9ae3413ba480d651d1867ecc",
            "value": "Generate report structure: 100%"
          }
        },
        "80456e5d94a345e19581e758822f6301": {
          "model_module": "@jupyter-widgets/controls",
          "model_module_version": "1.5.0",
          "model_name": "DescriptionStyleModel",
          "state": {
            "_model_module": "@jupyter-widgets/controls",
            "_model_module_version": "1.5.0",
            "_model_name": "DescriptionStyleModel",
            "_view_count": null,
            "_view_module": "@jupyter-widgets/base",
            "_view_module_version": "1.2.0",
            "_view_name": "StyleView",
            "description_width": ""
          }
        },
        "8b3c7a9f44e04bfa83bbb6e1f2f91df4": {
          "model_module": "@jupyter-widgets/base",
          "model_module_version": "1.2.0",
          "model_name": "LayoutModel",
          "state": {
            "_model_module": "@jupyter-widgets/base",
            "_model_module_version": "1.2.0",
            "_model_name": "LayoutModel",
            "_view_count": null,
            "_view_module": "@jupyter-widgets/base",
            "_view_module_version": "1.2.0",
            "_view_name": "LayoutView",
            "align_content": null,
            "align_items": null,
            "align_self": null,
            "border": null,
            "bottom": null,
            "display": null,
            "flex": null,
            "flex_flow": null,
            "grid_area": null,
            "grid_auto_columns": null,
            "grid_auto_flow": null,
            "grid_auto_rows": null,
            "grid_column": null,
            "grid_gap": null,
            "grid_row": null,
            "grid_template_areas": null,
            "grid_template_columns": null,
            "grid_template_rows": null,
            "height": null,
            "justify_content": null,
            "justify_items": null,
            "left": null,
            "margin": null,
            "max_height": null,
            "max_width": null,
            "min_height": null,
            "min_width": null,
            "object_fit": null,
            "object_position": null,
            "order": null,
            "overflow": null,
            "overflow_x": null,
            "overflow_y": null,
            "padding": null,
            "right": null,
            "top": null,
            "visibility": null,
            "width": null
          }
        },
        "8e5ab34066904aee8fa415a67b97b1fb": {
          "model_module": "@jupyter-widgets/controls",
          "model_module_version": "1.5.0",
          "model_name": "ProgressStyleModel",
          "state": {
            "_model_module": "@jupyter-widgets/controls",
            "_model_module_version": "1.5.0",
            "_model_name": "ProgressStyleModel",
            "_view_count": null,
            "_view_module": "@jupyter-widgets/base",
            "_view_module_version": "1.2.0",
            "_view_name": "StyleView",
            "bar_color": null,
            "description_width": ""
          }
        },
        "93148d6ae6094e06885eb393ebc66b64": {
          "model_module": "@jupyter-widgets/controls",
          "model_module_version": "1.5.0",
          "model_name": "HBoxModel",
          "state": {
            "_dom_classes": [],
            "_model_module": "@jupyter-widgets/controls",
            "_model_module_version": "1.5.0",
            "_model_name": "HBoxModel",
            "_view_count": null,
            "_view_module": "@jupyter-widgets/controls",
            "_view_module_version": "1.5.0",
            "_view_name": "HBoxView",
            "box_style": "",
            "children": [
              "IPY_MODEL_7d59cc3971e64ab7a3adc49dbb0f0bf2",
              "IPY_MODEL_f5d5b4e47aa6494fafd1d3d27bc22e29",
              "IPY_MODEL_64cb08493e604a5a9704ad8a9929dab6"
            ],
            "layout": "IPY_MODEL_8b3c7a9f44e04bfa83bbb6e1f2f91df4"
          }
        },
        "9a7d4259a74e427ebee4e320fad0e4c8": {
          "model_module": "@jupyter-widgets/controls",
          "model_module_version": "1.5.0",
          "model_name": "ProgressStyleModel",
          "state": {
            "_model_module": "@jupyter-widgets/controls",
            "_model_module_version": "1.5.0",
            "_model_name": "ProgressStyleModel",
            "_view_count": null,
            "_view_module": "@jupyter-widgets/base",
            "_view_module_version": "1.2.0",
            "_view_name": "StyleView",
            "bar_color": null,
            "description_width": ""
          }
        },
        "a747f0be26434a0da13ff3f73e64d703": {
          "model_module": "@jupyter-widgets/controls",
          "model_module_version": "1.5.0",
          "model_name": "FloatProgressModel",
          "state": {
            "_dom_classes": [],
            "_model_module": "@jupyter-widgets/controls",
            "_model_module_version": "1.5.0",
            "_model_name": "FloatProgressModel",
            "_view_count": null,
            "_view_module": "@jupyter-widgets/controls",
            "_view_module_version": "1.5.0",
            "_view_name": "ProgressView",
            "bar_style": "success",
            "description": "",
            "description_tooltip": null,
            "layout": "IPY_MODEL_cf1f453d68734a91a66b8ac79b643f1f",
            "max": 1,
            "min": 0,
            "orientation": "horizontal",
            "style": "IPY_MODEL_c675a00a062f43fa96e69dc836d9603c",
            "value": 1
          }
        },
        "b1b02e4fcf3f42b990ec27a4051542a2": {
          "model_module": "@jupyter-widgets/controls",
          "model_module_version": "1.5.0",
          "model_name": "DescriptionStyleModel",
          "state": {
            "_model_module": "@jupyter-widgets/controls",
            "_model_module_version": "1.5.0",
            "_model_name": "DescriptionStyleModel",
            "_view_count": null,
            "_view_module": "@jupyter-widgets/base",
            "_view_module_version": "1.2.0",
            "_view_name": "StyleView",
            "description_width": ""
          }
        },
        "ba4b29738ffc4433975187b417d5466a": {
          "model_module": "@jupyter-widgets/controls",
          "model_module_version": "1.5.0",
          "model_name": "DescriptionStyleModel",
          "state": {
            "_model_module": "@jupyter-widgets/controls",
            "_model_module_version": "1.5.0",
            "_model_name": "DescriptionStyleModel",
            "_view_count": null,
            "_view_module": "@jupyter-widgets/base",
            "_view_module_version": "1.2.0",
            "_view_name": "StyleView",
            "description_width": ""
          }
        },
        "c0513c8a8d9644c1bae049e27a87f873": {
          "model_module": "@jupyter-widgets/controls",
          "model_module_version": "1.5.0",
          "model_name": "HTMLModel",
          "state": {
            "_dom_classes": [],
            "_model_module": "@jupyter-widgets/controls",
            "_model_module_version": "1.5.0",
            "_model_name": "HTMLModel",
            "_view_count": null,
            "_view_module": "@jupyter-widgets/controls",
            "_view_module_version": "1.5.0",
            "_view_name": "HTMLView",
            "description": "",
            "description_tooltip": null,
            "layout": "IPY_MODEL_c1ec0b1aab3c41e88386bbae953be87c",
            "placeholder": "​",
            "style": "IPY_MODEL_ba4b29738ffc4433975187b417d5466a",
            "value": "Render HTML: 100%"
          }
        },
        "c1ec0b1aab3c41e88386bbae953be87c": {
          "model_module": "@jupyter-widgets/base",
          "model_module_version": "1.2.0",
          "model_name": "LayoutModel",
          "state": {
            "_model_module": "@jupyter-widgets/base",
            "_model_module_version": "1.2.0",
            "_model_name": "LayoutModel",
            "_view_count": null,
            "_view_module": "@jupyter-widgets/base",
            "_view_module_version": "1.2.0",
            "_view_name": "LayoutView",
            "align_content": null,
            "align_items": null,
            "align_self": null,
            "border": null,
            "bottom": null,
            "display": null,
            "flex": null,
            "flex_flow": null,
            "grid_area": null,
            "grid_auto_columns": null,
            "grid_auto_flow": null,
            "grid_auto_rows": null,
            "grid_column": null,
            "grid_gap": null,
            "grid_row": null,
            "grid_template_areas": null,
            "grid_template_columns": null,
            "grid_template_rows": null,
            "height": null,
            "justify_content": null,
            "justify_items": null,
            "left": null,
            "margin": null,
            "max_height": null,
            "max_width": null,
            "min_height": null,
            "min_width": null,
            "object_fit": null,
            "object_position": null,
            "order": null,
            "overflow": null,
            "overflow_x": null,
            "overflow_y": null,
            "padding": null,
            "right": null,
            "top": null,
            "visibility": null,
            "width": null
          }
        },
        "c675a00a062f43fa96e69dc836d9603c": {
          "model_module": "@jupyter-widgets/controls",
          "model_module_version": "1.5.0",
          "model_name": "ProgressStyleModel",
          "state": {
            "_model_module": "@jupyter-widgets/controls",
            "_model_module_version": "1.5.0",
            "_model_name": "ProgressStyleModel",
            "_view_count": null,
            "_view_module": "@jupyter-widgets/base",
            "_view_module_version": "1.2.0",
            "_view_name": "StyleView",
            "bar_color": null,
            "description_width": ""
          }
        },
        "c8fdf460f1804b2a90b9dd57e7fd06c1": {
          "model_module": "@jupyter-widgets/base",
          "model_module_version": "1.2.0",
          "model_name": "LayoutModel",
          "state": {
            "_model_module": "@jupyter-widgets/base",
            "_model_module_version": "1.2.0",
            "_model_name": "LayoutModel",
            "_view_count": null,
            "_view_module": "@jupyter-widgets/base",
            "_view_module_version": "1.2.0",
            "_view_name": "LayoutView",
            "align_content": null,
            "align_items": null,
            "align_self": null,
            "border": null,
            "bottom": null,
            "display": null,
            "flex": null,
            "flex_flow": null,
            "grid_area": null,
            "grid_auto_columns": null,
            "grid_auto_flow": null,
            "grid_auto_rows": null,
            "grid_column": null,
            "grid_gap": null,
            "grid_row": null,
            "grid_template_areas": null,
            "grid_template_columns": null,
            "grid_template_rows": null,
            "height": null,
            "justify_content": null,
            "justify_items": null,
            "left": null,
            "margin": null,
            "max_height": null,
            "max_width": null,
            "min_height": null,
            "min_width": null,
            "object_fit": null,
            "object_position": null,
            "order": null,
            "overflow": null,
            "overflow_x": null,
            "overflow_y": null,
            "padding": null,
            "right": null,
            "top": null,
            "visibility": null,
            "width": null
          }
        },
        "cde31bf620784cff80908e3a87340863": {
          "model_module": "@jupyter-widgets/controls",
          "model_module_version": "1.5.0",
          "model_name": "HTMLModel",
          "state": {
            "_dom_classes": [],
            "_model_module": "@jupyter-widgets/controls",
            "_model_module_version": "1.5.0",
            "_model_name": "HTMLModel",
            "_view_count": null,
            "_view_module": "@jupyter-widgets/controls",
            "_view_module_version": "1.5.0",
            "_view_name": "HTMLView",
            "description": "",
            "description_tooltip": null,
            "layout": "IPY_MODEL_c8fdf460f1804b2a90b9dd57e7fd06c1",
            "placeholder": "​",
            "style": "IPY_MODEL_345b67d6f79d476999735c350042ba12",
            "value": "Summarize dataset: 100%"
          }
        },
        "cf1f453d68734a91a66b8ac79b643f1f": {
          "model_module": "@jupyter-widgets/base",
          "model_module_version": "1.2.0",
          "model_name": "LayoutModel",
          "state": {
            "_model_module": "@jupyter-widgets/base",
            "_model_module_version": "1.2.0",
            "_model_name": "LayoutModel",
            "_view_count": null,
            "_view_module": "@jupyter-widgets/base",
            "_view_module_version": "1.2.0",
            "_view_name": "LayoutView",
            "align_content": null,
            "align_items": null,
            "align_self": null,
            "border": null,
            "bottom": null,
            "display": null,
            "flex": null,
            "flex_flow": null,
            "grid_area": null,
            "grid_auto_columns": null,
            "grid_auto_flow": null,
            "grid_auto_rows": null,
            "grid_column": null,
            "grid_gap": null,
            "grid_row": null,
            "grid_template_areas": null,
            "grid_template_columns": null,
            "grid_template_rows": null,
            "height": null,
            "justify_content": null,
            "justify_items": null,
            "left": null,
            "margin": null,
            "max_height": null,
            "max_width": null,
            "min_height": null,
            "min_width": null,
            "object_fit": null,
            "object_position": null,
            "order": null,
            "overflow": null,
            "overflow_x": null,
            "overflow_y": null,
            "padding": null,
            "right": null,
            "top": null,
            "visibility": null,
            "width": null
          }
        },
        "d4b41e41a92540b7b6ebc10032190723": {
          "model_module": "@jupyter-widgets/controls",
          "model_module_version": "1.5.0",
          "model_name": "HTMLModel",
          "state": {
            "_dom_classes": [],
            "_model_module": "@jupyter-widgets/controls",
            "_model_module_version": "1.5.0",
            "_model_name": "HTMLModel",
            "_view_count": null,
            "_view_module": "@jupyter-widgets/controls",
            "_view_module_version": "1.5.0",
            "_view_name": "HTMLView",
            "description": "",
            "description_tooltip": null,
            "layout": "IPY_MODEL_3427f1ef46ca430cbad450bf2fa53a36",
            "placeholder": "​",
            "style": "IPY_MODEL_80456e5d94a345e19581e758822f6301",
            "value": " 1/1 [00:01&lt;00:00,  1.35s/it]"
          }
        },
        "e50b6af04d9447db9a54de0904a478f6": {
          "model_module": "@jupyter-widgets/controls",
          "model_module_version": "1.5.0",
          "model_name": "HBoxModel",
          "state": {
            "_dom_classes": [],
            "_model_module": "@jupyter-widgets/controls",
            "_model_module_version": "1.5.0",
            "_model_name": "HBoxModel",
            "_view_count": null,
            "_view_module": "@jupyter-widgets/controls",
            "_view_module_version": "1.5.0",
            "_view_name": "HBoxView",
            "box_style": "",
            "children": [
              "IPY_MODEL_cde31bf620784cff80908e3a87340863",
              "IPY_MODEL_65ee2b4b165d4a3bbd7d25707ec64002",
              "IPY_MODEL_3d9c2272ff604759bdbe70210ed68d8f"
            ],
            "layout": "IPY_MODEL_7a71df704ca24df6917701afb33e1325"
          }
        },
        "efbded2733c640dabd5b0b2de449dde4": {
          "model_module": "@jupyter-widgets/controls",
          "model_module_version": "1.5.0",
          "model_name": "DescriptionStyleModel",
          "state": {
            "_model_module": "@jupyter-widgets/controls",
            "_model_module_version": "1.5.0",
            "_model_name": "DescriptionStyleModel",
            "_view_count": null,
            "_view_module": "@jupyter-widgets/base",
            "_view_module_version": "1.2.0",
            "_view_name": "StyleView",
            "description_width": ""
          }
        },
        "f5d5b4e47aa6494fafd1d3d27bc22e29": {
          "model_module": "@jupyter-widgets/controls",
          "model_module_version": "1.5.0",
          "model_name": "FloatProgressModel",
          "state": {
            "_dom_classes": [],
            "_model_module": "@jupyter-widgets/controls",
            "_model_module_version": "1.5.0",
            "_model_name": "FloatProgressModel",
            "_view_count": null,
            "_view_module": "@jupyter-widgets/controls",
            "_view_module_version": "1.5.0",
            "_view_name": "ProgressView",
            "bar_style": "success",
            "description": "",
            "description_tooltip": null,
            "layout": "IPY_MODEL_6c84c79d5e894878b501be10464e9107",
            "max": 1,
            "min": 0,
            "orientation": "horizontal",
            "style": "IPY_MODEL_9a7d4259a74e427ebee4e320fad0e4c8",
            "value": 1
          }
        },
        "f6d11d71be4a420ab5b5df312ffd2303": {
          "model_module": "@jupyter-widgets/base",
          "model_module_version": "1.2.0",
          "model_name": "LayoutModel",
          "state": {
            "_model_module": "@jupyter-widgets/base",
            "_model_module_version": "1.2.0",
            "_model_name": "LayoutModel",
            "_view_count": null,
            "_view_module": "@jupyter-widgets/base",
            "_view_module_version": "1.2.0",
            "_view_name": "LayoutView",
            "align_content": null,
            "align_items": null,
            "align_self": null,
            "border": null,
            "bottom": null,
            "display": null,
            "flex": null,
            "flex_flow": null,
            "grid_area": null,
            "grid_auto_columns": null,
            "grid_auto_flow": null,
            "grid_auto_rows": null,
            "grid_column": null,
            "grid_gap": null,
            "grid_row": null,
            "grid_template_areas": null,
            "grid_template_columns": null,
            "grid_template_rows": null,
            "height": null,
            "justify_content": null,
            "justify_items": null,
            "left": null,
            "margin": null,
            "max_height": null,
            "max_width": null,
            "min_height": null,
            "min_width": null,
            "object_fit": null,
            "object_position": null,
            "order": null,
            "overflow": null,
            "overflow_x": null,
            "overflow_y": null,
            "padding": null,
            "right": null,
            "top": null,
            "visibility": null,
            "width": null
          }
        }
      }
    }
  },
  "nbformat": 4,
  "nbformat_minor": 5
}
