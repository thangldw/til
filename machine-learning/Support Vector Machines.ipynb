{
 "cells": [
  {
   "cell_type": "code",
   "execution_count": 1,
   "metadata": {},
   "outputs": [],
   "source": [
    "# Load libraries\n",
    "import numpy as np\n",
    "from matplotlib import pyplot as plt\n",
    "from matplotlib.colors import ListedColormap\n",
    "import matplotlib.pyplot as plt\n",
    "import warnings\n",
    "\n",
    "from sklearn import datasets\n",
    "from sklearn.preprocessing import StandardScaler\n",
    "from sklearn.svm import LinearSVC\n",
    "from sklearn.svm import SVC\n",
    "from sklearn.neighbors import NearestNeighbors"
   ]
  },
  {
   "cell_type": "code",
   "execution_count": 2,
   "metadata": {},
   "outputs": [],
   "source": [
    "# Load feature and target data\n",
    "iris = datasets.load_iris()\n",
    "X = iris.data\n",
    "y = iris.target"
   ]
  },
  {
   "cell_type": "markdown",
   "metadata": {},
   "source": [
    "Attribute Information:\n",
    "- sepal length in cm\n",
    "- sepal width in cm\n",
    "- petal length in cm\n",
    "- petal width in cm\n",
    "\n",
    "class:\n",
    "    - Iris Setosa: 0 \n",
    "    - Iris Versicolour: 1\n",
    "    - Iris Virginica: 2"
   ]
  },
  {
   "cell_type": "code",
   "execution_count": 3,
   "metadata": {},
   "outputs": [],
   "source": [
    "# Standarize features\n",
    "scaler = StandardScaler()\n",
    "X_std = scaler.fit_transform(X)"
   ]
  },
  {
   "cell_type": "code",
   "execution_count": 4,
   "metadata": {},
   "outputs": [],
   "source": [
    "# Create new observation\n",
    "observation_v1 = [[-0.7, 1.1, -1.1 , -1.7]]"
   ]
  },
  {
   "cell_type": "markdown",
   "metadata": {},
   "source": [
    "**Support Vector Classifier**"
   ]
  },
  {
   "cell_type": "code",
   "execution_count": 5,
   "metadata": {},
   "outputs": [],
   "source": [
    "# Create support vector classifier\n",
    "svc_1 = LinearSVC(C=1.0)\n",
    "\n",
    "# Train model\n",
    "model_svc_1 = svc_1.fit(X_std, y)"
   ]
  },
  {
   "cell_type": "markdown",
   "metadata": {},
   "source": [
    "**Train Support Vector Classifier With Weighted Classes**"
   ]
  },
  {
   "cell_type": "code",
   "execution_count": 6,
   "metadata": {},
   "outputs": [],
   "source": [
    "# Create support vector classifier\n",
    "svc_2 = SVC(kernel='linear', class_weight='balanced', C=1.0, random_state=0)\n",
    "\n",
    "# Train classifier\n",
    "model_svc_2 = svc_2.fit(X_std, y)"
   ]
  },
  {
   "cell_type": "code",
   "execution_count": 7,
   "metadata": {},
   "outputs": [],
   "source": [
    "# Create support vector classifier object\n",
    "svc_3 = SVC(kernel='linear', probability=True, random_state=0)\n",
    "\n",
    "# Train classifier\n",
    "model_svc_3 = svc_3.fit(X_std, y)"
   ]
  },
  {
   "cell_type": "code",
   "execution_count": 8,
   "metadata": {},
   "outputs": [
    {
     "data": {
      "text/plain": [
       "(array([0]), array([0]), array([0]))"
      ]
     },
     "execution_count": 8,
     "metadata": {},
     "output_type": "execute_result"
    }
   ],
   "source": [
    "# Predict class of new observation\n",
    "model_svc_1.predict(observation_v1), model_svc_2.predict(observation_v1), model_svc_3.predict(observation_v1)"
   ]
  },
  {
   "cell_type": "code",
   "execution_count": 9,
   "metadata": {},
   "outputs": [
    {
     "data": {
      "text/plain": [
       "(array([-0.76042693, -0.36450806, -2.08032629]),\n",
       " array([[-0.15805005,  0.4051476 , -0.709184  , -0.69838323],\n",
       "        [-0.02429042, -0.45859075,  0.71721443, -0.69514159],\n",
       "        [-0.28609122, -0.30689618,  1.75069678,  1.63216652]]),\n",
       " array([-1.47408609, -0.29523178,  3.09773099]),\n",
       " array([[-0.43882206,  0.33180056, -0.89190361, -0.92297181],\n",
       "        [-0.06460811,  0.1389477 , -0.55334547, -0.55657227],\n",
       "        [ 0.31017791,  0.60142345, -2.45750269, -2.44474903]]),\n",
       " array([-1.47408609, -0.29523178,  3.09773099]),\n",
       " array([[-0.43882206,  0.33180056, -0.89190361, -0.92297181],\n",
       "        [-0.06460811,  0.1389477 , -0.55334547, -0.55657227],\n",
       "        [ 0.31017791,  0.60142345, -2.45750269, -2.44474903]]))"
      ]
     },
     "execution_count": 9,
     "metadata": {},
     "output_type": "execute_result"
    }
   ],
   "source": [
    "model_svc_1.intercept_, model_svc_1.coef_, model_svc_2.intercept_, model_svc_2.coef_, model_svc_3.intercept_, model_svc_3.coef_"
   ]
  },
  {
   "cell_type": "markdown",
   "metadata": {},
   "source": [
    "**Plot The Support Vector Classifiers Hyperplane**"
   ]
  },
  {
   "cell_type": "code",
   "execution_count": 10,
   "metadata": {},
   "outputs": [
    {
     "data": {
      "image/png": "[encoded data removed]",
      "text/plain": [
       "<Figure size 432x288 with 1 Axes>"
      ]
     },
     "metadata": {
      "needs_background": "light"
     },
     "output_type": "display_data"
    }
   ],
   "source": [
    "# Plot data points and color using their class\n",
    "color = ['orange' if c == 0 else 'lime' if c == 1 else 'blue' for c in y]\n",
    "plt.scatter(X_std[:,0], X_std[:,1], c=color)\n",
    "\n",
    "# Create the hyperplane\n",
    "\n",
    "line = np.linspace(-2, 2)\n",
    "\n",
    "for coef, intercept in zip(svc_1.coef_, svc_1.intercept_):  \n",
    "    plt.plot(line, - (line * coef[0] + intercept) / coef[1])    \n",
    "plt.show()  "
   ]
  },
  {
   "cell_type": "code",
   "execution_count": 12,
   "metadata": {},
   "outputs": [
    {
     "data": {
      "text/plain": [
       "array([[-0.90068117,  0.55861082, -1.16971425, -0.92054774],\n",
       "       [-1.62768839, -1.74335684, -1.39706395, -1.18381211],\n",
       "       [ 1.2803405 ,  0.09821729,  0.64908342,  0.3957741 ],\n",
       "       [ 0.79566902, -0.59237301,  0.47857113,  0.3957741 ],\n",
       "       [ 0.55333328,  0.55861082,  0.53540856,  0.52740629],\n",
       "       [-1.14301691, -1.51316008, -0.26031542, -0.26238682],\n",
       "       [-0.29484182, -0.13197948,  0.42173371,  0.3957741 ],\n",
       "       [ 0.4321654 , -1.97355361,  0.42173371,  0.3957741 ],\n",
       "       [ 0.06866179,  0.32841405,  0.59224599,  0.79067065],\n",
       "       [ 0.55333328, -1.28296331,  0.64908342,  0.3957741 ],\n",
       "       [ 1.15917263, -0.59237301,  0.59224599,  0.26414192],\n",
       "       [ 1.03800476, -0.13197948,  0.70592084,  0.65903847],\n",
       "       [ 0.18982966, -0.36217625,  0.42173371,  0.3957741 ],\n",
       "       [ 0.18982966, -0.82256978,  0.76275827,  0.52740629],\n",
       "       [-0.53717756, -0.13197948,  0.42173371,  0.3957741 ],\n",
       "       [ 0.55333328, -1.74335684,  0.36489628,  0.13250973],\n",
       "       [-0.90068117, -1.28296331, -0.4308277 , -0.13075464],\n",
       "       [-1.14301691, -1.28296331,  0.42173371,  0.65903847],\n",
       "       [ 0.79566902,  0.32841405,  0.76275827,  1.05393502],\n",
       "       [ 0.18982966, -1.97355361,  0.70592084,  0.3957741 ],\n",
       "       [ 0.55333328, -0.82256978,  0.64908342,  0.79067065],\n",
       "       [ 0.4321654 , -0.59237301,  0.59224599,  0.79067065],\n",
       "       [ 0.31099753, -0.13197948,  0.64908342,  0.79067065],\n",
       "       [ 1.64384411, -0.13197948,  1.16062026,  0.52740629],\n",
       "       [ 0.55333328, -0.59237301,  0.76275827,  0.3957741 ],\n",
       "       [ 0.31099753, -1.05276654,  1.0469454 ,  0.26414192],\n",
       "       [ 0.67450115,  0.09821729,  0.99010798,  0.79067065],\n",
       "       [ 0.18982966, -0.13197948,  0.59224599,  0.79067065],\n",
       "       [ 0.06866179, -0.13197948,  0.76275827,  0.79067065]])"
      ]
     },
     "execution_count": 12,
     "metadata": {},
     "output_type": "execute_result"
    }
   ],
   "source": [
    "model_svc_2.support_vectors_"
   ]
  },
  {
   "cell_type": "code",
   "execution_count": 13,
   "metadata": {},
   "outputs": [
    {
     "data": {
      "text/plain": [
       "array([ 23,  41,  52,  54,  56,  57,  66,  68,  70,  72,  76,  77,  78,\n",
       "        83,  84,  87,  98, 106, 110, 119, 123, 126, 127, 129, 133, 134,\n",
       "       137, 138, 149])"
      ]
     },
     "execution_count": 13,
     "metadata": {},
     "output_type": "execute_result"
    }
   ],
   "source": [
    "model_svc_2.support_"
   ]
  },
  {
   "cell_type": "code",
   "execution_count": 14,
   "metadata": {},
   "outputs": [
    {
     "data": {
      "text/plain": [
       "array([ 2, 15, 12])"
      ]
     },
     "execution_count": 14,
     "metadata": {},
     "output_type": "execute_result"
    }
   ],
   "source": [
    "model_svc_2.n_support_"
   ]
  },
  {
   "cell_type": "markdown",
   "metadata": {},
   "source": [
    "**Find Each Observation’s Two Nearest Neighbors**"
   ]
  },
  {
   "cell_type": "code",
   "execution_count": 15,
   "metadata": {},
   "outputs": [],
   "source": [
    "# Find three nearest neighbors based on euclidean distance (including itself)\n",
    "nn_euclidean = NearestNeighbors(n_neighbors=3, metric='euclidean').fit(X)\n",
    "\n",
    "# List of lists indicating each observation's 3 nearest neighors\n",
    "nearest_neighbors_with_self = nn_euclidean.kneighbors_graph(X).toarray()\n",
    "\n",
    "# Remove 1's marking an observation is nearest to itself \n",
    "for i, x in enumerate(nearest_neighbors_with_self):\n",
    "    x[i] = 0"
   ]
  },
  {
   "cell_type": "code",
   "execution_count": 16,
   "metadata": {},
   "outputs": [
    {
     "data": {
      "text/plain": [
       "array([0., 0., 0., 0., 1., 0., 0., 0., 0., 0., 0., 0., 0., 0., 0., 0., 0.,\n",
       "       1., 0., 0., 0., 0., 0., 0., 0., 0., 0., 0., 0., 0., 0., 0., 0., 0.,\n",
       "       0., 0., 0., 0., 0., 0., 0., 0., 0., 0., 0., 0., 0., 0., 0., 0., 0.,\n",
       "       0., 0., 0., 0., 0., 0., 0., 0., 0., 0., 0., 0., 0., 0., 0., 0., 0.,\n",
       "       0., 0., 0., 0., 0., 0., 0., 0., 0., 0., 0., 0., 0., 0., 0., 0., 0.,\n",
       "       0., 0., 0., 0., 0., 0., 0., 0., 0., 0., 0., 0., 0., 0., 0., 0., 0.,\n",
       "       0., 0., 0., 0., 0., 0., 0., 0., 0., 0., 0., 0., 0., 0., 0., 0., 0.,\n",
       "       0., 0., 0., 0., 0., 0., 0., 0., 0., 0., 0., 0., 0., 0., 0., 0., 0.,\n",
       "       0., 0., 0., 0., 0., 0., 0., 0., 0., 0., 0., 0., 0., 0.])"
      ]
     },
     "execution_count": 16,
     "metadata": {},
     "output_type": "execute_result"
    }
   ],
   "source": [
    "# View first observation's two nearest neighbors\n",
    "nearest_neighbors_with_self[0]"
   ]
  },
  {
   "cell_type": "code",
   "execution_count": null,
   "metadata": {},
   "outputs": [],
   "source": []
  }
 ],
 "metadata": {
  "kernelspec": {
   "display_name": "Python 3",
   "language": "python",
   "name": "python3"
  },
  "language_info": {
   "codemirror_mode": {
    "name": "ipython",
    "version": 3
   },
   "file_extension": ".py",
   "mimetype": "text/x-python",
   "name": "python",
   "nbconvert_exporter": "python",
   "pygments_lexer": "ipython3",
   "version": "3.7.3"
  }
 },
 "nbformat": 4,
 "nbformat_minor": 2
}
