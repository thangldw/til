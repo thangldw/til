{
 "cells": [
  {
   "cell_type": "markdown",
   "metadata": {},
   "source": [
    "**Bayes Theorem**\n",
    "\n",
    "<br>In a Bayes classifier, we calculate the posterior (technically we only calculate the numerator of the posterior, but ignore that for now) for every class for each observation. \n",
    "<br>Then, classify the observation based on the class with the largest posterior value.\n",
    "\n",
    "$P(class\\mid data)={\\frac {P(data\\mid class)\\,P(class)}{P(data)}}$\n",
    "\n",
    "where:\n",
    "<br>- class is a particular class (e.g. male)\n",
    "<br>- data is an observation’s data\n",
    "<br>- $p(class\\mid data)$ is called the posterior\n",
    "<br>- $p(data\\mid class)$ is called the likelihood\n",
    "<br>- $p(class)$ is called the prior\n",
    "<br>- $p(data)$ is called the marginal probability\n",
    "\n",
    "**Why should we use Naive Bayes ?**\n",
    "<br>- It is easy to build and is particularly useful for very large data sets.\n",
    "<br>- It is extremely fast for both training and prediction.\n",
    "<br>- It provide straightforward probabilistic prediction.\n",
    "<br>- It is often very easily interpretable.\n",
    "<br>- It has very few (if any) tunable parameters.\n",
    "<br>- It perform well in case of categorical input variables compared to numerical variable(s). For numerical variable, normal distribution is assumed (bell curve, which is a strong assumption)."
   ]
  },
  {
   "cell_type": "markdown",
   "metadata": {},
   "source": [
    "**Naive bayes**\n",
    "<br>is simple classifier known for doing well when only a small number of observations is available.\n",
    "<br>In this tutorial, i use dataset [Tennis Weather](https://www.kaggle.com/pranavpandey2511/tennis-weather/downloads/tennis-weather.zip) from [Kaggle](https://www.kaggle.com/)"
   ]
  },
  {
   "cell_type": "code",
   "execution_count": 1,
   "metadata": {},
   "outputs": [],
   "source": [
    "import pandas as pd\n",
    "import numpy as np\n",
    "\n",
    "from sklearn.naive_bayes import GaussianNB"
   ]
  },
  {
   "cell_type": "code",
   "execution_count": 2,
   "metadata": {},
   "outputs": [],
   "source": [
    "data_unlable = pd.read_csv(\"./tennis.csv\")"
   ]
  },
  {
   "cell_type": "code",
   "execution_count": 3,
   "metadata": {},
   "outputs": [
    {
     "name": "stdout",
     "output_type": "stream",
     "text": [
      "<class 'pandas.core.frame.DataFrame'>\n",
      "RangeIndex: 14 entries, 0 to 13\n",
      "Data columns (total 5 columns):\n",
      "outlook     14 non-null object\n",
      "temp        14 non-null object\n",
      "humidity    14 non-null object\n",
      "windy       14 non-null bool\n",
      "play        14 non-null object\n",
      "dtypes: bool(1), object(4)\n",
      "memory usage: 542.0+ bytes\n"
     ]
    }
   ],
   "source": [
    "data_unlable.info()"
   ]
  },
  {
   "cell_type": "code",
   "execution_count": 4,
   "metadata": {},
   "outputs": [
    {
     "data": {
      "text/html": [
       "<div>\n",
       "<style scoped>\n",
       "    .dataframe tbody tr th:only-of-type {\n",
       "        vertical-align: middle;\n",
       "    }\n",
       "\n",
       "    .dataframe tbody tr th {\n",
       "        vertical-align: top;\n",
       "    }\n",
       "\n",
       "    .dataframe thead th {\n",
       "        text-align: right;\n",
       "    }\n",
       "</style>\n",
       "<table border=\"1\" class=\"dataframe\">\n",
       "  <thead>\n",
       "    <tr style=\"text-align: right;\">\n",
       "      <th></th>\n",
       "      <th>outlook</th>\n",
       "      <th>temp</th>\n",
       "      <th>humidity</th>\n",
       "      <th>windy</th>\n",
       "      <th>play</th>\n",
       "    </tr>\n",
       "  </thead>\n",
       "  <tbody>\n",
       "    <tr>\n",
       "      <th>0</th>\n",
       "      <td>sunny</td>\n",
       "      <td>hot</td>\n",
       "      <td>high</td>\n",
       "      <td>False</td>\n",
       "      <td>no</td>\n",
       "    </tr>\n",
       "    <tr>\n",
       "      <th>1</th>\n",
       "      <td>sunny</td>\n",
       "      <td>hot</td>\n",
       "      <td>high</td>\n",
       "      <td>True</td>\n",
       "      <td>no</td>\n",
       "    </tr>\n",
       "    <tr>\n",
       "      <th>2</th>\n",
       "      <td>overcast</td>\n",
       "      <td>hot</td>\n",
       "      <td>high</td>\n",
       "      <td>False</td>\n",
       "      <td>yes</td>\n",
       "    </tr>\n",
       "    <tr>\n",
       "      <th>3</th>\n",
       "      <td>rainy</td>\n",
       "      <td>mild</td>\n",
       "      <td>high</td>\n",
       "      <td>False</td>\n",
       "      <td>yes</td>\n",
       "    </tr>\n",
       "    <tr>\n",
       "      <th>4</th>\n",
       "      <td>rainy</td>\n",
       "      <td>cool</td>\n",
       "      <td>normal</td>\n",
       "      <td>False</td>\n",
       "      <td>yes</td>\n",
       "    </tr>\n",
       "    <tr>\n",
       "      <th>5</th>\n",
       "      <td>rainy</td>\n",
       "      <td>cool</td>\n",
       "      <td>normal</td>\n",
       "      <td>True</td>\n",
       "      <td>no</td>\n",
       "    </tr>\n",
       "    <tr>\n",
       "      <th>6</th>\n",
       "      <td>overcast</td>\n",
       "      <td>cool</td>\n",
       "      <td>normal</td>\n",
       "      <td>True</td>\n",
       "      <td>yes</td>\n",
       "    </tr>\n",
       "    <tr>\n",
       "      <th>7</th>\n",
       "      <td>sunny</td>\n",
       "      <td>mild</td>\n",
       "      <td>high</td>\n",
       "      <td>False</td>\n",
       "      <td>no</td>\n",
       "    </tr>\n",
       "    <tr>\n",
       "      <th>8</th>\n",
       "      <td>sunny</td>\n",
       "      <td>cool</td>\n",
       "      <td>normal</td>\n",
       "      <td>False</td>\n",
       "      <td>yes</td>\n",
       "    </tr>\n",
       "    <tr>\n",
       "      <th>9</th>\n",
       "      <td>rainy</td>\n",
       "      <td>mild</td>\n",
       "      <td>normal</td>\n",
       "      <td>False</td>\n",
       "      <td>yes</td>\n",
       "    </tr>\n",
       "    <tr>\n",
       "      <th>10</th>\n",
       "      <td>sunny</td>\n",
       "      <td>mild</td>\n",
       "      <td>normal</td>\n",
       "      <td>True</td>\n",
       "      <td>yes</td>\n",
       "    </tr>\n",
       "    <tr>\n",
       "      <th>11</th>\n",
       "      <td>overcast</td>\n",
       "      <td>mild</td>\n",
       "      <td>high</td>\n",
       "      <td>True</td>\n",
       "      <td>yes</td>\n",
       "    </tr>\n",
       "    <tr>\n",
       "      <th>12</th>\n",
       "      <td>overcast</td>\n",
       "      <td>hot</td>\n",
       "      <td>normal</td>\n",
       "      <td>False</td>\n",
       "      <td>yes</td>\n",
       "    </tr>\n",
       "    <tr>\n",
       "      <th>13</th>\n",
       "      <td>rainy</td>\n",
       "      <td>mild</td>\n",
       "      <td>high</td>\n",
       "      <td>True</td>\n",
       "      <td>no</td>\n",
       "    </tr>\n",
       "  </tbody>\n",
       "</table>\n",
       "</div>"
      ],
      "text/plain": [
       "     outlook  temp humidity  windy play\n",
       "0      sunny   hot     high  False   no\n",
       "1      sunny   hot     high   True   no\n",
       "2   overcast   hot     high  False  yes\n",
       "3      rainy  mild     high  False  yes\n",
       "4      rainy  cool   normal  False  yes\n",
       "5      rainy  cool   normal   True   no\n",
       "6   overcast  cool   normal   True  yes\n",
       "7      sunny  mild     high  False   no\n",
       "8      sunny  cool   normal  False  yes\n",
       "9      rainy  mild   normal  False  yes\n",
       "10     sunny  mild   normal   True  yes\n",
       "11  overcast  mild     high   True  yes\n",
       "12  overcast   hot   normal  False  yes\n",
       "13     rainy  mild     high   True   no"
      ]
     },
     "execution_count": 4,
     "metadata": {},
     "output_type": "execute_result"
    }
   ],
   "source": [
    "data_unlable"
   ]
  },
  {
   "cell_type": "code",
   "execution_count": 5,
   "metadata": {},
   "outputs": [],
   "source": [
    "data = data_unlable.copy()"
   ]
  },
  {
   "cell_type": "code",
   "execution_count": 6,
   "metadata": {},
   "outputs": [],
   "source": [
    "outlook = {'sunny': 0, 'overcast': 1, 'rainy': 2}\n",
    "temp = {'hot': 0, 'mild': 1, 'cool': 2}\n",
    "humidity = {'high': 0, 'normal': 1}\n",
    "\n",
    "# A dataframe with 100 rows then 'apply' is marginally faster\n",
    "# For one with 10000 rows then map is 26 times faster\n",
    "# data.outlook.map(outlook)\n",
    "\n",
    "data['outlook'] = data.outlook.apply(lambda x: outlook[x])\n",
    "data['temp'] = data.temp.apply(lambda x: temp[x])\n",
    "data['humidity'] = data.humidity.apply(lambda x: humidity[x])\n",
    "# Windy data is boolean True/False\n",
    "data['windy'] = data.windy.astype(int)"
   ]
  },
  {
   "cell_type": "code",
   "execution_count": 7,
   "metadata": {},
   "outputs": [
    {
     "data": {
      "text/html": [
       "<div>\n",
       "<style scoped>\n",
       "    .dataframe tbody tr th:only-of-type {\n",
       "        vertical-align: middle;\n",
       "    }\n",
       "\n",
       "    .dataframe tbody tr th {\n",
       "        vertical-align: top;\n",
       "    }\n",
       "\n",
       "    .dataframe thead th {\n",
       "        text-align: right;\n",
       "    }\n",
       "</style>\n",
       "<table border=\"1\" class=\"dataframe\">\n",
       "  <thead>\n",
       "    <tr style=\"text-align: right;\">\n",
       "      <th></th>\n",
       "      <th>outlook</th>\n",
       "      <th>temp</th>\n",
       "      <th>humidity</th>\n",
       "      <th>windy</th>\n",
       "      <th>play</th>\n",
       "    </tr>\n",
       "  </thead>\n",
       "  <tbody>\n",
       "    <tr>\n",
       "      <th>0</th>\n",
       "      <td>0</td>\n",
       "      <td>0</td>\n",
       "      <td>0</td>\n",
       "      <td>0</td>\n",
       "      <td>no</td>\n",
       "    </tr>\n",
       "    <tr>\n",
       "      <th>1</th>\n",
       "      <td>0</td>\n",
       "      <td>0</td>\n",
       "      <td>0</td>\n",
       "      <td>1</td>\n",
       "      <td>no</td>\n",
       "    </tr>\n",
       "    <tr>\n",
       "      <th>2</th>\n",
       "      <td>1</td>\n",
       "      <td>0</td>\n",
       "      <td>0</td>\n",
       "      <td>0</td>\n",
       "      <td>yes</td>\n",
       "    </tr>\n",
       "    <tr>\n",
       "      <th>3</th>\n",
       "      <td>2</td>\n",
       "      <td>1</td>\n",
       "      <td>0</td>\n",
       "      <td>0</td>\n",
       "      <td>yes</td>\n",
       "    </tr>\n",
       "    <tr>\n",
       "      <th>4</th>\n",
       "      <td>2</td>\n",
       "      <td>2</td>\n",
       "      <td>1</td>\n",
       "      <td>0</td>\n",
       "      <td>yes</td>\n",
       "    </tr>\n",
       "    <tr>\n",
       "      <th>5</th>\n",
       "      <td>2</td>\n",
       "      <td>2</td>\n",
       "      <td>1</td>\n",
       "      <td>1</td>\n",
       "      <td>no</td>\n",
       "    </tr>\n",
       "    <tr>\n",
       "      <th>6</th>\n",
       "      <td>1</td>\n",
       "      <td>2</td>\n",
       "      <td>1</td>\n",
       "      <td>1</td>\n",
       "      <td>yes</td>\n",
       "    </tr>\n",
       "    <tr>\n",
       "      <th>7</th>\n",
       "      <td>0</td>\n",
       "      <td>1</td>\n",
       "      <td>0</td>\n",
       "      <td>0</td>\n",
       "      <td>no</td>\n",
       "    </tr>\n",
       "    <tr>\n",
       "      <th>8</th>\n",
       "      <td>0</td>\n",
       "      <td>2</td>\n",
       "      <td>1</td>\n",
       "      <td>0</td>\n",
       "      <td>yes</td>\n",
       "    </tr>\n",
       "    <tr>\n",
       "      <th>9</th>\n",
       "      <td>2</td>\n",
       "      <td>1</td>\n",
       "      <td>1</td>\n",
       "      <td>0</td>\n",
       "      <td>yes</td>\n",
       "    </tr>\n",
       "    <tr>\n",
       "      <th>10</th>\n",
       "      <td>0</td>\n",
       "      <td>1</td>\n",
       "      <td>1</td>\n",
       "      <td>1</td>\n",
       "      <td>yes</td>\n",
       "    </tr>\n",
       "    <tr>\n",
       "      <th>11</th>\n",
       "      <td>1</td>\n",
       "      <td>1</td>\n",
       "      <td>0</td>\n",
       "      <td>1</td>\n",
       "      <td>yes</td>\n",
       "    </tr>\n",
       "    <tr>\n",
       "      <th>12</th>\n",
       "      <td>1</td>\n",
       "      <td>0</td>\n",
       "      <td>1</td>\n",
       "      <td>0</td>\n",
       "      <td>yes</td>\n",
       "    </tr>\n",
       "    <tr>\n",
       "      <th>13</th>\n",
       "      <td>2</td>\n",
       "      <td>1</td>\n",
       "      <td>0</td>\n",
       "      <td>1</td>\n",
       "      <td>no</td>\n",
       "    </tr>\n",
       "  </tbody>\n",
       "</table>\n",
       "</div>"
      ],
      "text/plain": [
       "    outlook  temp  humidity  windy play\n",
       "0         0     0         0      0   no\n",
       "1         0     0         0      1   no\n",
       "2         1     0         0      0  yes\n",
       "3         2     1         0      0  yes\n",
       "4         2     2         1      0  yes\n",
       "5         2     2         1      1   no\n",
       "6         1     2         1      1  yes\n",
       "7         0     1         0      0   no\n",
       "8         0     2         1      0  yes\n",
       "9         2     1         1      0  yes\n",
       "10        0     1         1      1  yes\n",
       "11        1     1         0      1  yes\n",
       "12        1     0         1      0  yes\n",
       "13        2     1         0      1   no"
      ]
     },
     "execution_count": 7,
     "metadata": {},
     "output_type": "execute_result"
    }
   ],
   "source": [
    "data"
   ]
  },
  {
   "cell_type": "markdown",
   "metadata": {},
   "source": [
    "<br>Then we can calculate probability of play tennis (play = yes) with temp:\n",
    "\n",
    "$p(play_{yes}\\mid temp)={\\frac{p(temp\\mid play_{yes})\\,p(play_{yes})}{p(temp)}}$\n",
    "\n",
    "$P(play_{no}\\mid temp)={\\frac {P(temp\\mid play_{no})\\,P(play_{no})}{P(temp)}}$"
   ]
  },
  {
   "cell_type": "markdown",
   "metadata": {},
   "source": [
    "**Gaussian Naive Bayes Classifier**\n",
    "<br>In our example, we have one observation to predict and two possible classes play tennis (e.g. yes or no), therefore we will calculate two posteriors: one for yes and one for no.\n",
    "\n",
    "$posterior(play_{yes})={\\frac {p(play_{yes})*p(outlook\\mid play_{yes})*p(temp\\mid play_{yes})*p(humidity\\mid play_{yes})*p(windy\\mid play_{yes})}{{marginal probability}}}$\n",
    "\n",
    "$posterior(play_{no})={\\frac {p(play_{no})*p(outlook\\mid play_{no})*p(temp\\mid play_{no})*p(humidity\\mid play_{no})*p(windy\\mid play_{no})}{{marginal probability}}}$"
   ]
  },
  {
   "cell_type": "code",
   "execution_count": 8,
   "metadata": {},
   "outputs": [],
   "source": [
    "# Calculate Priors\n",
    "# Number of play=yes/play=no\n",
    "yes = data['play'][data['play'] == 'yes'].count()\n",
    "no = data['play'][data['play'] == 'no'].count()\n",
    "total = data['play'].count()\n",
    "\n",
    "p_yes = yes / total\n",
    "p_no = no / total\n",
    "\n",
    "# The means\n",
    "play_means = data.groupby('play').mean()\n",
    "\n",
    "# The variance\n",
    "play_variances = data.groupby('play').var()"
   ]
  },
  {
   "cell_type": "code",
   "execution_count": 9,
   "metadata": {},
   "outputs": [
    {
     "data": {
      "text/plain": [
       "(0.6428571428571429,\n",
       " 0.35714285714285715,\n",
       "        outlook      temp  humidity     windy\n",
       " play                                        \n",
       " no    0.800000  0.800000  0.200000  0.600000\n",
       " yes   1.111111  1.111111  0.666667  0.333333,\n",
       "        outlook      temp  humidity  windy\n",
       " play                                     \n",
       " no    1.200000  0.700000      0.20   0.30\n",
       " yes   0.611111  0.611111      0.25   0.25)"
      ]
     },
     "execution_count": 9,
     "metadata": {},
     "output_type": "execute_result"
    }
   ],
   "source": [
    "p_yes, p_no, play_means, play_variances"
   ]
  },
  {
   "cell_type": "code",
   "execution_count": 10,
   "metadata": {},
   "outputs": [],
   "source": [
    "# Means for (play=yes)\n",
    "play_yes_outlook_mean = play_means['outlook'][play_means.index == 'yes'].values[0]\n",
    "play_yes_temp_mean = play_means['temp'][play_means.index == 'yes'].values[0]\n",
    "play_yes_humidity_mean = play_means['humidity'][play_means.index == 'yes'].values[0]\n",
    "play_yes_windy_mean = play_means['windy'][play_means.index == 'yes'].values[0]\n",
    "\n",
    "# Means for (play=no)\n",
    "play_no_outlook_mean = play_means['outlook'][play_means.index == 'no'].values[0]\n",
    "play_no_temp_mean = play_means['temp'][play_means.index == 'no'].values[0]\n",
    "play_no_humidity_mean = play_means['humidity'][play_means.index == 'no'].values[0]\n",
    "play_no_windy_mean = play_means['windy'][play_means.index == 'no'].values[0]\n",
    "\n",
    "# Variances for (play=no)\n",
    "play_yes_outlook_variance = play_variances['outlook'][play_variances.index == 'yes'].values[0]\n",
    "play_yes_temp_variance = play_variances['temp'][play_variances.index == 'yes'].values[0]\n",
    "play_yes_humidity_variance = play_variances['humidity'][play_variances.index == 'yes'].values[0]\n",
    "play_yes_windy_variance = play_variances['windy'][play_variances.index == 'yes'].values[0]\n",
    "\n",
    "play_no_outlook_variance = play_variances['outlook'][play_variances.index == 'no'].values[0]\n",
    "play_no_temp_variance = play_variances['temp'][play_variances.index == 'no'].values[0]\n",
    "play_no_humidity_variance = play_variances['humidity'][play_variances.index == 'no'].values[0]\n",
    "play_no_windy_variance = play_variances['windy'][play_variances.index == 'no'].values[0]"
   ]
  },
  {
   "cell_type": "code",
   "execution_count": 11,
   "metadata": {},
   "outputs": [],
   "source": [
    "# Create a function that calculates p(x|y):\n",
    "def p_x_given_y(x, mean_y, variance_y):\n",
    "    # Input the arguments into a probability density function\n",
    "    p = 1/(np.sqrt(2*np.pi*variance_y)) * np.exp((-(x-mean_y)**2)/(2*variance_y))\n",
    "    return p"
   ]
  },
  {
   "cell_type": "markdown",
   "metadata": {},
   "source": [
    "**Apply Bayes Classifier To New Data Point**"
   ]
  },
  {
   "cell_type": "code",
   "execution_count": 12,
   "metadata": {},
   "outputs": [
    {
     "data": {
      "text/html": [
       "<div>\n",
       "<style scoped>\n",
       "    .dataframe tbody tr th:only-of-type {\n",
       "        vertical-align: middle;\n",
       "    }\n",
       "\n",
       "    .dataframe tbody tr th {\n",
       "        vertical-align: top;\n",
       "    }\n",
       "\n",
       "    .dataframe thead th {\n",
       "        text-align: right;\n",
       "    }\n",
       "</style>\n",
       "<table border=\"1\" class=\"dataframe\">\n",
       "  <thead>\n",
       "    <tr style=\"text-align: right;\">\n",
       "      <th></th>\n",
       "      <th>outlook</th>\n",
       "      <th>temp</th>\n",
       "      <th>humidity</th>\n",
       "      <th>windy</th>\n",
       "    </tr>\n",
       "  </thead>\n",
       "  <tbody>\n",
       "    <tr>\n",
       "      <th>0</th>\n",
       "      <td>1</td>\n",
       "      <td>1</td>\n",
       "      <td>1</td>\n",
       "      <td>1</td>\n",
       "    </tr>\n",
       "  </tbody>\n",
       "</table>\n",
       "</div>"
      ],
      "text/plain": [
       "   outlook  temp  humidity  windy\n",
       "0        1     1         1      1"
      ]
     },
     "execution_count": 12,
     "metadata": {},
     "output_type": "execute_result"
    }
   ],
   "source": [
    "# We predict with an observation\n",
    "observation = pd.DataFrame()\n",
    "observation['outlook'] = ['overcast']\n",
    "observation['temp'] = ['mild']\n",
    "observation['humidity'] = ['normal']\n",
    "observation['windy'] = 1\n",
    "\n",
    "observation['outlook'] = observation.outlook.apply(lambda x: outlook[x])\n",
    "observation['temp'] = observation.temp.apply(lambda x: temp[x])\n",
    "observation['humidity'] = observation.humidity.apply(lambda x: humidity[x])\n",
    "\n",
    "observation"
   ]
  },
  {
   "cell_type": "code",
   "execution_count": 13,
   "metadata": {},
   "outputs": [
    {
     "data": {
      "text/plain": [
       "0.034385195514255944"
      ]
     },
     "execution_count": 13,
     "metadata": {},
     "output_type": "execute_result"
    }
   ],
   "source": [
    "# Numerator of the posterior if the unclassified observation is play = yes\n",
    "p_yes * \\\n",
    "p_x_given_y(observation['outlook'][0], play_yes_outlook_mean, play_yes_outlook_variance) * \\\n",
    "p_x_given_y(observation['temp'][0], play_yes_temp_mean, play_yes_temp_variance) * \\\n",
    "p_x_given_y(observation['humidity'][0], play_yes_humidity_mean, play_yes_humidity_variance) *\\\n",
    "p_x_given_y(observation['windy'][0], play_yes_windy_mean, play_yes_windy_variance)"
   ]
  },
  {
   "cell_type": "code",
   "execution_count": 14,
   "metadata": {},
   "outputs": [
    {
     "data": {
      "text/plain": [
       "0.005955761194251448"
      ]
     },
     "execution_count": 14,
     "metadata": {},
     "output_type": "execute_result"
    }
   ],
   "source": [
    "# Numerator of the posterior if the unclassified observation is play = no\n",
    "p_no * \\\n",
    "p_x_given_y(observation['outlook'][0], play_no_outlook_mean, play_no_outlook_variance) * \\\n",
    "p_x_given_y(observation['temp'][0], play_no_temp_mean, play_no_temp_variance) * \\\n",
    "p_x_given_y(observation['humidity'][0], play_no_humidity_mean, play_no_humidity_variance) *\\\n",
    "p_x_given_y(observation['windy'][0], play_no_windy_mean, play_no_windy_variance)"
   ]
  },
  {
   "cell_type": "markdown",
   "metadata": {},
   "source": [
    "Because the numerator of the posterior for yes is greater than no, then we predict that the person is play=yes.\n",
    "<br>Next, we predict the observation with model"
   ]
  },
  {
   "cell_type": "code",
   "execution_count": 15,
   "metadata": {},
   "outputs": [],
   "source": [
    "X_train = pd.get_dummies(data[['outlook', 'temp', 'humidity', 'windy']])\n",
    "y_train = pd.DataFrame(data['play'])"
   ]
  },
  {
   "cell_type": "code",
   "execution_count": 16,
   "metadata": {},
   "outputs": [
    {
     "name": "stderr",
     "output_type": "stream",
     "text": [
      "C:\\ProgramData\\Anaconda3\\lib\\site-packages\\sklearn\\utils\\validation.py:724: DataConversionWarning: A column-vector y was passed when a 1d array was expected. Please change the shape of y to (n_samples, ), for example using ravel().\n",
      "  y = column_or_1d(y, warn=True)\n"
     ]
    },
    {
     "data": {
      "text/plain": [
       "GaussianNB(priors=None, var_smoothing=1e-09)"
      ]
     },
     "execution_count": 16,
     "metadata": {},
     "output_type": "execute_result"
    }
   ],
   "source": [
    "#Create a Gaussian Classifier\n",
    "model = GaussianNB()\n",
    "\n",
    "# Train the model using the training sets \n",
    "model.fit(X_train, y_train)"
   ]
  },
  {
   "cell_type": "code",
   "execution_count": 17,
   "metadata": {},
   "outputs": [
    {
     "name": "stdout",
     "output_type": "stream",
     "text": [
      "['yes']\n"
     ]
    }
   ],
   "source": [
    "# Predict the observation \n",
    "predicted= model.predict(observation)\n",
    "print (predicted)"
   ]
  }
 ],
 "metadata": {
  "kernelspec": {
   "display_name": "Python 3",
   "language": "python",
   "name": "python3"
  },
  "language_info": {
   "codemirror_mode": {
    "name": "ipython",
    "version": 3
   },
   "file_extension": ".py",
   "mimetype": "text/x-python",
   "name": "python",
   "nbconvert_exporter": "python",
   "pygments_lexer": "ipython3",
   "version": "3.7.3"
  }
 },
 "nbformat": 4,
 "nbformat_minor": 2
}
