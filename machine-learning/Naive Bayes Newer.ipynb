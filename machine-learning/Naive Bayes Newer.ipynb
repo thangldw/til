{
 "cells": [
  {
   "cell_type": "code",
   "execution_count": 1,
   "metadata": {},
   "outputs": [],
   "source": [
    "import numpy as np\n",
    "\n",
    "from sklearn.naive_bayes import BernoulliNB\n",
    "from sklearn import datasets\n",
    "from sklearn.naive_bayes import GaussianNB\n",
    "from sklearn.calibration import CalibratedClassifierCV\n",
    "from sklearn.naive_bayes import BernoulliNB\n",
    "from sklearn.linear_model import LogisticRegression\n",
    "\n",
    "from sklearn.preprocessing import StandardScaler"
   ]
  },
  {
   "cell_type": "code",
   "execution_count": 2,
   "metadata": {},
   "outputs": [],
   "source": [
    "# Load data\n",
    "iris = datasets.load_iris()\n",
    "X = iris.data\n",
    "y = iris.target"
   ]
  },
  {
   "cell_type": "markdown",
   "metadata": {},
   "source": [
    "Attribute Information:\n",
    "1. sepal length in cm\n",
    "2. sepal width in cm\n",
    "3. petal length in cm\n",
    "4. petal width in cm\n",
    "5. class: \n",
    "   - Iris Setosa: 0\n",
    "   - Iris Versicolour: 1\n",
    "   - Iris Virginica: 2"
   ]
  },
  {
   "cell_type": "markdown",
   "metadata": {},
   "source": [
    "**Train Gaussian Naive Bayes Classifier**"
   ]
  },
  {
   "cell_type": "code",
   "execution_count": 3,
   "metadata": {},
   "outputs": [
    {
     "data": {
      "text/plain": [
       "0.96"
      ]
     },
     "execution_count": 3,
     "metadata": {},
     "output_type": "execute_result"
    }
   ],
   "source": [
    "# Create Gaussian Naive Bayes object with prior probabilities of each class\n",
    "gnb = GaussianNB()\n",
    "# Train model\n",
    "model_gnb = gnb.fit(X, y)\n",
    "# Mean accuracy on the given test data and labels.\n",
    "model_gnb.score(X, y)"
   ]
  },
  {
   "cell_type": "code",
   "execution_count": 4,
   "metadata": {},
   "outputs": [],
   "source": [
    "# Create new observation\n",
    "observation_v1 = [[4.9, 3.1, 1.5, 0.2]]  #\"Iris-setosa\"\n",
    "observation_v2 = [[6, 7, 8, 9]]  #\"Iris-setosa\""
   ]
  },
  {
   "cell_type": "code",
   "execution_count": 5,
   "metadata": {},
   "outputs": [
    {
     "data": {
      "text/plain": [
       "(array([0]),\n",
       " array([[1.00000000e+00, 3.04840351e-17, 6.32348452e-25]]),\n",
       " array([2]),\n",
       " array([[0.00000000e+000, 1.92066107e-206, 1.00000000e+000]]))"
      ]
     },
     "execution_count": 5,
     "metadata": {},
     "output_type": "execute_result"
    }
   ],
   "source": [
    "# Predict class\n",
    "model_gnb.predict(observation_v1), model_gnb.predict_proba(observation_v1), model_gnb.predict(observation_v2), model_gnb.predict_proba(observation_v2)"
   ]
  },
  {
   "cell_type": "markdown",
   "metadata": {},
   "source": [
    "**Calibrate Predicted Probabilities**"
   ]
  },
  {
   "cell_type": "code",
   "execution_count": 7,
   "metadata": {},
   "outputs": [],
   "source": [
    "# Create calibrated cross-validation with sigmoid calibration\n",
    "sigmoid = CalibratedClassifierCV(model_gnb, cv=2, method='sigmoid')\n",
    "\n",
    "# Calibrate probabilities\n",
    "model_sigmoid = sigmoid.fit(X, y)"
   ]
  },
  {
   "cell_type": "code",
   "execution_count": 8,
   "metadata": {},
   "outputs": [
    {
     "data": {
      "text/plain": [
       "(array([0]),\n",
       " array([[0.91953506, 0.04131332, 0.03915162]]),\n",
       " array([2]),\n",
       " array([[0.0195019 , 0.04473133, 0.93576677]]))"
      ]
     },
     "execution_count": 8,
     "metadata": {},
     "output_type": "execute_result"
    }
   ],
   "source": [
    "# View calibrated probabilities\n",
    "model_sigmoid.predict(observation_v1), model_sigmoid.predict_proba(observation_v1), model_sigmoid.predict(observation_v2), model_sigmoid.predict_proba(observation_v2) "
   ]
  },
  {
   "cell_type": "markdown",
   "metadata": {},
   "source": [
    "**Multinomial Logistic Regression**\n",
    "\n",
    "<br>$P(y_i=k \\mid X)={\\frac {e^{\\beta_{k}x_{i}}}{{\\sum_{j=1}^{K}}e^{\\beta_{j}x_{i}}}}$\n",
    "\n",
    "where $P(y_i=k \\mid X)$ is the probability the i-th observation’s target value, yi is class k, and K is the total number of classes. One practical advantage of the MLR is that its predicted probabilities using the predict_proba method are more reliable (i.e. better calibrated)."
   ]
  },
  {
   "cell_type": "code",
   "execution_count": 9,
   "metadata": {},
   "outputs": [],
   "source": [
    "# Standarize features\n",
    "scaler = StandardScaler()\n",
    "X_std = scaler.fit_transform(X)"
   ]
  },
  {
   "cell_type": "code",
   "execution_count": 10,
   "metadata": {},
   "outputs": [],
   "source": [
    "# Create one-vs-rest logistic regression object\n",
    "mlr = LogisticRegression(random_state=0, multi_class='multinomial', solver='newton-cg')\n",
    "\n",
    "# Train model\n",
    "model_mlr = mlr.fit(X_std, y)"
   ]
  },
  {
   "cell_type": "code",
   "execution_count": 11,
   "metadata": {},
   "outputs": [
    {
     "data": {
      "text/plain": [
       "(array([1]),\n",
       " array([[1.96125634e-04, 7.53070356e-01, 2.46733518e-01]]),\n",
       " array([2]),\n",
       " array([[3.47553906e-30, 3.39809192e-20, 1.00000000e+00]]))"
      ]
     },
     "execution_count": 11,
     "metadata": {},
     "output_type": "execute_result"
    }
   ],
   "source": [
    "observation_v1 = [[4.9, 3.1, 1.5, 0.2]]  #\"Iris-setosa\"\n",
    "observation_v2 = [[6, 7, 8, 9]]\n",
    "\n",
    "model_mlr.predict(observation_v1), model_mlr.predict_proba(observation_v1), model_mlr.predict(observation_v2), model_mlr.predict_proba(observation_v2) "
   ]
  },
  {
   "cell_type": "markdown",
   "metadata": {},
   "source": [
    "**Bernoulli Naive Bayes Classifier**\n",
    "<br>The Bernoulli naive Bayes classifier assumes that all our features are binary such that they take only two values (e.g. a nominal categorical feature that has been one-hot encoded)."
   ]
  },
  {
   "cell_type": "code",
   "execution_count": 12,
   "metadata": {},
   "outputs": [],
   "source": [
    "# Create three binary features\n",
    "X = np.random.randint(2, size=(100, 3))\n",
    "\n",
    "# Create a binary target vector\n",
    "y = np.random.randint(2, size=(100, 1)).ravel()"
   ]
  },
  {
   "cell_type": "code",
   "execution_count": 13,
   "metadata": {},
   "outputs": [
    {
     "data": {
      "text/plain": [
       "(array([[0, 0, 1],\n",
       "        [1, 1, 0],\n",
       "        [1, 0, 0],\n",
       "        [1, 1, 0],\n",
       "        [0, 1, 1],\n",
       "        [0, 1, 0],\n",
       "        [1, 1, 1],\n",
       "        [1, 0, 0],\n",
       "        [1, 0, 0],\n",
       "        [0, 0, 1]]), array([0, 1, 1, 1, 0, 1, 0, 0, 1, 1]))"
      ]
     },
     "execution_count": 13,
     "metadata": {},
     "output_type": "execute_result"
    }
   ],
   "source": [
    "X[0:10], y[0:10]"
   ]
  },
  {
   "cell_type": "code",
   "execution_count": 14,
   "metadata": {},
   "outputs": [],
   "source": [
    "# Create Bernoulli Naive Bayes object with prior probabilities of each class\n",
    "bnb = BernoulliNB(class_prior=[0.25, 0.5])\n",
    "# Train model\n",
    "model_bnb = bnb.fit(X, y)"
   ]
  },
  {
   "cell_type": "code",
   "execution_count": 15,
   "metadata": {},
   "outputs": [],
   "source": [
    "observation_v1 = [[0, 0, 1]]\n",
    "observation_v2 = [[-4, 7, 8]]"
   ]
  },
  {
   "cell_type": "code",
   "execution_count": 16,
   "metadata": {},
   "outputs": [
    {
     "data": {
      "text/plain": [
       "(array([1]),\n",
       " array([[0.28611845, 0.71388155]]),\n",
       " array([1]),\n",
       " array([[0.27099945, 0.72900055]]))"
      ]
     },
     "execution_count": 16,
     "metadata": {},
     "output_type": "execute_result"
    }
   ],
   "source": [
    "model_bnb.predict(observation_v1), model_bnb.predict_proba(observation_v1), model_bnb.predict(observation_v2), model_bnb.predict_proba(observation_v2) "
   ]
  },
  {
   "cell_type": "code",
   "execution_count": null,
   "metadata": {},
   "outputs": [],
   "source": []
  }
 ],
 "metadata": {
  "kernelspec": {
   "display_name": "Python 3",
   "language": "python",
   "name": "python3"
  },
  "language_info": {
   "codemirror_mode": {
    "name": "ipython",
    "version": 3
   },
   "file_extension": ".py",
   "mimetype": "text/x-python",
   "name": "python",
   "nbconvert_exporter": "python",
   "pygments_lexer": "ipython3",
   "version": "3.7.3"
  }
 },
 "nbformat": 4,
 "nbformat_minor": 2
}
