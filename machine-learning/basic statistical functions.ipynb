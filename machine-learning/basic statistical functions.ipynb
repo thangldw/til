{
 "cells": [
  {
   "cell_type": "markdown",
   "metadata": {},
   "source": [
    "# Discrete"
   ]
  },
  {
   "cell_type": "code",
   "execution_count": null,
   "metadata": {},
   "outputs": [],
   "source": [
    "%matplotlib inline\n",
    "%load_ext lab_black\n",
    "\n",
    "import seaborn as sns\n",
    "import matplotlib.pyplot as plt\n",
    "from scipy.stats import binom, bernoulli, multinomial, poisson, norm, uniform\n",
    "import numpy as np\n",
    "import pandas as pd"
   ]
  },
  {
   "cell_type": "markdown",
   "metadata": {},
   "source": [
    "## Binomial\n",
    "\n",
    "Toss a coint $n$ times with $k$ times success, probability of head is $\\theta$, $X \\in \\{0, ..., n\\}$.\n",
    "\n",
    "- **PMF**\n",
    "$$Bin(k|n, \\theta) = {{n}\\choose{k}}\\theta^k (1 - \\theta)^{n - k}$$\n",
    "\n",
    "As an instance of the rv_discrete class, binom object inherits from it a collection of generic methods (see below for the full list), and completes them with details specific for this particular distribution.\n",
    "\n",
    "for k in {0, 1,..., n}. Binom takes n and p as shape parameters.\n",
    "\n",
    "The probability mass function above is defined in the “standardized” form. To shift distribution use the loc parameter. Specifically, binom.pmf(k, n, p, loc) is identically equivalent to binom.pmf(k - loc, n, p)."
   ]
  },
  {
   "cell_type": "code",
   "execution_count": null,
   "metadata": {},
   "outputs": [],
   "source": [
    "# setup experiment\n",
    "n = 5\n",
    "theta = 0.4\n",
    "k = x = np.arange(binom.ppf(0.005, n, theta), binom.ppf(0.99, n, theta))\n",
    "y = binom.pmf(k, n, theta)\n",
    "\n",
    "# plotting result\n",
    "fig, ax = plt.subplots(1, 1)\n",
    "ax.plot(x, y, \"bo\", ms=8, label=\"binom pmf\")\n",
    "ax.vlines(x, ymin=0, ymax=y, colors=\"b\", lw=5, alpha=0.5)"
   ]
  },
  {
   "cell_type": "markdown",
   "metadata": {},
   "source": [
    "## Bernouli\n",
    "\n",
    "Toss a coin only once $X \\in \\{0, 1\\}$.\n",
    "\n",
    "- **PMF**\n",
    "$$Ber(x | \\theta) = \\theta^{\\mathbf{I}(x = 1)} (1 - \\theta)^{\\mathbf{I}(x = 0)}$$\n",
    "\n",
    "- **Likelihood**\n",
    "$$L(p) = log(p) = klog(\\theta) + (n - k)log(1 - \\theta)$$\n",
    "\n",
    "- **MLE**\n",
    "$$\\frac{d L(p)}{d \\theta} = 0 \\iff k\\frac{1}{\\theta} - (n - k)\\frac{1}{1 - \\theta} = 0$$\n",
    "$$\\theta_{MLE} = \\frac{k}{n}$$"
   ]
  },
  {
   "cell_type": "code",
   "execution_count": null,
   "metadata": {},
   "outputs": [],
   "source": [
    "# setup experiment\n",
    "theta = 0.3\n",
    "k = x = np.arange(bernoulli.ppf(0.01, theta), bernoulli.ppf(0.99, theta))\n",
    "y = bernoulli.pmf(k, theta)\n",
    "\n",
    "mean, var, skew, kurt = binom.stats(n, p, moments='mvsk')\n",
    "\n",
    "# plotting result\n",
    "fig, ax = plt.subplots(1, 1)\n",
    "ax.plot(x, y, \"bo\", ms=8, label=\"bernoulli pmf\")\n",
    "ax.vlines(x, 0, y, colors=\"b\", lw=5, alpha=0.5)"
   ]
  },
  {
   "cell_type": "markdown",
   "metadata": {},
   "source": [
    "## Multinomial\n",
    "\n",
    "Tossing a $K$-sided die, let $\\textbf{x} = (x_1, ..., x_K) \\in \\{0, 1, ..., n\\}^K$, $x_j$ is the number of times side $j$ of the die occurs.\n",
    "\n",
    "- **PMF**\n",
    "$$Mu(\\textbf{x} | n, \\boldsymbol{\\theta}) = {{n}\\choose{x_1 ... x_K}} \\prod_{j=1}^K \\theta_{j}^{x_j}$$\n",
    "$${{n}\\choose{x_1 ... x_K}} = \\frac{n!}{x_1!x_2!...x_K!}$$"
   ]
  },
  {
   "cell_type": "code",
   "execution_count": 4,
   "metadata": {},
   "outputs": [
    {
     "name": "stdout",
     "output_type": "stream",
     "text": [
      "0.29030399999999973\n",
      "0.2903040000000001\n"
     ]
    }
   ],
   "source": [
    "# setup experiment\n",
    "x = [3, 4]\n",
    "n = 7\n",
    "theta = [0.4, 0.6]\n",
    "print multinomial.pmf(x, n, theta)\n",
    "print binom.pmf(3, 7, 0.4)"
   ]
  },
  {
   "cell_type": "markdown",
   "metadata": {},
   "source": [
    "## Multinouli\n",
    "\n",
    "One-hot encoding $\\textbf{x} \\in \\{0, 1\\}^K$.\n",
    "\n",
    "$$Mu(\\textbf{x} | 1, \\boldsymbol{\\theta}) = \\prod_{j=1}^K \\theta_j^{\\mathbf{I}(x_j = 1)}$$"
   ]
  },
  {
   "cell_type": "markdown",
   "metadata": {},
   "source": [
    "## Poisson\n",
    "\n",
    "Counts rare events like radioactive decay and traffic accidents. $X \\in \\{0, 1, ...\\}$, $\\lambda > 0$, $e^{-\\lambda}$ is normalization constant.\n",
    "\n",
    "- **PMF**\n",
    "$$Poi(x|\\lambda) = e^{-\\lambda}\\frac{\\lambda^x}{x!}$$"
   ]
  },
  {
   "cell_type": "code",
   "execution_count": 5,
   "metadata": {},
   "outputs": [
    {
     "data": {
      "text/plain": [
       "<matplotlib.collections.LineCollection at 0x1a16ac8050>"
      ]
     },
     "execution_count": 5,
     "metadata": {},
     "output_type": "execute_result"
    },
    {
     "data": {
      "image/png": "[encoded data removed]",
      "text/plain": [
       "<Figure size 432x288 with 1 Axes>"
      ]
     },
     "metadata": {
      "needs_background": "light"
     },
     "output_type": "display_data"
    }
   ],
   "source": [
    "# setup experiment\n",
    "mu = Lambda = 0.6\n",
    "k = x = np.arange(poisson.ppf(0.01, Lambda), poisson.ppf(0.99, Lambda))\n",
    "y = poisson.pmf(x, Lambda)\n",
    "\n",
    "# plotting result\n",
    "fig, ax = plt.subplots(1, 1)\n",
    "ax.plot(x, y, 'bo', ms=8, label='poisson pmf')\n",
    "ax.vlines(x, 0, y, colors='b', lw=5, alpha=0.5)"
   ]
  },
  {
   "cell_type": "markdown",
   "metadata": {},
   "source": [
    "# Continuous"
   ]
  },
  {
   "cell_type": "code",
   "execution_count": 6,
   "metadata": {},
   "outputs": [],
   "source": [
    "from scipy.stats import norm, laplace, gamma, pareto, beta, expon, erlang, chi2"
   ]
  },
  {
   "cell_type": "markdown",
   "metadata": {},
   "source": [
    "## Normal\n",
    "\n",
    "- **Probability density function**\n",
    "$$f(x | \\mu, \\sigma^2) = \\frac{1}{\\sqrt{2\\pi \\sigma^2}} e^{-\\frac{(x - \\mu)^2}{2\\sigma^2}}$$\n",
    "\n",
    "- **Likelihood**\n",
    "$$L(\\mu, \\sigma^2) = \\prod_{i=1}^n f(x_i | \\mu, \\sigma^2) = \\prod_{i=1}^n \\frac{1}{\\sqrt{2\\pi \\sigma^2}} e^{-\\frac{(x - \\mu)^2}{2\\sigma^2}} = (2\\pi\\sigma^2)^{-n/2} e^{-\\frac{1}{2\\sigma^2} \\sum_{i=1}^n (x_i - \\mu)^2}$$\n",
    "\n",
    "- **Log-likelihood**\n",
    "$$ln L(\\mu, \\sigma^2) = \\sum_{i=1}^n ln f(x_i | \\mu, \\sigma^2) = -\\frac{n}{2} ln(2\\pi) - \\frac{n}{2} ln \\sigma^2 - \\frac{1}{2\\sigma^2} \\sum_{i=1}^n (x_i - \\mu)^2$$\n",
    "\n",
    "- **MLE**: Taking derivatives with respect to $\\mu$ and $\\sigma^2$.\n",
    "$$\\hat{\\mu} = \\frac{1}{n} \\sum_{i=1}^n x_i$$\n",
    "$$\\hat{\\sigma}^2 = \\frac{1}{n} \\sum_{i=1}^n (x_i - \\hat{\\mu})^2$$\n",
    "\n",
    "- **Prior**\n",
    "$$p(y)$$\n",
    "\n",
    "- **Posterior**\n",
    "$$p(y|x) = \\frac{p(x|y) p(y)}{p(x)}$$\n",
    "- **Posterior predictive distribution**\n",
    "- https://en.wikipedia.org/wiki/Conjugate_prior"
   ]
  },
  {
   "cell_type": "code",
   "execution_count": 7,
   "metadata": {},
   "outputs": [
    {
     "data": {
      "text/plain": [
       "[<matplotlib.lines.Line2D at 0x1a16c12210>]"
      ]
     },
     "execution_count": 7,
     "metadata": {},
     "output_type": "execute_result"
    },
    {
     "data": {
      "image/png": "[encoded data removed]",
      "text/plain": [
       "<Figure size 432x288 with 1 Axes>"
      ]
     },
     "metadata": {
      "needs_background": "light"
     },
     "output_type": "display_data"
    }
   ],
   "source": [
    "# setup experiment\n",
    "mu = 0\n",
    "std = 1\n",
    "x = np.linspace(norm.ppf(0.01, mu, std), norm.ppf(0.99, mu, std), 100)\n",
    "y = norm.pdf(x, mu, std)\n",
    "\n",
    "# plotting result\n",
    "fig, ax = plt.subplots(1, 1)\n",
    "ax.plot(x, y, 'r-', lw=5, alpha=0.6, label='norm pdf')"
   ]
  },
  {
   "cell_type": "markdown",
   "metadata": {},
   "source": [
    "## Laplace\n",
    "\n",
    "Heavy tails, also known as the double sided exponential distribution, $\\mu$ is location, $b$ is scala.\n",
    "\n",
    "- **PDF**\n",
    "$$Lap(x|\\mu, b) = \\frac{1}{2b}e^{-\\frac{|x - \\mu|}{b}}$$\n",
    "$$mean = \\mu, mode = \\mu, var = 2b^2$$"
   ]
  },
  {
   "cell_type": "code",
   "execution_count": 8,
   "metadata": {},
   "outputs": [
    {
     "data": {
      "text/plain": [
       "[<matplotlib.lines.Line2D at 0x1a16aa35d0>]"
      ]
     },
     "execution_count": 8,
     "metadata": {},
     "output_type": "execute_result"
    },
    {
     "data": {
      "image/png": "[encoded data removed]",
      "text/plain": [
       "<Figure size 432x288 with 1 Axes>"
      ]
     },
     "metadata": {
      "needs_background": "light"
     },
     "output_type": "display_data"
    }
   ],
   "source": [
    "# setup experiment\n",
    "mu = 0\n",
    "std = 1\n",
    "x = np.linspace(laplace.ppf(0.01, mu, std), laplace.ppf(0.99, mu, std), 100)\n",
    "y = laplace.pdf(x, mu, std)\n",
    "\n",
    "# plotting result\n",
    "fig, ax = plt.subplots(1, 1)\n",
    "ax.plot(x, y, 'r-', lw=5, alpha=0.6, label='laplace pdf')"
   ]
  },
  {
   "cell_type": "markdown",
   "metadata": {},
   "source": [
    "## Gamma\n",
    "\n",
    "Flexible distribution for positive real valued rv’s.\n",
    "\n",
    "- **PDF**\n",
    "$$Ga(T|shape = a, rate = b) = \\frac{b^a}{\\Gamma(a)}T^{a - 1}e^{-Tb}$$\n",
    "$$\\Gamma(x) = \\int_0^\\infty u^{x - 1}e^{-u}du$$\n",
    "$$mean = \\frac{a}{b}, mode = \\frac{a - 1}{b}, var = \\frac{a}{b^2}$$"
   ]
  },
  {
   "cell_type": "code",
   "execution_count": 9,
   "metadata": {},
   "outputs": [
    {
     "data": {
      "text/plain": [
       "[<matplotlib.lines.Line2D at 0x1a16dc2450>]"
      ]
     },
     "execution_count": 9,
     "metadata": {},
     "output_type": "execute_result"
    },
    {
     "data": {
      "image/png": "[encoded data removed]",
      "text/plain": [
       "<Figure size 432x288 with 1 Axes>"
      ]
     },
     "metadata": {
      "needs_background": "light"
     },
     "output_type": "display_data"
    }
   ],
   "source": [
    "# setup experiment\n",
    "a = 1.99\n",
    "b = 1\n",
    "x = np.linspace(gamma.ppf(0.01, a), gamma.ppf(0.99, a), 100)\n",
    "y = gamma.pdf(x, a)\n",
    "\n",
    "# plotting result\n",
    "fig, ax = plt.subplots(1, 1)\n",
    "ax.plot(x, y, 'r-', lw=5, alpha=0.6, label='gamma pdf')"
   ]
  },
  {
   "cell_type": "markdown",
   "metadata": {},
   "source": [
    "- **Exponential**\n",
    "$$Expon(x|\\lambda) = Ga(x|1, \\lambda)$$"
   ]
  },
  {
   "cell_type": "code",
   "execution_count": 10,
   "metadata": {},
   "outputs": [
    {
     "data": {
      "text/plain": [
       "[<matplotlib.lines.Line2D at 0x1a16de1550>]"
      ]
     },
     "execution_count": 10,
     "metadata": {},
     "output_type": "execute_result"
    },
    {
     "data": {
      "image/png": "[encoded data removed]",
      "text/plain": [
       "<Figure size 432x288 with 1 Axes>"
      ]
     },
     "metadata": {
      "needs_background": "light"
     },
     "output_type": "display_data"
    }
   ],
   "source": [
    "# setup experiment exponential\n",
    "a = 1\n",
    "x = np.linspace(expon.ppf(0.01, a), expon.ppf(0.99, a), 100)\n",
    "y = expon.pdf(x, a)\n",
    "\n",
    "# plotting result\n",
    "fig, ax = plt.subplots(1, 1)\n",
    "ax.plot(x, y, 'r-', lw=5, alpha=0.6, label='exponential pdf')"
   ]
  },
  {
   "cell_type": "markdown",
   "metadata": {},
   "source": [
    "- **Erlang**\n",
    "$$Erlang(x|\\lambda) = Ga(x|2, \\lambda)$$"
   ]
  },
  {
   "cell_type": "code",
   "execution_count": 11,
   "metadata": {},
   "outputs": [
    {
     "data": {
      "text/plain": [
       "[<matplotlib.lines.Line2D at 0x1a17080e10>]"
      ]
     },
     "execution_count": 11,
     "metadata": {},
     "output_type": "execute_result"
    },
    {
     "data": {
      "image/png": "[encoded data removed]",
      "text/plain": [
       "<Figure size 432x288 with 1 Axes>"
      ]
     },
     "metadata": {
      "needs_background": "light"
     },
     "output_type": "display_data"
    }
   ],
   "source": [
    "# setup experiment exponential\n",
    "a = 2\n",
    "x = np.linspace(erlang.ppf(0.01, a), erlang.ppf(0.99, a), 100)\n",
    "y = erlang.pdf(x, a)\n",
    "\n",
    "# plotting result\n",
    "fig, ax = plt.subplots(1, 1)\n",
    "ax.plot(x, y, 'r-', lw=5, alpha=0.6, label='erlang pdf')"
   ]
  },
  {
   "cell_type": "markdown",
   "metadata": {},
   "source": [
    "- **Chi-square**\n",
    "$$\\chi^2(x|\\nu) = Ga(x|\\frac{\\nu}{2}, \\frac{1}{2})$$"
   ]
  },
  {
   "cell_type": "code",
   "execution_count": 12,
   "metadata": {},
   "outputs": [
    {
     "data": {
      "text/plain": [
       "[<matplotlib.lines.Line2D at 0x1a1714a490>]"
      ]
     },
     "execution_count": 12,
     "metadata": {},
     "output_type": "execute_result"
    },
    {
     "data": {
      "image/png": "[encoded data removed]",
      "text/plain": [
       "<Figure size 432x288 with 1 Axes>"
      ]
     },
     "metadata": {
      "needs_background": "light"
     },
     "output_type": "display_data"
    }
   ],
   "source": [
    "# setup experiment exponential\n",
    "nu = 55\n",
    "x = np.linspace(chi2.ppf(0.01, nu), chi2.ppf(0.99, nu), 100)\n",
    "y = chi2.pdf(x, nu)\n",
    "\n",
    "# plotting result\n",
    "fig, ax = plt.subplots(1, 1)\n",
    "ax.plot(x, y, 'r-', lw=5, alpha=0.6, label='Chi-square pdf')"
   ]
  },
  {
   "cell_type": "markdown",
   "metadata": {},
   "source": [
    "## Beta\n",
    "\n",
    "$$Beta(x|a, b) = \\frac{1}{B(a, b)} x^{a - 1}(1 - x)^{b - 1}$$\n",
    "$$B(a, b) = \\frac{\\Gamma(a)\\Gamma(b)}{\\Gamma(a + b)}$$\n",
    "$$\\Gamma(a) = (a - 1)!$$\n",
    "$$mean = \\frac{a}{a + b}, mode = \\frac{a - 1}{a + b - 2}, var = \\frac{ab}{(a + b)^2(a + b + 1)}$$"
   ]
  },
  {
   "cell_type": "code",
   "execution_count": 13,
   "metadata": {},
   "outputs": [
    {
     "data": {
      "text/plain": [
       "[<matplotlib.lines.Line2D at 0x1a17053dd0>]"
      ]
     },
     "execution_count": 13,
     "metadata": {},
     "output_type": "execute_result"
    },
    {
     "data": {
      "image/png": "[encoded data removed]",
      "text/plain": [
       "<Figure size 432x288 with 1 Axes>"
      ]
     },
     "metadata": {
      "needs_background": "light"
     },
     "output_type": "display_data"
    }
   ],
   "source": [
    "# setup experiment\n",
    "a, b = 2.31, 0.627\n",
    "x = np.linspace(beta.ppf(0.01, a, b), beta.ppf(0.99, a, b), 100)\n",
    "y = beta.pdf(x, a, b)\n",
    "\n",
    "# plotting result\n",
    "fig, ax = plt.subplots(1, 1)\n",
    "ax.plot(x, y, 'r-', lw=5, alpha=0.6, label='beta pdf')"
   ]
  },
  {
   "cell_type": "markdown",
   "metadata": {},
   "source": [
    "## Pareto\n",
    "\n",
    "Exhibit long tails, also called heavy tails, known as Zipf’s law or power law.\n",
    "\n",
    "$$Pareto(x|k, m) = km^kx^{-(k + 1)}\\mathbf{I} (x \\ge m)$$\n",
    "$$mean = \\frac{km}{k - 1} \\ if \\ k > 1, mode = m, var = \\frac{m^2k}{(k - 1)^2(k - 2)} \\ if \\ k > 2$$"
   ]
  },
  {
   "cell_type": "code",
   "execution_count": 14,
   "metadata": {},
   "outputs": [
    {
     "data": {
      "text/plain": [
       "[<matplotlib.lines.Line2D at 0x1a172529d0>]"
      ]
     },
     "execution_count": 14,
     "metadata": {},
     "output_type": "execute_result"
    },
    {
     "data": {
      "image/png": "[encoded data removed]",
      "text/plain": [
       "<Figure size 432x288 with 1 Axes>"
      ]
     },
     "metadata": {
      "needs_background": "light"
     },
     "output_type": "display_data"
    }
   ],
   "source": [
    "# setup experiment\n",
    "b = 2.62\n",
    "x = np.linspace(pareto.ppf(0.01, b), pareto.ppf(0.99, b), 100)\n",
    "y = pareto.pdf(x, b)\n",
    "\n",
    "# plotting result\n",
    "fig, ax = plt.subplots(1, 1)\n",
    "ax.plot(x, pareto.pdf(x, b), 'r-', lw=5, alpha=0.6, label='pareto pdf')"
   ]
  },
  {
   "cell_type": "markdown",
   "metadata": {},
   "source": [
    "# KL Divergence\n",
    "\n",
    "$$D_{KL}(p||q) = \\sum_{i=1}^N p(x_i) log\\frac{p(x_i)}{q(x_i)}$$"
   ]
  },
  {
   "cell_type": "code",
   "execution_count": 15,
   "metadata": {},
   "outputs": [
    {
     "name": "stderr",
     "output_type": "stream",
     "text": [
      "/usr/local/anaconda2/lib/python2.7/site-packages/scipy/stats/stats.py:1713: FutureWarning: Using a non-tuple sequence for multidimensional indexing is deprecated; use `arr[tuple(seq)]` instead of `arr[seq]`. In the future this will be interpreted as an array index, `arr[np.array(seq)]`, which will result either in an error or a different result.\n",
      "  return np.add.reduce(sorted[indexer] * weights, axis=axis) / sumval\n"
     ]
    },
    {
     "data": {
      "text/plain": [
       "<matplotlib.legend.Legend at 0x1a17566550>"
      ]
     },
     "execution_count": 15,
     "metadata": {},
     "output_type": "execute_result"
    },
    {
     "data": {
      "image/png": "[encoded data removed]",
      "text/plain": [
       "<Figure size 432x288 with 1 Axes>"
      ]
     },
     "metadata": {
      "needs_background": "light"
     },
     "output_type": "display_data"
    }
   ],
   "source": [
    "# Evidence\n",
    "x = pd.Series([0]*2 + [1]*3 + [2]*5 + [3]*14 + [4]*16 + [5]*15 + [6]*12 + [7]*8 + [8]*10 + [9]*8 + [10]*7)\n",
    "p_true = dict(zip(np.histogram(x)[1], np.histogram(x)[0]))\n",
    "p_true[10.0] = 7\n",
    "p_true = np.array([p_true[val] * 0.01 for val in x])\n",
    "sns.distplot(x, bins=10, label=\"Evidence\")\n",
    "\n",
    "# Uniform model\n",
    "p_uniform = uniform.pdf(x, loc=0, scale=11)\n",
    "plt.plot(x, p_uniform, 'k-', lw=2, label=\"Uniform\")\n",
    "\n",
    "# Normal model\n",
    "mu, std = norm.fit(x)\n",
    "p_norm = norm.pdf(x, mu, std)\n",
    "plt.plot(x, p_norm, 'r-', lw=2, label=\"Normal\")\n",
    "plt.legend(loc=\"best\")"
   ]
  },
  {
   "cell_type": "code",
   "execution_count": 16,
   "metadata": {},
   "outputs": [
    {
     "name": "stdout",
     "output_type": "stream",
     "text": [
      "Log likelihood (Uniform): -239.7895272798371\n",
      "Log likelihood (Normal): -234.1304210201753\n"
     ]
    }
   ],
   "source": [
    "print \"Log likelihood (Uniform):\", np.log(p_uniform).sum()\n",
    "print \"Log likelihood (Normal):\", np.log(p_norm).sum()"
   ]
  },
  {
   "cell_type": "code",
   "execution_count": 17,
   "metadata": {},
   "outputs": [
    {
     "name": "stdout",
     "output_type": "stream",
     "text": [
      "KL (Uniform): 3.9965854232729168\n",
      "KL (Normal): 1.889817124546627\n"
     ]
    }
   ],
   "source": [
    "print \"KL (Uniform):\", (p_true * np.log(p_true / p_uniform)).sum()\n",
    "print \"KL (Normal):\", (p_true * np.log(p_true / p_norm)).sum()"
   ]
  },
  {
   "cell_type": "markdown",
   "metadata": {},
   "source": [
    "# Binning"
   ]
  },
  {
   "cell_type": "code",
   "execution_count": 18,
   "metadata": {},
   "outputs": [
    {
     "data": {
      "text/plain": [
       "<matplotlib.legend.Legend at 0x1a175bc7d0>"
      ]
     },
     "execution_count": 18,
     "metadata": {},
     "output_type": "execute_result"
    },
    {
     "data": {
      "image/png": "[encoded data removed]",
      "text/plain": [
       "<Figure size 432x288 with 1 Axes>"
      ]
     },
     "metadata": {
      "needs_background": "light"
     },
     "output_type": "display_data"
    }
   ],
   "source": [
    "# cho distribution training good (x, y)\n",
    "mu = 1\n",
    "std = 1\n",
    "x_good = np.linspace(norm.ppf(0.01, mu, std), norm.ppf(0.99, mu, std), 100)\n",
    "y_good = norm.pdf(x_good, mu, std)\n",
    "\n",
    "# cho distribution training bad (x, y)\n",
    "mu = -1\n",
    "std = 2\n",
    "x_bad = np.linspace(norm.ppf(0.01, mu, std), norm.ppf(0.99, mu, std), 50)\n",
    "y_bad = norm.pdf(x_bad, mu, std)\n",
    "\n",
    "# plot 2 distribution\n",
    "fig, ax = plt.subplots(1, 1)\n",
    "ax.plot(x_good, y_good, 'r-', lw=5, alpha=0.6, label='good')\n",
    "ax.plot(x_bad, y_bad, 'g.', lw=5, alpha=0.6, label='bad')\n",
    "ax.legend(loc=\"best\")"
   ]
  },
  {
   "cell_type": "code",
   "execution_count": 19,
   "metadata": {},
   "outputs": [
    {
     "name": "stdout",
     "output_type": "stream",
     "text": [
      "PMF good\n"
     ]
    },
    {
     "data": {
      "text/html": [
       "<div>\n",
       "<style scoped>\n",
       "    .dataframe tbody tr th:only-of-type {\n",
       "        vertical-align: middle;\n",
       "    }\n",
       "\n",
       "    .dataframe tbody tr th {\n",
       "        vertical-align: top;\n",
       "    }\n",
       "\n",
       "    .dataframe thead th {\n",
       "        text-align: right;\n",
       "    }\n",
       "</style>\n",
       "<table border=\"1\" class=\"dataframe\">\n",
       "  <thead>\n",
       "    <tr style=\"text-align: right;\">\n",
       "      <th></th>\n",
       "      <th>counts</th>\n",
       "      <th>freqs</th>\n",
       "    </tr>\n",
       "    <tr>\n",
       "      <th>categories</th>\n",
       "      <th></th>\n",
       "      <th></th>\n",
       "    </tr>\n",
       "  </thead>\n",
       "  <tbody>\n",
       "    <tr>\n",
       "      <th>(-1.327, -0.163]</th>\n",
       "      <td>25</td>\n",
       "      <td>0.25</td>\n",
       "    </tr>\n",
       "    <tr>\n",
       "      <th>(-0.163, 1.0]</th>\n",
       "      <td>25</td>\n",
       "      <td>0.25</td>\n",
       "    </tr>\n",
       "    <tr>\n",
       "      <th>(1.0, 2.163]</th>\n",
       "      <td>25</td>\n",
       "      <td>0.25</td>\n",
       "    </tr>\n",
       "    <tr>\n",
       "      <th>(2.163, 2.861]</th>\n",
       "      <td>15</td>\n",
       "      <td>0.15</td>\n",
       "    </tr>\n",
       "    <tr>\n",
       "      <th>(2.861, 3.326]</th>\n",
       "      <td>10</td>\n",
       "      <td>0.10</td>\n",
       "    </tr>\n",
       "  </tbody>\n",
       "</table>\n",
       "</div>"
      ],
      "text/plain": [
       "                  counts  freqs\n",
       "categories                     \n",
       "(-1.327, -0.163]      25   0.25\n",
       "(-0.163, 1.0]         25   0.25\n",
       "(1.0, 2.163]          25   0.25\n",
       "(2.163, 2.861]        15   0.15\n",
       "(2.861, 3.326]        10   0.10"
      ]
     },
     "metadata": {},
     "output_type": "display_data"
    },
    {
     "name": "stdout",
     "output_type": "stream",
     "text": [
      "PMF bad\n"
     ]
    },
    {
     "data": {
      "text/html": [
       "<div>\n",
       "<style scoped>\n",
       "    .dataframe tbody tr th:only-of-type {\n",
       "        vertical-align: middle;\n",
       "    }\n",
       "\n",
       "    .dataframe tbody tr th {\n",
       "        vertical-align: top;\n",
       "    }\n",
       "\n",
       "    .dataframe thead th {\n",
       "        text-align: right;\n",
       "    }\n",
       "</style>\n",
       "<table border=\"1\" class=\"dataframe\">\n",
       "  <thead>\n",
       "    <tr style=\"text-align: right;\">\n",
       "      <th></th>\n",
       "      <th>counts</th>\n",
       "      <th>freqs</th>\n",
       "    </tr>\n",
       "    <tr>\n",
       "      <th>categories</th>\n",
       "      <th></th>\n",
       "      <th></th>\n",
       "    </tr>\n",
       "  </thead>\n",
       "  <tbody>\n",
       "    <tr>\n",
       "      <th>(-5.654, -3.326]</th>\n",
       "      <td>13</td>\n",
       "      <td>0.26</td>\n",
       "    </tr>\n",
       "    <tr>\n",
       "      <th>(-3.326, -1.0]</th>\n",
       "      <td>12</td>\n",
       "      <td>0.24</td>\n",
       "    </tr>\n",
       "    <tr>\n",
       "      <th>(-1.0, 1.326]</th>\n",
       "      <td>12</td>\n",
       "      <td>0.24</td>\n",
       "    </tr>\n",
       "    <tr>\n",
       "      <th>(1.326, 2.722]</th>\n",
       "      <td>8</td>\n",
       "      <td>0.16</td>\n",
       "    </tr>\n",
       "    <tr>\n",
       "      <th>(2.722, 3.653]</th>\n",
       "      <td>5</td>\n",
       "      <td>0.10</td>\n",
       "    </tr>\n",
       "  </tbody>\n",
       "</table>\n",
       "</div>"
      ],
      "text/plain": [
       "                  counts  freqs\n",
       "categories                     \n",
       "(-5.654, -3.326]      13   0.26\n",
       "(-3.326, -1.0]        12   0.24\n",
       "(-1.0, 1.326]         12   0.24\n",
       "(1.326, 2.722]         8   0.16\n",
       "(2.722, 3.653]         5   0.10"
      ]
     },
     "metadata": {},
     "output_type": "display_data"
    },
    {
     "name": "stdout",
     "output_type": "stream",
     "text": [
      "Good: {0: 0.25, 1: 0.25, 2: 0.25, 4: 0.1}\n",
      "Bad: {1: 0.24, 2: 0.24, 3: 0.16, 4: 0.1}\n",
      "Diff: [0.01 0.01 0.09 0.  ]\n"
     ]
    }
   ],
   "source": [
    "# binning with quantiles 10\n",
    "qtiles = [0, .25, .5, .75, .9, 1.]\n",
    "bin_good = pd.qcut(x_good, qtiles)\n",
    "bin_bad = pd.qcut(x_bad, qtiles)\n",
    "\n",
    "# calculate pmf of each bin\n",
    "pmf_good = bin_good.describe()\n",
    "pmf_bad = bin_bad.describe()\n",
    "\n",
    "print \"PMF good\"\n",
    "display(pmf_good)\n",
    "\n",
    "print \"PMF bad\"\n",
    "display(pmf_bad)\n",
    "\n",
    "# cho testing data, xac dinh prob cua data nay\n",
    "test_data = np.array([-10, -1, 1, 2, 3])\n",
    "\n",
    "def map_to_prob(data, pmf):\n",
    "    res = {}\n",
    "    for i in range(pmf.shape[0]):\n",
    "        idx = pmf.index[i]\n",
    "        for j in data:\n",
    "            if j in idx:\n",
    "                res[i] = pmf.loc[idx].freqs\n",
    "                \n",
    "    return res\n",
    "\n",
    "test_prob_good = map_to_prob(test_data, pmf_good)\n",
    "test_prob_bad = map_to_prob(test_data, pmf_bad)\n",
    "print \"Good:\", test_prob_good\n",
    "print \"Bad:\", test_prob_bad\n",
    "print \"Diff:\", np.array(test_prob_good.values()) - np.array(test_prob_bad.values())"
   ]
  },
  {
   "cell_type": "code",
   "execution_count": 20,
   "metadata": {},
   "outputs": [
    {
     "data": {
      "text/html": [
       "<div>\n",
       "<style scoped>\n",
       "    .dataframe tbody tr th:only-of-type {\n",
       "        vertical-align: middle;\n",
       "    }\n",
       "\n",
       "    .dataframe tbody tr th {\n",
       "        vertical-align: top;\n",
       "    }\n",
       "\n",
       "    .dataframe thead th {\n",
       "        text-align: right;\n",
       "    }\n",
       "</style>\n",
       "<table border=\"1\" class=\"dataframe\">\n",
       "  <thead>\n",
       "    <tr style=\"text-align: right;\">\n",
       "      <th></th>\n",
       "      <th>freqs</th>\n",
       "    </tr>\n",
       "    <tr>\n",
       "      <th>categories</th>\n",
       "      <th></th>\n",
       "    </tr>\n",
       "  </thead>\n",
       "  <tbody>\n",
       "    <tr>\n",
       "      <th>(-1.327, -0.163]</th>\n",
       "      <td>0.112432</td>\n",
       "    </tr>\n",
       "    <tr>\n",
       "      <th>(-0.163, 1.0]</th>\n",
       "      <td>0.377585</td>\n",
       "    </tr>\n",
       "    <tr>\n",
       "      <th>(1.0, 2.163]</th>\n",
       "      <td>0.377585</td>\n",
       "    </tr>\n",
       "    <tr>\n",
       "      <th>(2.163, 2.861]</th>\n",
       "      <td>0.091043</td>\n",
       "    </tr>\n",
       "    <tr>\n",
       "      <th>(2.861, 3.326]</th>\n",
       "      <td>0.021363</td>\n",
       "    </tr>\n",
       "  </tbody>\n",
       "</table>\n",
       "</div>"
      ],
      "text/plain": [
       "                     freqs\n",
       "categories                \n",
       "(-1.327, -0.163]  0.112432\n",
       "(-0.163, 1.0]     0.377585\n",
       "(1.0, 2.163]      0.377585\n",
       "(2.163, 2.861]    0.091043\n",
       "(2.861, 3.326]    0.021363"
      ]
     },
     "execution_count": 20,
     "metadata": {},
     "output_type": "execute_result"
    }
   ],
   "source": [
    "# apply model on quantiles\n",
    "mu = 1\n",
    "std = 1\n",
    "cat = []\n",
    "freqs = []\n",
    "for b in bin_good.categories:\n",
    "    cat.append(b)\n",
    "    freqs.append(norm.cdf(b.right, mu, std) - norm.cdf(b.left, mu, std))\n",
    "norm_model = pd.DataFrame({\"categories\": cat, \"freqs\": freqs})\n",
    "norm_model = norm_model.set_index(\"categories\")\n",
    "norm_model"
   ]
  }
 ],
 "metadata": {
  "kernelspec": {
   "display_name": "Python 3",
   "language": "python",
   "name": "python3"
  },
  "language_info": {
   "codemirror_mode": {
    "name": "ipython",
    "version": 3
   },
   "file_extension": ".py",
   "mimetype": "text/x-python",
   "name": "python",
   "nbconvert_exporter": "python",
   "pygments_lexer": "ipython3",
   "version": "3.7.4"
  }
 },
 "nbformat": 4,
 "nbformat_minor": 2
}
