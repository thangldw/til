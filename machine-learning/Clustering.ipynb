{
 "cells": [
  {
   "cell_type": "markdown",
   "metadata": {},
   "source": [
    "**Clustering with Iris data**"
   ]
  },
  {
   "cell_type": "code",
   "execution_count": 1,
   "metadata": {},
   "outputs": [],
   "source": [
    "# Load libraries\n",
    "import math\n",
    "import numpy as np\n",
    "import pandas as pd\n",
    "import matplotlib.pyplot as plt\n",
    "import matplotlib.ticker as ticker\n",
    "import seaborn as sns\n",
    "\n",
    "from sklearn import datasets\n",
    "from sklearn.preprocessing import StandardScaler\n",
    "from sklearn.cluster import KMeans\n",
    "from sklearn.cluster import MiniBatchKMeans\n",
    "from sklearn.cluster import MeanShift\n",
    "from sklearn.cluster import DBSCAN\n",
    "from sklearn.cluster import AgglomerativeClustering\n",
    "\n",
    "from sklearn.metrics import silhouette_score"
   ]
  },
  {
   "cell_type": "code",
   "execution_count": 2,
   "metadata": {},
   "outputs": [],
   "source": [
    "# Load data\n",
    "iris = datasets.load_iris()\n",
    "data_in = iris.data"
   ]
  },
  {
   "cell_type": "code",
   "execution_count": 3,
   "metadata": {},
   "outputs": [],
   "source": [
    "# Standarize features\n",
    "scaler = StandardScaler()\n",
    "# Fit to data, then transform it\n",
    "data_in_std = scaler.fit_transform(data_in)"
   ]
  },
  {
   "cell_type": "code",
   "execution_count": 4,
   "metadata": {},
   "outputs": [],
   "source": [
    "# Choose the best clusters number for kmeans\n",
    "def optimal_number_of_clusters(dataset):\n",
    "    nc = range(1, 20)\n",
    "    kmeans = [KMeans(n_clusters=i) for i in nc]\n",
    "    score = [kmeans[i].fit(dataset).score(dataset) for i in range(len(kmeans))]\n",
    "    plt.plot(nc, score)\n",
    "    plt.xlabel('Number of Clusters')\n",
    "    plt.ylabel('Score')\n",
    "    plt.show()"
   ]
  },
  {
   "cell_type": "code",
   "execution_count": 5,
   "metadata": {},
   "outputs": [],
   "source": [
    "# Show datapoints and clusters\n",
    "def show_datapoints_and_clusters(model, ndarray):\n",
    "    plt.scatter(ndarray[:, 0], ndarray[:, 1], label='Datapoints')\n",
    "    plt.scatter(model.cluster_centers_[:, 0],\n",
    "                model.cluster_centers_[:, 1],\n",
    "                label='Clusters')\n",
    "    plt.legend()\n",
    "    plt.show()"
   ]
  },
  {
   "cell_type": "code",
   "execution_count": 6,
   "metadata": {},
   "outputs": [
    {
     "data": {
      "image/png": "[encoded data removed]",
      "text/plain": [
       "<Figure size 432x288 with 1 Axes>"
      ]
     },
     "metadata": {
      "needs_background": "light"
     },
     "output_type": "display_data"
    }
   ],
   "source": [
    "optimal_number_of_clusters(data_in_std)"
   ]
  },
  {
   "cell_type": "code",
   "execution_count": 7,
   "metadata": {},
   "outputs": [],
   "source": [
    "cluster_kmeans = KMeans(n_clusters=3, random_state=0, n_jobs=-1)\n",
    "model_kmeans = cluster_kmeans.fit(data_in_std)"
   ]
  },
  {
   "cell_type": "code",
   "execution_count": 8,
   "metadata": {},
   "outputs": [
    {
     "data": {
      "image/png": "[encoded data removed]",
      "text/plain": [
       "<Figure size 432x288 with 1 Axes>"
      ]
     },
     "metadata": {
      "needs_background": "light"
     },
     "output_type": "display_data"
    }
   ],
   "source": [
    "show_datapoints_and_clusters(model_kmeans, data_in_std)"
   ]
  },
  {
   "cell_type": "code",
   "execution_count": 9,
   "metadata": {},
   "outputs": [],
   "source": [
    "# Show Each Observation’s Cluster Membership as DataFrame\n",
    "data_in_std_df = pd.DataFrame(data_in_std)\n",
    "data_in_std_df['cluster'] = model_kmeans.labels_"
   ]
  },
  {
   "cell_type": "code",
   "execution_count": 10,
   "metadata": {},
   "outputs": [
    {
     "data": {
      "text/plain": [
       "array([[ 1.13597027,  0.08842168,  0.99615451,  1.01752612],\n",
       "       [-1.01457897,  0.85326268, -1.30498732, -1.25489349],\n",
       "       [-0.05021989, -0.88337647,  0.34773781,  0.2815273 ]])"
      ]
     },
     "execution_count": 10,
     "metadata": {},
     "output_type": "execute_result"
    }
   ],
   "source": [
    "# View cluster centers\n",
    "model_kmeans.cluster_centers_"
   ]
  },
  {
   "cell_type": "code",
   "execution_count": 11,
   "metadata": {},
   "outputs": [],
   "source": [
    "# Create new observation\n",
    "new_observation_1 = [[0.8, 0.8, 0.8, 0.8]]\n",
    "new_observation_2 = [[-0.8, 0.8, -0.8, 0.8]]"
   ]
  },
  {
   "cell_type": "code",
   "execution_count": 12,
   "metadata": {},
   "outputs": [
    {
     "data": {
      "text/plain": [
       "(array([0]), array([1]))"
      ]
     },
     "execution_count": 12,
     "metadata": {},
     "output_type": "execute_result"
    }
   ],
   "source": [
    "model_kmeans.predict(new_observation_1), model_kmeans.predict(new_observation_2)"
   ]
  },
  {
   "cell_type": "markdown",
   "metadata": {},
   "source": [
    "**Mini-Batch k-Means Clustering**\n",
    "\n",
    "MiniBatchKMeans works similarly to KMeans, with one significance difference: **the batch_size parameter**.\n",
    "<br>Batch_size controls the number of randomly selected observations in each batch.\n",
    "<br>The larger the the size of the batch, the more computationally costly the training process."
   ]
  },
  {
   "cell_type": "code",
   "execution_count": 13,
   "metadata": {},
   "outputs": [],
   "source": [
    "cluster_minibatch_kmeans = MiniBatchKMeans(n_clusters=3,\n",
    "                                           random_state=0,\n",
    "                                           batch_size=100)\n",
    "model_minibatch_kmeans = cluster_minibatch_kmeans.fit(data_in_std)"
   ]
  },
  {
   "cell_type": "markdown",
   "metadata": {},
   "source": [
    "**Meanshift Clustering**\n",
    "\n",
    "MeanShift has two important parameters we should be aware of. \n",
    "- First, **bandwidth sets** radius of the area (i.e. kernel) an observation uses to determine the direction to shift. In our analogy, bandwidth was how far a person could see through the fog. We can set this parameter manually, however by default a reasonable bandwidth is estimated automatically (with a significant increase in computational cost). \n",
    "- Second, sometimes in meanshift there are no other observations within an observation’s kernel. That is, a person on our football cannot see a single other person. By default, MeanShift assigns all these “orphan” observations to the kernel of the nearest observation. However, if we want to leave out these orphans, we can set cluster_all=False wherein orphan observations the label of -1."
   ]
  },
  {
   "cell_type": "code",
   "execution_count": 14,
   "metadata": {},
   "outputs": [],
   "source": [
    "cluster_meanshift = MeanShift(n_jobs=-1)\n",
    "model_meanshift = cluster_meanshift.fit(data_in_std)"
   ]
  },
  {
   "cell_type": "markdown",
   "metadata": {},
   "source": [
    "**Evaluating Clustering** - Calculate Silhouette Coefficient\n",
    "<br>Formally, the i-th observation’s silhouette coefficient is:\n",
    "$s_{i}=\\frac{b_{i}-a_{i}}{\\max(b_{i}-a_{i})}$\n",
    "where $s_{i}$ is the silhouette coefficient for observation i, $a_{i}$ is the mean distance between i and all observations of the same class and b{i} is the mean distance between i and all observations from the closest cluster of a different class. The value returned by silhouette_score is the mean silhouette coefficient for all observations.\n",
    "<br>Silhouette coefficients range between -1 and 1, with 1 indicating dense, well separated clusters."
   ]
  },
  {
   "cell_type": "code",
   "execution_count": 15,
   "metadata": {},
   "outputs": [
    {
     "data": {
      "text/plain": [
       "0.45994823920518635"
      ]
     },
     "execution_count": 15,
     "metadata": {},
     "output_type": "execute_result"
    }
   ],
   "source": [
    "silhouette_score(data_in_std, model_kmeans.labels_)"
   ]
  },
  {
   "cell_type": "markdown",
   "metadata": {},
   "source": [
    "**DBSCAN Clustering** - Density-Based Spatial Clustering of Applications with Noise. \n",
    "<br>Finds core samples of high density and expands clusters from them. Good for data which contains clusters of similar density.\n",
    "<br>DBSCAN has three main parameters to set:\n",
    "<br>**eps**: The maximum distance from an observation for another observation to be considered its neighbor.\n",
    "<br>**min_samples**: The minimum number of observation less than eps distance from an observation for to be considered a core observation.\n",
    "<br>**metric**: The distance metric used by eps. For example, minkowski, euclidean, etc. (note that if Minkowski distance is used, the parameter p can be used to set the power of the Minkowski metric)\n",
    "<br>If we look at the clusters in our training data we can see two clusters have been identified, 0 and 1, while outlier observations are labeled -1."
   ]
  },
  {
   "cell_type": "code",
   "execution_count": 16,
   "metadata": {},
   "outputs": [],
   "source": [
    "cluster_dbscan = DBSCAN(n_jobs=-1)\n",
    "model_dbscan = cluster_dbscan.fit(data_in_std)"
   ]
  },
  {
   "cell_type": "markdown",
   "metadata": {},
   "source": [
    "**Agglomerative Clustering**\n",
    "<br>In scikit-learn, AgglomerativeClustering uses the linkage parameter to determine the merging strategy to minimize the <br>1. variance of merged clusters (ward)\n",
    "<br>2. average of distance between observations from pairs of clusters (average)\n",
    "<br>3. maximum distance between observations from pairs of clusters (complete).\n",
    "<br>Two other parameters are useful to know. \n",
    "<br>First, the affinity parameter determines the distance metric used for linkage (minkowski, euclidean, etc.). \n",
    "<br>Second, n_clusters sets the number of clusters the clustering algorithm will attempt to find. \n",
    "<br>That is, clusters are successively merged until there are only n_clusters remaining.}"
   ]
  },
  {
   "cell_type": "code",
   "execution_count": 19,
   "metadata": {},
   "outputs": [],
   "source": [
    "cluster_agglomerative = AgglomerativeClustering(linkage='complete',\n",
    "                                                affinity='euclidean',\n",
    "                                                n_clusters=3)\n",
    "model = cluster_agglomerative.fit(data_in_std)"
   ]
  },
  {
   "cell_type": "code",
   "execution_count": null,
   "metadata": {},
   "outputs": [],
   "source": []
  }
 ],
 "metadata": {
  "kernelspec": {
   "display_name": "Python 3",
   "language": "python",
   "name": "python3"
  },
  "language_info": {
   "codemirror_mode": {
    "name": "ipython",
    "version": 3
   },
   "file_extension": ".py",
   "mimetype": "text/x-python",
   "name": "python",
   "nbconvert_exporter": "python",
   "pygments_lexer": "ipython3",
   "version": "3.7.3"
  }
 },
 "nbformat": 4,
 "nbformat_minor": 2
}
