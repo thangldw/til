{
 "cells": [
  {
   "cell_type": "markdown",
   "metadata": {
    "colab_type": "text",
    "id": "tD-GvSpBxCDj"
   },
   "source": [
    "## [SMS Message Spam Detector with AutoML]"
   ]
  },
  {
   "cell_type": "markdown",
   "metadata": {
    "colab_type": "text",
    "id": "91oJq77cyui_"
   },
   "source": [
    "## [Project Description]"
   ]
  },
  {
   "cell_type": "markdown",
   "metadata": {},
   "source": [
    "I will try sms message spam detection with auto machine learning, i use auto-sklearn, h2o in this notebook"
   ]
  },
  {
   "cell_type": "markdown",
   "metadata": {},
   "source": [
    "## [Libraries]"
   ]
  },
  {
   "cell_type": "code",
   "execution_count": null,
   "metadata": {
    "colab": {},
    "colab_type": "code",
    "id": "q_e7rSozyvon"
   },
   "outputs": [],
   "source": [
    "import h2o\n",
    "from h2o.automl import H2OAutoML, get_leaderboard\n",
    "\n",
    "h2o.init()"
   ]
  },
  {
   "cell_type": "markdown",
   "metadata": {
    "colab_type": "text",
    "id": "Rylpdsb21Wo_"
   },
   "source": [
    "## [Data Loading]"
   ]
  },
  {
   "cell_type": "code",
   "execution_count": 10,
   "metadata": {
    "colab": {},
    "colab_type": "code",
    "id": "g1_euxvq1XQZ"
   },
   "outputs": [
    {
     "name": "stdout",
     "output_type": "stream",
     "text": [
      "Parse progress: |█████████████████████████████████████████████████████████| 100%\n"
     ]
    },
    {
     "data": {
      "text/html": [
       "<table>\n",
       "<thead>\n",
       "<tr><th>class  </th><th>message                                                                                                                                                             </th><th>C3  </th><th>C4  </th><th>C5  </th></tr>\n",
       "</thead>\n",
       "<tbody>\n",
       "<tr><td>ham    </td><td>Go until jurong point, crazy.. Available only in bugis n great world la e buffet... Cine there got amore wat...                                                     </td><td>    </td><td>    </td><td>    </td></tr>\n",
       "<tr><td>ham    </td><td>Ok lar... Joking wif u oni...                                                                                                                                       </td><td>    </td><td>    </td><td>    </td></tr>\n",
       "<tr><td>spam   </td><td>Free entry in 2 a wkly comp to win FA Cup final tkts 21st May 2005. Text FA to 87121 to receive entry question(std txt rate)T&C's apply 08452810075over18's         </td><td>    </td><td>    </td><td>    </td></tr>\n",
       "<tr><td>ham    </td><td>U dun say so early hor... U c already then say...                                                                                                                   </td><td>    </td><td>    </td><td>    </td></tr>\n",
       "<tr><td>ham    </td><td>Nah I don't think he goes to usf, he lives around here though                                                                                                       </td><td>    </td><td>    </td><td>    </td></tr>\n",
       "<tr><td>spam   </td><td>FreeMsg Hey there darling it's been 3 week's now and no word back! I'd like some fun you up for it still? Tb ok! XxX std chgs to send, <0xE5A3>1.50 to rcv          </td><td>    </td><td>    </td><td>    </td></tr>\n",
       "<tr><td>ham    </td><td>Even my brother is not like to speak with me. They treat me like aids patent.                                                                                       </td><td>    </td><td>    </td><td>    </td></tr>\n",
       "<tr><td>ham    </td><td>As per your request 'Melle Melle (Oru Minnaminunginte Nurungu Vettam)' has been set as your callertune for all Callers. Press *9 to copy your friends Callertune    </td><td>    </td><td>    </td><td>    </td></tr>\n",
       "<tr><td>spam   </td><td>WINNER!! As a valued network customer you have been selected to receivea <0xE5A3>900 prize reward! To claim call 09061701461. Claim code KL341. Valid 12 hours only.</td><td>    </td><td>    </td><td>    </td></tr>\n",
       "<tr><td>spam   </td><td>Had your mobile 11 months or more? U R entitled to Update to the latest colour mobiles with camera for Free! Call The Mobile Update Co FREE on 08002986030          </td><td>    </td><td>    </td><td>    </td></tr>\n",
       "</tbody>\n",
       "</table>"
      ]
     },
     "metadata": {},
     "output_type": "display_data"
    },
    {
     "data": {
      "text/plain": []
     },
     "execution_count": 10,
     "metadata": {},
     "output_type": "execute_result"
    }
   ],
   "source": [
    "raw_data = h2o.import_file(\"./dataset/sms-message-spam-detector.csv\", header=1)\n",
    "raw_data.head()"
   ]
  },
  {
   "cell_type": "markdown",
   "metadata": {
    "colab_type": "text",
    "id": "MwVV-MGG14UL"
   },
   "source": [
    "## [Data Preprocessing]"
   ]
  },
  {
   "cell_type": "code",
   "execution_count": 11,
   "metadata": {},
   "outputs": [],
   "source": [
    "# Split the data into Train/Test/Validation with Train having 70% and test and validation 15% each\n",
    "# train, test, valid = raw_data.split_frame(ratios=[0.7, 0.15])"
   ]
  },
  {
   "cell_type": "markdown",
   "metadata": {
    "colab_type": "text",
    "id": "NtF8ipN93JTj"
   },
   "source": [
    "## [Training Model]"
   ]
  },
  {
   "cell_type": "code",
   "execution_count": 12,
   "metadata": {},
   "outputs": [],
   "source": [
    "x = [\"message\"]\n",
    "y = \"class\"\n",
    "\n",
    "raw_data[x] = raw_data[x].asfactor()\n",
    "raw_data[y] = raw_data[y].asfactor()"
   ]
  },
  {
   "cell_type": "code",
   "execution_count": 16,
   "metadata": {},
   "outputs": [
    {
     "name": "stdout",
     "output_type": "stream",
     "text": [
      "AutoML progress: |\n",
      "17:36:19.124: AutoML: XGBoost is not available; skipping it.\n",
      "\n",
      "████████████████████████████████████████████████████████| 100%\n"
     ]
    }
   ],
   "source": [
    "# Run AutoML for 20 base models (limited to 1 hour max runtime by default)\n",
    "\n",
    "auto_ml = H2OAutoML(max_models=20, max_runtime_secs=120, seed=1)\n",
    "auto_ml.train(x=x, y=y, training_frame=train)"
   ]
  },
  {
   "cell_type": "markdown",
   "metadata": {
    "colab_type": "text",
    "id": "C3Hf7M1r3isG"
   },
   "source": [
    "## [Evaluating Model]"
   ]
  },
  {
   "cell_type": "code",
   "execution_count": 17,
   "metadata": {},
   "outputs": [],
   "source": [
    "lb = get_leaderboard(auto_ml, extra_columns=\"ALL\")"
   ]
  },
  {
   "cell_type": "code",
   "execution_count": 18,
   "metadata": {},
   "outputs": [
    {
     "data": {
      "text/html": [
       "<table>\n",
       "<thead>\n",
       "<tr><th>model_id                                           </th><th style=\"text-align: right;\">     auc</th><th style=\"text-align: right;\">  logloss</th><th style=\"text-align: right;\">   aucpr</th><th style=\"text-align: right;\">  mean_per_class_error</th><th style=\"text-align: right;\">    rmse</th><th style=\"text-align: right;\">      mse</th><th style=\"text-align: right;\">  training_time_ms</th><th style=\"text-align: right;\">  predict_time_per_row_ms</th></tr>\n",
       "</thead>\n",
       "<tbody>\n",
       "<tr><td>StackedEnsemble_BestOfFamily_AutoML_20200226_173619</td><td style=\"text-align: right;\">0.840699</td><td style=\"text-align: right;\"> 0.28147 </td><td style=\"text-align: right;\">0.594599</td><td style=\"text-align: right;\">              0.262015</td><td style=\"text-align: right;\">0.28068 </td><td style=\"text-align: right;\">0.0787814</td><td style=\"text-align: right;\">               343</td><td style=\"text-align: right;\">                 0.090837</td></tr>\n",
       "<tr><td>StackedEnsemble_AllModels_AutoML_20200226_173619   </td><td style=\"text-align: right;\">0.837679</td><td style=\"text-align: right;\"> 0.282275</td><td style=\"text-align: right;\">0.583885</td><td style=\"text-align: right;\">              0.261391</td><td style=\"text-align: right;\">0.281232</td><td style=\"text-align: right;\">0.0790912</td><td style=\"text-align: right;\">              1004</td><td style=\"text-align: right;\">                 0.25893 </td></tr>\n",
       "<tr><td>XRT_1_AutoML_20200226_173619                       </td><td style=\"text-align: right;\">0.823046</td><td style=\"text-align: right;\"> 0.842691</td><td style=\"text-align: right;\">0.524868</td><td style=\"text-align: right;\">              0.265131</td><td style=\"text-align: right;\">0.325983</td><td style=\"text-align: right;\">0.106265 </td><td style=\"text-align: right;\">               865</td><td style=\"text-align: right;\">                 0.008065</td></tr>\n",
       "<tr><td>GBM_grid__1_AutoML_20200226_173619_model_3         </td><td style=\"text-align: right;\">0.699015</td><td style=\"text-align: right;\"> 1.09506 </td><td style=\"text-align: right;\">0.408498</td><td style=\"text-align: right;\">              0.331842</td><td style=\"text-align: right;\">0.337677</td><td style=\"text-align: right;\">0.114026 </td><td style=\"text-align: right;\">               293</td><td style=\"text-align: right;\">                 0.00744 </td></tr>\n",
       "<tr><td>GBM_grid__1_AutoML_20200226_173619_model_4         </td><td style=\"text-align: right;\">0.680975</td><td style=\"text-align: right;\"> 0.483635</td><td style=\"text-align: right;\">0.425281</td><td style=\"text-align: right;\">              0.348928</td><td style=\"text-align: right;\">0.336029</td><td style=\"text-align: right;\">0.112915 </td><td style=\"text-align: right;\">               339</td><td style=\"text-align: right;\">                 0.00955 </td></tr>\n",
       "<tr><td>DRF_1_AutoML_20200226_173619                       </td><td style=\"text-align: right;\">0.675491</td><td style=\"text-align: right;\"> 2.88579 </td><td style=\"text-align: right;\">0.479373</td><td style=\"text-align: right;\">              0.329707</td><td style=\"text-align: right;\">0.33491 </td><td style=\"text-align: right;\">0.112165 </td><td style=\"text-align: right;\">               186</td><td style=\"text-align: right;\">                 0.006054</td></tr>\n",
       "<tr><td>GBM_grid__1_AutoML_20200226_173619_model_5         </td><td style=\"text-align: right;\">0.663944</td><td style=\"text-align: right;\"> 0.39283 </td><td style=\"text-align: right;\">0.350261</td><td style=\"text-align: right;\">              0.355496</td><td style=\"text-align: right;\">0.34068 </td><td style=\"text-align: right;\">0.116063 </td><td style=\"text-align: right;\">               133</td><td style=\"text-align: right;\">                 0.004154</td></tr>\n",
       "<tr><td>GBM_5_AutoML_20200226_173619                       </td><td style=\"text-align: right;\">0.659342</td><td style=\"text-align: right;\"> 0.481506</td><td style=\"text-align: right;\">0.425403</td><td style=\"text-align: right;\">              0.361427</td><td style=\"text-align: right;\">0.328964</td><td style=\"text-align: right;\">0.108217 </td><td style=\"text-align: right;\">               397</td><td style=\"text-align: right;\">                 0.007508</td></tr>\n",
       "<tr><td>GBM_grid__1_AutoML_20200226_173619_model_1         </td><td style=\"text-align: right;\">0.625268</td><td style=\"text-align: right;\"> 0.372161</td><td style=\"text-align: right;\">0.389922</td><td style=\"text-align: right;\">              0.383301</td><td style=\"text-align: right;\">0.329516</td><td style=\"text-align: right;\">0.108581 </td><td style=\"text-align: right;\">               653</td><td style=\"text-align: right;\">                 0.005673</td></tr>\n",
       "<tr><td>GBM_grid__1_AutoML_20200226_173619_model_2         </td><td style=\"text-align: right;\">0.616309</td><td style=\"text-align: right;\"> 0.373123</td><td style=\"text-align: right;\">0.373078</td><td style=\"text-align: right;\">              0.392892</td><td style=\"text-align: right;\">0.32995 </td><td style=\"text-align: right;\">0.108867 </td><td style=\"text-align: right;\">               471</td><td style=\"text-align: right;\">                 0.007447</td></tr>\n",
       "<tr><td>GBM_3_AutoML_20200226_173619                       </td><td style=\"text-align: right;\">0.614734</td><td style=\"text-align: right;\"> 0.543026</td><td style=\"text-align: right;\">0.402385</td><td style=\"text-align: right;\">              0.352562</td><td style=\"text-align: right;\">0.331599</td><td style=\"text-align: right;\">0.109958 </td><td style=\"text-align: right;\">               281</td><td style=\"text-align: right;\">                 0.006293</td></tr>\n",
       "<tr><td>GLM_1_AutoML_20200226_173619                       </td><td style=\"text-align: right;\">0.605038</td><td style=\"text-align: right;\"> 0.362507</td><td style=\"text-align: right;\">0.369158</td><td style=\"text-align: right;\">              0.418561</td><td style=\"text-align: right;\">0.322764</td><td style=\"text-align: right;\">0.104176 </td><td style=\"text-align: right;\">               154</td><td style=\"text-align: right;\">                 0.000897</td></tr>\n",
       "<tr><td>GBM_4_AutoML_20200226_173619                       </td><td style=\"text-align: right;\">0.596101</td><td style=\"text-align: right;\"> 0.560977</td><td style=\"text-align: right;\">0.360013</td><td style=\"text-align: right;\">              0.378848</td><td style=\"text-align: right;\">0.333138</td><td style=\"text-align: right;\">0.110981 </td><td style=\"text-align: right;\">               310</td><td style=\"text-align: right;\">                 0.006317</td></tr>\n",
       "<tr><td>GBM_grid__1_AutoML_20200226_173619_model_6         </td><td style=\"text-align: right;\">0.586593</td><td style=\"text-align: right;\"> 2.96227 </td><td style=\"text-align: right;\">0.190481</td><td style=\"text-align: right;\">              0.411663</td><td style=\"text-align: right;\">0.336893</td><td style=\"text-align: right;\">0.113497 </td><td style=\"text-align: right;\">               200</td><td style=\"text-align: right;\">                 0.003871</td></tr>\n",
       "<tr><td>GBM_1_AutoML_20200226_173619                       </td><td style=\"text-align: right;\">0.507101</td><td style=\"text-align: right;\"> 0.543424</td><td style=\"text-align: right;\">0.314973</td><td style=\"text-align: right;\">              0.400548</td><td style=\"text-align: right;\">0.332597</td><td style=\"text-align: right;\">0.110621 </td><td style=\"text-align: right;\">               204</td><td style=\"text-align: right;\">                 0.004969</td></tr>\n",
       "<tr><td>DeepLearning_grid__1_AutoML_20200226_173619_model_1</td><td style=\"text-align: right;\">0.503126</td><td style=\"text-align: right;\"> 0.442963</td><td style=\"text-align: right;\">0.107533</td><td style=\"text-align: right;\">              0.5     </td><td style=\"text-align: right;\">0.349715</td><td style=\"text-align: right;\">0.1223   </td><td style=\"text-align: right;\">              1794</td><td style=\"text-align: right;\">                 0.086341</td></tr>\n",
       "<tr><td>DeepLearning_1_AutoML_20200226_173619              </td><td style=\"text-align: right;\">0.501605</td><td style=\"text-align: right;\"> 0.402402</td><td style=\"text-align: right;\">0.138132</td><td style=\"text-align: right;\">              0.486628</td><td style=\"text-align: right;\">0.344196</td><td style=\"text-align: right;\">0.118471 </td><td style=\"text-align: right;\">              1232</td><td style=\"text-align: right;\">                 0.023051</td></tr>\n",
       "<tr><td>DeepLearning_grid__2_AutoML_20200226_173619_model_1</td><td style=\"text-align: right;\">0.495535</td><td style=\"text-align: right;\"> 0.403534</td><td style=\"text-align: right;\">0.106765</td><td style=\"text-align: right;\">              0.49272 </td><td style=\"text-align: right;\">0.343707</td><td style=\"text-align: right;\">0.118134 </td><td style=\"text-align: right;\">              2123</td><td style=\"text-align: right;\">                 0.100666</td></tr>\n",
       "<tr><td>GBM_2_AutoML_20200226_173619                       </td><td style=\"text-align: right;\">0.476643</td><td style=\"text-align: right;\"> 0.55786 </td><td style=\"text-align: right;\">0.300903</td><td style=\"text-align: right;\">              0.405948</td><td style=\"text-align: right;\">0.333142</td><td style=\"text-align: right;\">0.110984 </td><td style=\"text-align: right;\">               301</td><td style=\"text-align: right;\">                 0.005555</td></tr>\n",
       "</tbody>\n",
       "</table>"
      ]
     },
     "metadata": {},
     "output_type": "display_data"
    },
    {
     "data": {
      "text/plain": []
     },
     "execution_count": 18,
     "metadata": {},
     "output_type": "execute_result"
    }
   ],
   "source": [
    "lb.head(rows=lb.nrows)"
   ]
  },
  {
   "cell_type": "code",
   "execution_count": null,
   "metadata": {},
   "outputs": [],
   "source": []
  }
 ],
 "metadata": {
  "colab": {
   "include_colab_link": true,
   "name": "Writing Primer for Data Scientists.ipynb",
   "provenance": []
  },
  "kernelspec": {
   "display_name": "Python 3",
   "language": "python",
   "name": "python3"
  },
  "language_info": {
   "codemirror_mode": {
    "name": "ipython",
    "version": 3
   },
   "file_extension": ".py",
   "mimetype": "text/x-python",
   "name": "python",
   "nbconvert_exporter": "python",
   "pygments_lexer": "ipython3",
   "version": "3.8.5"
  }
 },
 "nbformat": 4,
 "nbformat_minor": 1
}
