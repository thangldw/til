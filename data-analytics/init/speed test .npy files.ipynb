{
 "cells": [
  {
   "cell_type": "code",
   "execution_count": 1,
   "metadata": {},
   "outputs": [],
   "source": [
    "import numpy as np\n",
    "import pandas as pd\n",
    "import time\n",
    "\n",
    "N = 10000000\n",
    "\n",
    "# Create data txt\n",
    "with open('data.txt', 'w') as data:\n",
    "    for _ in range(N):\n",
    "        data.write(str(10*np.random.random())+',')\n",
    "    \n",
    "with open('data.txt', 'r') as data:\n",
    "    string_data = data.read()\n",
    "        \n",
    "# Create data npy\n",
    "list_data = string_data.split(',')\n",
    "list_data.pop()\n",
    "data_array = np.array(list_data, dtype=float).reshape(10000, 1000)\n",
    "np.save('data.npy', data_array)\n",
    "\n",
    "#Create data csv \n",
    "d = pd.DataFrame(data_array)\n",
    "d.to_csv('data.csv', index = None)"
   ]
  },
  {
   "cell_type": "code",
   "execution_count": 2,
   "metadata": {},
   "outputs": [
    {
     "name": "stdout",
     "output_type": "stream",
     "text": [
      "\n",
      "TXT Time to read: 0.19168 seconds.\n",
      "\n",
      "CSV Time to read: 1.61098 seconds.\n",
      "\n",
      "NPY Time to read: 0.03848 seconds.\n"
     ]
    }
   ],
   "source": [
    "start = time.time()\n",
    "\n",
    "with open('data.txt', 'r') as data:\n",
    "    string_data = data.read()\n",
    "    \n",
    "end = time.time()\n",
    "\n",
    "print(f\"\\nTXT Time to read: {round(end-start,5)} seconds.\")\n",
    "\n",
    "start=time.time()\n",
    "d = pd.read_csv('data.csv')\n",
    "end=time.time()\n",
    "\n",
    "print(f\"\\nCSV Time to read: {round(end-start,5)} seconds.\")\n",
    "\n",
    "start=time.time()\n",
    "data_array = np.load('data.npy')\n",
    "end=time.time()\n",
    "\n",
    "print(f\"\\nNPY Time to read: {round(end-start,5)} seconds.\")"
   ]
  },
  {
   "cell_type": "code",
   "execution_count": null,
   "metadata": {},
   "outputs": [],
   "source": []
  }
 ],
 "metadata": {
  "kernelspec": {
   "display_name": "Python 3",
   "language": "python",
   "name": "python3"
  },
  "language_info": {
   "codemirror_mode": {
    "name": "ipython",
    "version": 3
   },
   "file_extension": ".py",
   "mimetype": "text/x-python",
   "name": "python",
   "nbconvert_exporter": "python",
   "pygments_lexer": "ipython3",
   "version": "3.8.3"
  }
 },
 "nbformat": 4,
 "nbformat_minor": 4
}
